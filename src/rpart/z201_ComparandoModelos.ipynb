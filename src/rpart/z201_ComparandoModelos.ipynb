{
 "cells": [
  {
   "cell_type": "markdown",
   "metadata": {
    "id": "5DrvzQ9BsXmX"
   },
   "source": [
    "# Comparando Modelos"
   ]
  },
  {
   "cell_type": "markdown",
   "metadata": {
    "id": "Y2U9lu16sgta"
   },
   "source": [
    "Estamos en la  Clase 02\n",
    "<br> El objetivo de la materia es lograr la mejor predicción para nuestro probleama, para lo que se probarán pipelines con decenas de alternativas, será indispensable comparar varios modelos predictivos entre sí y decidir cual es el mejor\n",
    "<br> La tarea no es tan sencilla"
   ]
  },
  {
   "cell_type": "markdown",
   "metadata": {
    "id": "kmLygy1TYPfg"
   },
   "source": [
    "## Seteo del ambiente en Google Colab"
   ]
  },
  {
   "cell_type": "markdown",
   "metadata": {
    "id": "OikOm5K2YU3X"
   },
   "source": [
    "Esta parte se debe correr con el runtime en Python3\n",
    "<br>Ir al menu, Runtime -> Change Runtime Tipe -> Runtime type ->  **Python 3**"
   ]
  },
  {
   "cell_type": "markdown",
   "metadata": {
    "id": "4fmV5LyZdFyI"
   },
   "source": [
    "Conectar la virtual machine donde esta corriendo Google Colab con el  Google Drive, para poder tener persistencia de archivos"
   ]
  },
  {
   "cell_type": "code",
   "execution_count": null,
   "metadata": {
    "id": "ilEZ-bE2VybW"
   },
   "outputs": [],
   "source": [
    "# primero establecer el Runtime de Python 3\n",
    "from google.colab import drive\n",
    "drive.mount('/content/.drive')"
   ]
  },
  {
   "cell_type": "markdown",
   "metadata": {
    "id": "ilaKtqWldeWg"
   },
   "source": [
    "Para correr la siguiente celda es fundamental en Arranque en Frio haber copiado el archivo kaggle.json al Google Drive, en la carpeta indicada en el instructivo\n",
    "\n",
    "<br>los siguientes comando estan en shell script de Linux\n",
    "*   Crear las carpetas en el Google Drive\n",
    "*   \"instalar\" el archivo kaggle.json desde el Google Drive a la virtual machine para que pueda ser utilizado por la libreria  kaggle de Python\n",
    "*   Bajar el  **dataset_pequeno**  al  Google Drive  y tambien al disco local de la virtual machine que esta corriendo Google Colab\n",
    "\n"
   ]
  },
  {
   "cell_type": "code",
   "execution_count": null,
   "metadata": {
    "id": "W8dQFI5QYCFa"
   },
   "outputs": [],
   "source": [
    "%%shell\n",
    "\n",
    "mkdir -p \"/content/.drive/My Drive/dm\"\n",
    "mkdir -p \"/content/buckets\"\n",
    "ln -s \"/content/.drive/My Drive/dm\" /content/buckets/b1\n",
    "\n",
    "mkdir -p ~/.kaggle\n",
    "cp /content/buckets/b1/kaggle/kaggle.json  ~/.kaggle\n",
    "chmod 600 ~/.kaggle/kaggle.json\n",
    "\n",
    "\n",
    "mkdir -p /content/buckets/b1/exp\n",
    "mkdir -p /content/buckets/b1/datasets\n",
    "mkdir -p /content/datasets\n",
    "\n",
    "\n",
    "\n",
    "archivo_origen=\"https://storage.googleapis.com/open-courses/itba2025-8d0a/dataset_pequeno.csv\"\n",
    "archivo_destino=\"/content/datasets/dataset_pequeno.csv\"\n",
    "archivo_destino_bucket=\"/content/buckets/b1/datasets/dataset_pequeno.csv\"\n",
    "\n",
    "if ! test -f $archivo_destino_bucket; then\n",
    "  wget  $archivo_origen  -O $archivo_destino_bucket\n",
    "fi\n",
    "\n",
    "\n",
    "if ! test -f $archivo_destino; then\n",
    "  cp  $archivo_destino_bucket  $archivo_destino\n",
    "fi\n"
   ]
  },
  {
   "cell_type": "markdown",
   "metadata": {
    "id": "iV32-NeesVp6"
   },
   "source": [
    "# 1  Particion Training/Testing\n",
    "## Clase 02  Experimento 1"
   ]
  },
  {
   "cell_type": "markdown",
   "metadata": {
    "id": "84Pnj9gVwpXB"
   },
   "source": [
    "## 1.1  Objetivos\n",
    "Dado que es el primer experimento de la asignatura, acercar a l@s estudiantes las mejores prácticas de operación del ambiente de Google Cloud, realizando una minuciosa demostración en vivo narrando todas las consideraciones pertinentes para evitar accidentes, daños a terceros y a equipos.\n",
    "Dar soporte en el acto a  l@s estudiantes que necesitan ayuda para terminar de configurar el ambiente Google Cloud .\n",
    "<br>Repaso del concepto de  partición de un dataset al azar, estratificada en la clase\n",
    "<br>Dado que es el primer script que se mostrará en vivo a l@s estudiantes,  realizar una visita guiada del  mismo, su estructura y detalles.\n",
    "<br>Repaso del algoritmo Arbol de Decisión sus hiperparámetros, y la implementación con la librería  rpart.  Funciones  rpart::rpart  y rpart::predict\n",
    "<br>Concepto de replicabilidad de los experimentos mediante las semillas de los generadores de secuencias de números pseudoaleatorios.\n",
    "<br>Finalmente, el principal objetivo de este experimento es lograr que l@s estudiantes dimensionen la enorme variabilidad del error de medición de la ganancia de un árbol de decisión al realizar una partición <training, testing>,  contener la sorpresa de los estudiantes, descartar a la simple particion <training, testing> como método,  y construir en conjunto una solucion natural al problema."
   ]
  },
  {
   "cell_type": "markdown",
   "metadata": {
    "id": "L9Cn0WThw37Y"
   },
   "source": [
    "## 1.2 Introduccion"
   ]
  },
  {
   "cell_type": "markdown",
   "metadata": {
    "id": "ZELZ0R4itUVG"
   },
   "source": [
    "![Particiohn Training/Testing](https://storage.googleapis.com/open-courses/austral2025-af91/labo1r/C2_E1_particion.jpg)"
   ]
  },
  {
   "cell_type": "markdown",
   "metadata": {
    "id": "Wtc1ho58xLk-"
   },
   "source": [
    "![Dos tipos de error](https://storage.googleapis.com/open-courses/austral2025-af91/labo1r/C2_E1_target.jpg)"
   ]
  },
  {
   "cell_type": "markdown",
   "metadata": {
    "id": "oRWtRV34xZRT"
   },
   "source": [
    "## 1.3  Bibliografía\n",
    "\n",
    "Demšar, J. [Statistical comparisons of classifiers over multiple data sets](https://www.jmlr.org/papers/volume7/demsar06a/demsar06a.pdf) J. Mach. Learn. Res. 7, 1–30 (2006).   \n",
    "Starmer, J. [Machine Learning Fundamentals: Cross Validation](https://www.youtube.com/watch?v=fSytzGwwBVw)Machine Learning Fundamentals: Cross Validation, StatQuest with Josh Starmer youtube channel, (2018)\n",
    "Hastie, T.[The elements of statistical learning: data mining, inference, and prediction](https://hastie.su.domains/Papers/ESLII.pdf) , volume 2. Springer, 2009  ( Chapter 7 Model Assessment and Selection )"
   ]
  },
  {
   "cell_type": "markdown",
   "metadata": {
    "id": "VcgTQ2-Pyb8q"
   },
   "source": [
    "## 1.4 Codigo"
   ]
  },
  {
   "cell_type": "markdown",
   "metadata": {
    "id": "SBXPU-_tabMb"
   },
   "source": [
    "Esta parte se debe correr con el runtime en lenguaje **R** Ir al menu, Runtime -> Change Runtime Tipe -> Runtime type -> R"
   ]
  },
  {
   "cell_type": "markdown",
   "metadata": {
    "id": "SE94XRhWsxkX"
   },
   "source": [
    "limpio el ambiente de R"
   ]
  },
  {
   "cell_type": "code",
   "execution_count": null,
   "metadata": {
    "id": "oZG_4br6szlT"
   },
   "outputs": [],
   "source": [
    "# limpio la memoria\n",
    "rm(list=ls(all.names=TRUE)) # remove all objects\n",
    "gc(full=TRUE, verbose=FALSE) # garbage collection"
   ]
  },
  {
   "cell_type": "code",
   "execution_count": null,
   "metadata": {
    "id": "pJ8SsVA5ssnf"
   },
   "outputs": [],
   "source": [
    "Sys.time()"
   ]
  },
  {
   "cell_type": "markdown",
   "metadata": {
    "id": "3BrrQ47PeEb2"
   },
   "source": [
    "* Instalacion de la libreria  rpart.plot  para dibujar el arbol\n",
    "* invocacion de las librerias  **data.table** y  **rpart**"
   ]
  },
  {
   "cell_type": "code",
   "execution_count": 1,
   "metadata": {
    "id": "SxO-0Ql0khn6"
   },
   "outputs": [
    {
     "name": "stderr",
     "output_type": "stream",
     "text": [
      "Loading required package: data.table\n",
      "\n",
      "Loading required package: rpart\n",
      "\n"
     ]
    }
   ],
   "source": [
    "# cargo las librerias que necesito\n",
    "require(\"data.table\")\n",
    "require(\"rpart\")\n"
   ]
  },
  {
   "cell_type": "markdown",
   "metadata": {
    "id": "ZG9fCnZh3bWV"
   },
   "source": [
    "###  Accion a Realizar\n",
    "PARAM$semilla  debe tener su primer semilla aleatoria"
   ]
  },
  {
   "cell_type": "code",
   "execution_count": 2,
   "metadata": {
    "id": "0nx5_OcE3Y9c"
   },
   "outputs": [],
   "source": [
    "PARAM <- list()\n",
    "PARAM$semilla <- 500009  # aqui debe ir su primer semilla\n",
    "PARAM$training_pct <- 70L  # entre  1L y 99L\n",
    "\n",
    "PARAM$rpart <- list (\n",
    "  \"cp\" = -1, # complejidad minima\n",
    "  \"minsplit\" = 170, # minima cantidad de regs en un nodo para hacer el split\n",
    "  \"minbucket\" = 70, # minima cantidad de regs en una hoja\n",
    "  \"maxdepth\" = 7 # profundidad máxima del arbol\n",
    ")\n"
   ]
  },
  {
   "cell_type": "code",
   "execution_count": 3,
   "metadata": {
    "id": "8HLE9Dx80gjH"
   },
   "outputs": [],
   "source": [
    "# particionar agrega una columna llamada fold a un dataset\n",
    "#  que consiste en una particion estratificada segun agrupa\n",
    "\n",
    "# particionar( data=dataset, division=c(70,30),\n",
    "#  agrupa=clase_ternaria, seed=semilla)   crea una particion 70, 30\n",
    "\n",
    "particionar <- function(\n",
    "    data, division, agrupa = \"\",\n",
    "    campo = \"fold\", start = 1, seed = NA) {\n",
    "  if (!is.na(seed)) set.seed(seed)\n",
    "\n",
    "  bloque <- unlist(mapply(function(x, y) {\n",
    "    rep(y, x)\n",
    "  }, division, seq(from = start, length.out = length(division))))\n",
    "\n",
    "  data[, (campo) := sample(rep(bloque, ceiling(.N / length(bloque))))[1:.N],\n",
    "    by = agrupa\n",
    "  ]\n",
    "}\n"
   ]
  },
  {
   "cell_type": "code",
   "execution_count": 4,
   "metadata": {
    "id": "sC4_nqcm0nUs"
   },
   "outputs": [],
   "source": [
    "# carpeta de trabajo\n",
    "setwd(\"/content/buckets/b1/exp\")\n",
    "experimento <- \"exp201\"\n",
    "dir.create(experimento, showWarnings=FALSE)\n",
    "setwd( paste0(\"/content/buckets/b1/exp/\", experimento ))"
   ]
  },
  {
   "cell_type": "code",
   "execution_count": 5,
   "metadata": {
    "id": "6yIEsZOw07q8"
   },
   "outputs": [],
   "source": [
    "# lectura del dataset\n",
    "dataset <- fread(\"/content/datasets/dataset_pequeno.csv\")\n",
    "\n",
    "# trabajo solo con los datos con clase, es decir 202107\n",
    "dataset <- dataset[clase_ternaria != \"\"]"
   ]
  },
  {
   "cell_type": "code",
   "execution_count": 7,
   "metadata": {
    "id": "FAO1Hhd52b5d"
   },
   "outputs": [],
   "source": [
    "# particiono estratificadamente el dataset 70%, 30%\n",
    "particionar(dataset,\n",
    "  division = c(PARAM$training_pct, 100L -PARAM$training_pct),\n",
    "  agrupa = \"clase_ternaria\",\n",
    "  seed = PARAM$semilla # aqui se usa SU semilla\n",
    ")"
   ]
  },
  {
   "cell_type": "code",
   "execution_count": 8,
   "metadata": {
    "id": "s3UnHSLP2gN6"
   },
   "outputs": [],
   "source": [
    "# genero el modelo\n",
    "# quiero predecir clase_ternaria a partir del resto\n",
    "# fold==1  es training,  el 70% de los datos\n",
    "modelo <- rpart(\"clase_ternaria ~ .\",\n",
    "  data = dataset[fold == 1],  # fold==1  es training, el 70% de los datos\n",
    "  xval = 0,\n",
    "  control = PARAM$rpart # aqui van los parametros\n",
    ")\n"
   ]
  },
  {
   "cell_type": "code",
   "execution_count": 9,
   "metadata": {
    "id": "paQphV4A2jGz"
   },
   "outputs": [],
   "source": [
    "# aplico el modelo a los datos de testing\n",
    "prediccion <- predict(modelo, # el modelo que genere recien\n",
    "  dataset[fold == 2], # fold==2  es testing, el 30% de los datos\n",
    "  type = \"prob\"\n",
    ") # type= \"prob\"  es que devuelva la probabilidad\n"
   ]
  },
  {
   "cell_type": "code",
   "execution_count": 10,
   "metadata": {
    "id": "fuLZ75pA29dT"
   },
   "outputs": [],
   "source": [
    "tb_prediccion <- as.data.table(list(\n",
    "  \"clase_ternaria\"=dataset[fold == 2, clase_ternaria],\n",
    "  \"prob\"=prediccion[, \"BAJA+2\"]\n",
    "))"
   ]
  },
  {
   "cell_type": "code",
   "execution_count": 11,
   "metadata": {
    "id": "LuG6ql_t3kOI"
   },
   "outputs": [],
   "source": [
    "# calculo la ganancia de cada registro\n",
    "tb_prediccion[, ganancia := ifelse(clase_ternaria == \"BAJA+2\", 117000, -3000)]"
   ]
  },
  {
   "cell_type": "code",
   "execution_count": 12,
   "metadata": {
    "id": "xJ3WTMez3leO"
   },
   "outputs": [],
   "source": [
    "# calculo la clase\n",
    "tb_prediccion[, Predicted := prob > (1/40) ]"
   ]
  },
  {
   "cell_type": "code",
   "execution_count": 13,
   "metadata": {
    "id": "cFQPacen4Wq6"
   },
   "outputs": [],
   "source": [
    "ganancia_test <-  tb_prediccion[ Predicted==TRUE,  sum(ganancia)]"
   ]
  },
  {
   "cell_type": "code",
   "execution_count": 14,
   "metadata": {
    "id": "dHjz0zhN4-nZ"
   },
   "outputs": [],
   "source": [
    "# normalizo la ganancia\n",
    "ganancia_test_normalizada <- ganancia_test / (( 100 - PARAM$training_pct ) / 100 )"
   ]
  },
  {
   "cell_type": "code",
   "execution_count": 15,
   "metadata": {
    "id": "D7RUdTb95F6B"
   },
   "outputs": [],
   "source": [
    "estimulos <- tb_prediccion[ Predicted==TRUE, .N]\n",
    "aciertos <- tb_prediccion[ Predicted & clase_ternaria == \"BAJA+2\", .N]\n"
   ]
  },
  {
   "cell_type": "code",
   "execution_count": 16,
   "metadata": {
    "id": "Lu1KM6fy5U7h"
   },
   "outputs": [
    {
     "name": "stdout",
     "output_type": "stream",
     "text": [
      "Testing total:  49380 \n",
      "Testing BAJA+2:  383 \n",
      "Estimulos:  3637 \n",
      "Aciertos (BAJA+2):  227 \n",
      "Ganancia en testing (normalizada):  54430000 \n"
     ]
    }
   ],
   "source": [
    "# Resultado Final\n",
    "cat(\"Testing total: \", dataset[fold == 2, .N], \"\\n\")\n",
    "cat(\"Testing BAJA+2: \", dataset[fold == 2 & clase_ternaria == \"BAJA+2\", .N], \"\\n\")\n",
    "\n",
    "cat(\"Estimulos: \", estimulos, \"\\n\")\n",
    "cat(\"Aciertos (BAJA+2): \", aciertos, \"\\n\")\n",
    "\n",
    "cat(\"Ganancia en testing (normalizada): \", ganancia_test_normalizada, \"\\n\")\n"
   ]
  },
  {
   "cell_type": "markdown",
   "metadata": {
    "id": "kHs-YoFB5rUa"
   },
   "source": [
    "### Acciones a realizar\n",
    "* Reportar la  *Ganancia en testing (normalizada)* <br> en la planilla colaborativa hoja  **C2-1sem**\n",
    "* Se discutirá en clase la variabilidad de las ganancias obtenidas de distintos alumnos"
   ]
  },
  {
   "cell_type": "markdown",
   "metadata": {
    "id": "LBl_eIeO7WuM"
   },
   "source": [
    "\n",
    "\n",
    "---\n",
    "\n"
   ]
  },
  {
   "cell_type": "markdown",
   "metadata": {
    "id": "h43UCq9y7UlT"
   },
   "source": [
    "# 2  Medición Monte Carlo Cross Validation\n",
    "## Clase 02  Experimento 2"
   ]
  },
  {
   "cell_type": "markdown",
   "metadata": {
    "id": "wHPchGXK80VU"
   },
   "source": [
    "## 2.1  Objetivos\n",
    "Mostrar el funcionamiento de la Montecarlo Cross Validation y que l@s estudiantes aprecien la disminución de la varianza de dicha metodología.\n",
    "Relación con el Teorema Central del Límite"
   ]
  },
  {
   "cell_type": "markdown",
   "metadata": {
    "id": "g6YzACxl9DzS"
   },
   "source": [
    "## 2.2 Introduccion\n",
    "\n",
    "![Montecarlo](https://storage.googleapis.com/open-courses/austral2025-af91/labo1r/C2_E2_montecarlo.jpg)\n",
    "\n",
    "![Curva normal](https://storage.googleapis.com/open-courses/austral2025-af91/labo1r/C2_E2_normal.jpg)\n",
    "\n",
    "![Teorema Central del Limite](https://storage.googleapis.com/open-courses/austral2025-af91/labo1r/C2_E2_teoremacentralLimite.jpg)\n",
    "\n"
   ]
  },
  {
   "cell_type": "markdown",
   "metadata": {
    "id": "7laod2t4ArsH"
   },
   "source": []
  },
  {
   "cell_type": "markdown",
   "metadata": {
    "id": "lFcJeRAkAr-q"
   },
   "source": [
    "## 2.3  Bibliografía\n",
    "\n",
    "Demšar, J. [Statistical comparisons of classifiers over multiple data sets](https://www.jmlr.org/papers/volume7/demsar06a/demsar06a.pdf) J. Mach. Learn. Res. 7, 1–30 (2006).   \n",
    "Starmer, J. [Machine Learning Fundamentals: Cross Validation](https://www.youtube.com/watch?v=fSytzGwwBVw)Machine Learning Fundamentals: Cross Validation, StatQuest with Josh Starmer youtube channel, (2018)\n",
    "Hastie, T.[The elements of statistical learning: data mining, inference, and prediction](https://hastie.su.domains/Papers/ESLII.pdf) , volume 2. Springer, 2009  ( Chapter 7 Model Assessment and Selection )"
   ]
  },
  {
   "cell_type": "code",
   "execution_count": null,
   "metadata": {
    "id": "KXSuYXQ26cLV"
   },
   "outputs": [],
   "source": []
  },
  {
   "cell_type": "markdown",
   "metadata": {
    "id": "0ztZzYolA2WK"
   },
   "source": [
    "## 2.4 Codigo  Montecarlo"
   ]
  },
  {
   "cell_type": "markdown",
   "metadata": {
    "id": "KLa06ZsiC-Oz"
   },
   "source": [
    "El código de la Montecarlo Cross Validation es notablemente más complejo que el anterior de una simple partición training/testing\n",
    "<br> Se crea la funcion ArbolEstimarGanancia()  que dada una semilla realiza la partición  training/testing, entrena en training, aplica el modelo a testing, y se calculan las ganancias\n",
    "<br> Se utiliza la funcion **mcmapply**  de R para aplicar ArbolEstimarGanancia a todos los elementos del vector de semillas"
   ]
  },
  {
   "cell_type": "markdown",
   "metadata": {
    "id": "ivFiBBOQA2Ws"
   },
   "source": [
    "Esta parte se debe correr con el runtime en lenguaje **R** Ir al menu, Runtime -> Change Runtime Tipe -> Runtime type -> R"
   ]
  },
  {
   "cell_type": "markdown",
   "metadata": {
    "id": "TMSAQDXuA2Ws"
   },
   "source": [
    "limpio el ambiente de R"
   ]
  },
  {
   "cell_type": "code",
   "execution_count": 17,
   "metadata": {
    "id": "eakzb8y2A2Wt"
   },
   "outputs": [
    {
     "data": {
      "text/html": [
       "<table class=\"dataframe\">\n",
       "<caption>A matrix: 2 × 6 of type dbl</caption>\n",
       "<thead>\n",
       "\t<tr><th></th><th scope=col>used</th><th scope=col>(Mb)</th><th scope=col>gc trigger</th><th scope=col>(Mb)</th><th scope=col>max used</th><th scope=col>(Mb)</th></tr>\n",
       "</thead>\n",
       "<tbody>\n",
       "\t<tr><th scope=row>Ncells</th><td> 735563</td><td>39.3</td><td> 1439374</td><td> 76.9</td><td>  1439374</td><td> 76.9</td></tr>\n",
       "\t<tr><th scope=row>Vcells</th><td>1418236</td><td>10.9</td><td>84872624</td><td>647.6</td><td>103895996</td><td>792.7</td></tr>\n",
       "</tbody>\n",
       "</table>\n"
      ],
      "text/latex": [
       "A matrix: 2 × 6 of type dbl\n",
       "\\begin{tabular}{r|llllll}\n",
       "  & used & (Mb) & gc trigger & (Mb) & max used & (Mb)\\\\\n",
       "\\hline\n",
       "\tNcells &  735563 & 39.3 &  1439374 &  76.9 &   1439374 &  76.9\\\\\n",
       "\tVcells & 1418236 & 10.9 & 84872624 & 647.6 & 103895996 & 792.7\\\\\n",
       "\\end{tabular}\n"
      ],
      "text/markdown": [
       "\n",
       "A matrix: 2 × 6 of type dbl\n",
       "\n",
       "| <!--/--> | used | (Mb) | gc trigger | (Mb) | max used | (Mb) |\n",
       "|---|---|---|---|---|---|---|\n",
       "| Ncells |  735563 | 39.3 |  1439374 |  76.9 |   1439374 |  76.9 |\n",
       "| Vcells | 1418236 | 10.9 | 84872624 | 647.6 | 103895996 | 792.7 |\n",
       "\n"
      ],
      "text/plain": [
       "       used    (Mb) gc trigger (Mb)  max used  (Mb) \n",
       "Ncells  735563 39.3  1439374    76.9   1439374  76.9\n",
       "Vcells 1418236 10.9 84872624   647.6 103895996 792.7"
      ]
     },
     "metadata": {},
     "output_type": "display_data"
    }
   ],
   "source": [
    "# limpio la memoria\n",
    "rm(list=ls(all.names=TRUE)) # remove all objects\n",
    "gc(full=TRUE, verbose=FALSE) # garbage collection"
   ]
  },
  {
   "cell_type": "markdown",
   "metadata": {
    "id": "559RkeYZA2Wv"
   },
   "source": [
    "* Instalacion de la libreria  rpart.plot  para dibujar el arbol\n",
    "* invocacion de las librerias  **data.table** y  **rpart**"
   ]
  },
  {
   "cell_type": "code",
   "execution_count": 18,
   "metadata": {
    "id": "yf_S_HlsA2Wv"
   },
   "outputs": [
    {
     "name": "stderr",
     "output_type": "stream",
     "text": [
      "Loading required package: parallel\n",
      "\n"
     ]
    }
   ],
   "source": [
    "# cargo las librerias que necesito\n",
    "require(\"data.table\")\n",
    "require(\"rpart\")\n",
    "require(\"parallel\")"
   ]
  },
  {
   "cell_type": "markdown",
   "metadata": {
    "id": "a4oz2ulCA2Ww"
   },
   "source": [
    "###  Accion a Realizar\n",
    "PARAM$semillas  debe tener sus cinco semillas aleatorias"
   ]
  },
  {
   "cell_type": "code",
   "execution_count": 19,
   "metadata": {
    "id": "yQ2OAP5AA2Wx"
   },
   "outputs": [],
   "source": [
    "PARAM <- list()\n",
    "PARAM$semillas <- c(500009, 500029, 500041, 500057, 500069)  # aqui debe ir sus CINCO\n",
    "PARAM$training_pct <- 70L  # entre  1L y 99L\n",
    "\n",
    "PARAM$rpart <- list (\n",
    "  \"cp\" = -1, # complejidad minima\n",
    "  \"minsplit\" = 170, # minima cantidad de regs en un nodo para hacer el split\n",
    "  \"minbucket\" = 70, # minima cantidad de regs en una hoja\n",
    "  \"maxdepth\" = 7 # profundidad máxima del arbol\n",
    ")\n"
   ]
  },
  {
   "cell_type": "code",
   "execution_count": 25,
   "metadata": {
    "id": "97dMCVJWA2Wy"
   },
   "outputs": [],
   "source": [
    "# particionar agrega una columna llamada fold a un dataset\n",
    "#  que consiste en una particion estratificada segun agrupa\n",
    "\n",
    "# particionar( data=dataset, division=c(70,30),\n",
    "#  agrupa=clase_ternaria, seed=semilla)   crea una particion 70, 30\n",
    "\n",
    "particionar <- function(\n",
    "    data, division, agrupa = \"\",\n",
    "    campo = \"fold\", start = 1, seed = NA) {\n",
    "  if (!is.na(seed)) set.seed(seed)\n",
    "\n",
    "  bloque <- unlist(mapply(function(x, y) {\n",
    "    rep(y, x)\n",
    "  }, division, seq(from = start, length.out = length(division))))\n",
    "\n",
    "  data[, (campo) := sample(rep(bloque, ceiling(.N / length(bloque))))[1:.N],\n",
    "    by = agrupa\n",
    "  ]\n",
    "}\n"
   ]
  },
  {
   "cell_type": "code",
   "execution_count": 20,
   "metadata": {
    "id": "GroZSZoVBuZ5"
   },
   "outputs": [],
   "source": [
    "\n",
    "ArbolEstimarGanancia <- function(semilla, param_basicos) {\n",
    "  # particiono estratificadamente el dataset\n",
    "  particionar(dataset,\n",
    "    division = c(param_basicos$training_pct, 100L -param_basicos$training_pct),\n",
    "    agrupa = \"clase_ternaria\",\n",
    "    seed = semilla # aqui se usa SU semilla\n",
    "  )\n",
    "\n",
    "  # genero el modelo\n",
    "  # predecir clase_ternaria a partir del resto\n",
    "  modelo <- rpart(\"clase_ternaria ~ .\",\n",
    "    data = dataset[fold == 1], # fold==1  es training,  el 70% de los datos\n",
    "    xval = 0,\n",
    "    control = param_basicos$rpart\n",
    "  ) # aqui van los parametros del arbol\n",
    "\n",
    "  # aplico el modelo a los datos de testing\n",
    "  prediccion <- predict(modelo, # el modelo que genere recien\n",
    "    dataset[fold == 2], # fold==2  es testing, el 30% de los datos\n",
    "    type = \"prob\"\n",
    "  ) # type= \"prob\"  es que devuelva la probabilidad\n",
    "\n",
    "  # prediccion es una matriz con TRES columnas,\n",
    "  #  llamadas \"BAJA+1\", \"BAJA+2\"  y \"CONTINUA\"\n",
    "  # cada columna es el vector de probabilidades\n",
    "\n",
    "\n",
    "  # calculo la ganancia en testing  qu es fold==2\n",
    "  ganancia_test <- dataset[\n",
    "    fold == 2,\n",
    "    sum(ifelse(prediccion[, \"BAJA+2\"] > 0.025,\n",
    "      ifelse(clase_ternaria == \"BAJA+2\", 117000, -3000),\n",
    "      0\n",
    "    ))\n",
    "  ]\n",
    "\n",
    "  # escalo la ganancia como si fuera todo el dataset\n",
    "  ganancia_test_normalizada <- ganancia_test / (( 100 - PARAM$training_pct ) / 100 )\n",
    "\n",
    "  return(list(\n",
    "    \"semilla\" = semilla,\n",
    "    \"testing\" = dataset[fold == 2, .N],\n",
    "    \"testing_pos\" = dataset[fold == 2 & clase_ternaria == \"BAJA+2\", .N],\n",
    "    \"envios\" = dataset[fold == 2, sum(prediccion[, \"BAJA+2\"] > 0.025)],\n",
    "    \"aciertos\" = dataset[\n",
    "        fold == 2,\n",
    "        sum(prediccion[, \"BAJA+2\"] > 0.025 & clase_ternaria == \"BAJA+2\")\n",
    "    ],\n",
    "    \"ganancia_test\" = ganancia_test_normalizada\n",
    "  ))\n",
    "}\n"
   ]
  },
  {
   "cell_type": "code",
   "execution_count": 26,
   "metadata": {
    "id": "dJIBIX6kA2Wy"
   },
   "outputs": [],
   "source": [
    "# carpeta de trabajo\n",
    "setwd(\"/content/buckets/b1/exp\")\n",
    "experimento <- \"exp202\"\n",
    "dir.create(experimento, showWarnings=FALSE)\n",
    "setwd( paste0(\"/content/buckets/b1/exp/\", experimento ))"
   ]
  },
  {
   "cell_type": "code",
   "execution_count": 27,
   "metadata": {
    "id": "tKiACdU2A2Wz"
   },
   "outputs": [],
   "source": [
    "# lectura del dataset\n",
    "dataset <- fread(\"/content/datasets/dataset_pequeno.csv\")\n",
    "\n",
    "# trabajo solo con los datos con clase, es decir 202107\n",
    "dataset <- dataset[clase_ternaria != \"\"]"
   ]
  },
  {
   "cell_type": "code",
   "execution_count": 28,
   "metadata": {
    "id": "64OdfeyxCMDF"
   },
   "outputs": [
    {
     "data": {
      "text/html": [
       "<ol>\n",
       "\t<li><dl>\n",
       "\t<dt>$semilla</dt>\n",
       "\t\t<dd>500009</dd>\n",
       "\t<dt>$testing</dt>\n",
       "\t\t<dd>49380</dd>\n",
       "\t<dt>$testing_pos</dt>\n",
       "\t\t<dd>383</dd>\n",
       "\t<dt>$envios</dt>\n",
       "\t\t<dd>3637</dd>\n",
       "\t<dt>$aciertos</dt>\n",
       "\t\t<dd>227</dd>\n",
       "\t<dt>$ganancia_test</dt>\n",
       "\t\t<dd>54430000</dd>\n",
       "</dl>\n",
       "</li>\n",
       "\t<li><dl>\n",
       "\t<dt>$semilla</dt>\n",
       "\t\t<dd>500029</dd>\n",
       "\t<dt>$testing</dt>\n",
       "\t\t<dd>49387</dd>\n",
       "\t<dt>$testing_pos</dt>\n",
       "\t\t<dd>374</dd>\n",
       "\t<dt>$envios</dt>\n",
       "\t\t<dd>2999</dd>\n",
       "\t<dt>$aciertos</dt>\n",
       "\t\t<dd>184</dd>\n",
       "\t<dt>$ganancia_test</dt>\n",
       "\t\t<dd>43610000</dd>\n",
       "</dl>\n",
       "</li>\n",
       "\t<li><dl>\n",
       "\t<dt>$semilla</dt>\n",
       "\t\t<dd>500041</dd>\n",
       "\t<dt>$testing</dt>\n",
       "\t\t<dd>49380</dd>\n",
       "\t<dt>$testing_pos</dt>\n",
       "\t\t<dd>373</dd>\n",
       "\t<dt>$envios</dt>\n",
       "\t\t<dd>2651</dd>\n",
       "\t<dt>$aciertos</dt>\n",
       "\t\t<dd>180</dd>\n",
       "\t<dt>$ganancia_test</dt>\n",
       "\t\t<dd>45490000</dd>\n",
       "</dl>\n",
       "</li>\n",
       "\t<li><dl>\n",
       "\t<dt>$semilla</dt>\n",
       "\t\t<dd>500057</dd>\n",
       "\t<dt>$testing</dt>\n",
       "\t\t<dd>49383</dd>\n",
       "\t<dt>$testing_pos</dt>\n",
       "\t\t<dd>381</dd>\n",
       "\t<dt>$envios</dt>\n",
       "\t\t<dd>3273</dd>\n",
       "\t<dt>$aciertos</dt>\n",
       "\t\t<dd>192</dd>\n",
       "\t<dt>$ganancia_test</dt>\n",
       "\t\t<dd>44070000</dd>\n",
       "</dl>\n",
       "</li>\n",
       "\t<li><dl>\n",
       "\t<dt>$semilla</dt>\n",
       "\t\t<dd>500069</dd>\n",
       "\t<dt>$testing</dt>\n",
       "\t\t<dd>49376</dd>\n",
       "\t<dt>$testing_pos</dt>\n",
       "\t\t<dd>378</dd>\n",
       "\t<dt>$envios</dt>\n",
       "\t\t<dd>3262</dd>\n",
       "\t<dt>$aciertos</dt>\n",
       "\t\t<dd>218</dd>\n",
       "\t<dt>$ganancia_test</dt>\n",
       "\t\t<dd>54580000</dd>\n",
       "</dl>\n",
       "</li>\n",
       "</ol>\n"
      ],
      "text/latex": [
       "\\begin{enumerate}\n",
       "\\item \\begin{description}\n",
       "\\item[\\$semilla] 500009\n",
       "\\item[\\$testing] 49380\n",
       "\\item[\\$testing\\_pos] 383\n",
       "\\item[\\$envios] 3637\n",
       "\\item[\\$aciertos] 227\n",
       "\\item[\\$ganancia\\_test] 54430000\n",
       "\\end{description}\n",
       "\n",
       "\\item \\begin{description}\n",
       "\\item[\\$semilla] 500029\n",
       "\\item[\\$testing] 49387\n",
       "\\item[\\$testing\\_pos] 374\n",
       "\\item[\\$envios] 2999\n",
       "\\item[\\$aciertos] 184\n",
       "\\item[\\$ganancia\\_test] 43610000\n",
       "\\end{description}\n",
       "\n",
       "\\item \\begin{description}\n",
       "\\item[\\$semilla] 500041\n",
       "\\item[\\$testing] 49380\n",
       "\\item[\\$testing\\_pos] 373\n",
       "\\item[\\$envios] 2651\n",
       "\\item[\\$aciertos] 180\n",
       "\\item[\\$ganancia\\_test] 45490000\n",
       "\\end{description}\n",
       "\n",
       "\\item \\begin{description}\n",
       "\\item[\\$semilla] 500057\n",
       "\\item[\\$testing] 49383\n",
       "\\item[\\$testing\\_pos] 381\n",
       "\\item[\\$envios] 3273\n",
       "\\item[\\$aciertos] 192\n",
       "\\item[\\$ganancia\\_test] 44070000\n",
       "\\end{description}\n",
       "\n",
       "\\item \\begin{description}\n",
       "\\item[\\$semilla] 500069\n",
       "\\item[\\$testing] 49376\n",
       "\\item[\\$testing\\_pos] 378\n",
       "\\item[\\$envios] 3262\n",
       "\\item[\\$aciertos] 218\n",
       "\\item[\\$ganancia\\_test] 54580000\n",
       "\\end{description}\n",
       "\n",
       "\\end{enumerate}\n"
      ],
      "text/markdown": [
       "1. $semilla\n",
       ":   500009\n",
       "$testing\n",
       ":   49380\n",
       "$testing_pos\n",
       ":   383\n",
       "$envios\n",
       ":   3637\n",
       "$aciertos\n",
       ":   227\n",
       "$ganancia_test\n",
       ":   54430000\n",
       "\n",
       "\n",
       "\n",
       "2. $semilla\n",
       ":   500029\n",
       "$testing\n",
       ":   49387\n",
       "$testing_pos\n",
       ":   374\n",
       "$envios\n",
       ":   2999\n",
       "$aciertos\n",
       ":   184\n",
       "$ganancia_test\n",
       ":   43610000\n",
       "\n",
       "\n",
       "\n",
       "3. $semilla\n",
       ":   500041\n",
       "$testing\n",
       ":   49380\n",
       "$testing_pos\n",
       ":   373\n",
       "$envios\n",
       ":   2651\n",
       "$aciertos\n",
       ":   180\n",
       "$ganancia_test\n",
       ":   45490000\n",
       "\n",
       "\n",
       "\n",
       "4. $semilla\n",
       ":   500057\n",
       "$testing\n",
       ":   49383\n",
       "$testing_pos\n",
       ":   381\n",
       "$envios\n",
       ":   3273\n",
       "$aciertos\n",
       ":   192\n",
       "$ganancia_test\n",
       ":   44070000\n",
       "\n",
       "\n",
       "\n",
       "5. $semilla\n",
       ":   500069\n",
       "$testing\n",
       ":   49376\n",
       "$testing_pos\n",
       ":   378\n",
       "$envios\n",
       ":   3262\n",
       "$aciertos\n",
       ":   218\n",
       "$ganancia_test\n",
       ":   54580000\n",
       "\n",
       "\n",
       "\n",
       "\n",
       "\n"
      ],
      "text/plain": [
       "[[1]]\n",
       "[[1]]$semilla\n",
       "[1] 500009\n",
       "\n",
       "[[1]]$testing\n",
       "[1] 49380\n",
       "\n",
       "[[1]]$testing_pos\n",
       "[1] 383\n",
       "\n",
       "[[1]]$envios\n",
       "[1] 3637\n",
       "\n",
       "[[1]]$aciertos\n",
       "[1] 227\n",
       "\n",
       "[[1]]$ganancia_test\n",
       "[1] 54430000\n",
       "\n",
       "\n",
       "[[2]]\n",
       "[[2]]$semilla\n",
       "[1] 500029\n",
       "\n",
       "[[2]]$testing\n",
       "[1] 49387\n",
       "\n",
       "[[2]]$testing_pos\n",
       "[1] 374\n",
       "\n",
       "[[2]]$envios\n",
       "[1] 2999\n",
       "\n",
       "[[2]]$aciertos\n",
       "[1] 184\n",
       "\n",
       "[[2]]$ganancia_test\n",
       "[1] 43610000\n",
       "\n",
       "\n",
       "[[3]]\n",
       "[[3]]$semilla\n",
       "[1] 500041\n",
       "\n",
       "[[3]]$testing\n",
       "[1] 49380\n",
       "\n",
       "[[3]]$testing_pos\n",
       "[1] 373\n",
       "\n",
       "[[3]]$envios\n",
       "[1] 2651\n",
       "\n",
       "[[3]]$aciertos\n",
       "[1] 180\n",
       "\n",
       "[[3]]$ganancia_test\n",
       "[1] 45490000\n",
       "\n",
       "\n",
       "[[4]]\n",
       "[[4]]$semilla\n",
       "[1] 500057\n",
       "\n",
       "[[4]]$testing\n",
       "[1] 49383\n",
       "\n",
       "[[4]]$testing_pos\n",
       "[1] 381\n",
       "\n",
       "[[4]]$envios\n",
       "[1] 3273\n",
       "\n",
       "[[4]]$aciertos\n",
       "[1] 192\n",
       "\n",
       "[[4]]$ganancia_test\n",
       "[1] 44070000\n",
       "\n",
       "\n",
       "[[5]]\n",
       "[[5]]$semilla\n",
       "[1] 500069\n",
       "\n",
       "[[5]]$testing\n",
       "[1] 49376\n",
       "\n",
       "[[5]]$testing_pos\n",
       "[1] 378\n",
       "\n",
       "[[5]]$envios\n",
       "[1] 3262\n",
       "\n",
       "[[5]]$aciertos\n",
       "[1] 218\n",
       "\n",
       "[[5]]$ganancia_test\n",
       "[1] 54580000\n",
       "\n"
      ]
     },
     "metadata": {},
     "output_type": "display_data"
    }
   ],
   "source": [
    "\n",
    "# la funcion mcmapply  llama a la funcion ArbolEstimarGanancia\n",
    "#  tantas veces como valores tenga el vector  PARAM$semillas\n",
    "salidas <- mcmapply(ArbolEstimarGanancia,\n",
    "  PARAM$semillas, # paso el vector de semillas\n",
    "  MoreArgs = list(PARAM), # aqui paso el segundo parametro\n",
    "  SIMPLIFY = FALSE,\n",
    "  mc.cores = detectCores()\n",
    ")\n",
    "\n",
    "# muestro la lista de las salidas en testing\n",
    "#  para la particion realizada con cada semilla\n",
    "salidas\n"
   ]
  },
  {
   "cell_type": "code",
   "execution_count": 29,
   "metadata": {
    "id": "tML9VmH2ECFK"
   },
   "outputs": [
    {
     "name": "stdout",
     "output_type": "stream",
     "text": [
      "   semilla testing testing_pos envios aciertos ganancia_test\n",
      "     <num>   <int>       <int>  <int>    <int>         <num>\n",
      "1:  500009   49380         383   3637      227      54430000\n",
      "2:  500029   49387         374   2999      184      43610000\n",
      "3:  500041   49380         373   2651      180      45490000\n",
      "4:  500057   49383         381   3273      192      44070000\n",
      "5:  500069   49376         378   3262      218      54580000\n"
     ]
    }
   ],
   "source": [
    "# paso la lista a vector\n",
    "tb_salida <- rbindlist(salidas)\n",
    "print( tb_salida)"
   ]
  },
  {
   "cell_type": "code",
   "execution_count": 30,
   "metadata": {
    "id": "rbHXPfoVENQB"
   },
   "outputs": [
    {
     "name": "stdout",
     "output_type": "stream",
     "text": [
      "ganancia promedio:  48436000 \n"
     ]
    }
   ],
   "source": [
    "# finalmente calculo la media (promedio)  de las ganancias\n",
    "cat( \"ganancia promedio: \", tb_salida[, mean(ganancia_test)], \"\\n\" )"
   ]
  },
  {
   "cell_type": "markdown",
   "metadata": {
    "id": "_3xVH6UKA2W6"
   },
   "source": [
    "### Acciones a realizar\n",
    "* Reportar la  *Ganancia Promedio* <br> en la planilla colaborativa hoja  **C2-5sem**\n",
    "* Se discutirá en clase la variabilidad de estos \"ganancia promedio de cinco semillas\""
   ]
  },
  {
   "cell_type": "markdown",
   "metadata": {
    "id": "N29m1XGpA2W7"
   },
   "source": [
    "\n",
    "\n",
    "---\n",
    "\n"
   ]
  },
  {
   "cell_type": "markdown",
   "metadata": {
    "id": "zS7WIJciFGc6"
   },
   "source": [
    "# 3  Generando n semillas en forma automatica\n",
    "## Clase 02  Experimento 3"
   ]
  },
  {
   "cell_type": "markdown",
   "metadata": {
    "id": "VmiFDDDJFUEo"
   },
   "source": [
    "## 3.1  Objetivos\n",
    "Mostrar la creación de nuevas semillas a partir de la librería Primes"
   ]
  },
  {
   "cell_type": "markdown",
   "metadata": {
    "id": "Ehe3VfdfFbvg"
   },
   "source": [
    "3.2  Código\n",
    "\n",
    "Como generar muchas semillas a partir de una"
   ]
  },
  {
   "cell_type": "code",
   "execution_count": 31,
   "metadata": {
    "id": "X6_dE42yF2-t"
   },
   "outputs": [
    {
     "name": "stderr",
     "output_type": "stream",
     "text": [
      "Loading required package: primes\n",
      "\n"
     ]
    }
   ],
   "source": [
    "# instalo y cargo la libreria  primes\n",
    "if (!require(\"primes\")) install.packages(\"primes\")\n",
    "require(\"primes\")"
   ]
  },
  {
   "cell_type": "code",
   "execution_count": 33,
   "metadata": {
    "id": "yDU9RyV4FNhZ"
   },
   "outputs": [
    {
     "name": "stdout",
     "output_type": "stream",
     "text": [
      " [1] 107449 906473 990887 362093 203549 956387 766163 460951 936281 230357\n",
      "[11] 144071 585367 415381 121963 640727 222619 714169 820051 821263 305611\n"
     ]
    }
   ],
   "source": [
    "# genero numeros primos\n",
    "primos <- generate_primes(min = 100000, max = 1000000)\n",
    "\n",
    "\n",
    "set.seed(500009) # inicializo con mi primer semilla\n",
    "\n",
    "# me quedo con por ejemplo 20 primos al azar\n",
    "semillas <- sample(primos, 20 )\n",
    "\n",
    "print( semillas )"
   ]
  },
  {
   "cell_type": "markdown",
   "metadata": {
    "id": "eD_cO5VTGGea"
   },
   "source": [
    "\n",
    "\n",
    "---\n",
    "\n"
   ]
  },
  {
   "cell_type": "code",
   "execution_count": null,
   "metadata": {
    "id": "k-rgoA2ZFll4"
   },
   "outputs": [],
   "source": []
  },
  {
   "cell_type": "markdown",
   "metadata": {
    "id": "cZi29THsGil_"
   },
   "source": [
    "# 4  Medición  50-Monte Carlo Cross Validation\n",
    "## Clase 02  Experimento 4"
   ]
  },
  {
   "cell_type": "markdown",
   "metadata": {
    "id": "qFNq6ntVGimN"
   },
   "source": [
    "## 4.1  Objetivos\n",
    "Calcular la ganancia del modelo utilizando 50 semillas nuevas generadas a partir de mi semilla primigenia."
   ]
  },
  {
   "cell_type": "markdown",
   "metadata": {
    "id": "B6KtuhQCGimP"
   },
   "source": [
    "## 4.4 Codigo  50 Montecarlo"
   ]
  },
  {
   "cell_type": "markdown",
   "metadata": {
    "id": "LgGgjPQuGimP"
   },
   "source": [
    "Esta parte se debe correr con el runtime en lenguaje **R** Ir al menu, Runtime -> Change Runtime Tipe -> Runtime type -> R"
   ]
  },
  {
   "cell_type": "markdown",
   "metadata": {
    "id": "E82ChuO25OYx"
   },
   "source": [
    "Este punto demora en correr 60 minutos en Google Colab, con lo cual para continuar con el punto siguiente deberá abrir un nuevo Colab"
   ]
  },
  {
   "cell_type": "markdown",
   "metadata": {
    "id": "a6AxqLwOGimQ"
   },
   "source": [
    "limpio el ambiente de R"
   ]
  },
  {
   "cell_type": "code",
   "execution_count": 34,
   "metadata": {
    "id": "797Ad0_QGimQ"
   },
   "outputs": [
    {
     "data": {
      "text/html": [
       "<table class=\"dataframe\">\n",
       "<caption>A matrix: 2 × 6 of type dbl</caption>\n",
       "<thead>\n",
       "\t<tr><th></th><th scope=col>used</th><th scope=col>(Mb)</th><th scope=col>gc trigger</th><th scope=col>(Mb)</th><th scope=col>max used</th><th scope=col>(Mb)</th></tr>\n",
       "</thead>\n",
       "<tbody>\n",
       "\t<tr><th scope=row>Ncells</th><td> 810517</td><td>43.3</td><td> 1439374</td><td> 76.9</td><td>  1439374</td><td> 76.9</td></tr>\n",
       "\t<tr><th scope=row>Vcells</th><td>1524034</td><td>11.7</td><td>67898100</td><td>518.1</td><td>103895996</td><td>792.7</td></tr>\n",
       "</tbody>\n",
       "</table>\n"
      ],
      "text/latex": [
       "A matrix: 2 × 6 of type dbl\n",
       "\\begin{tabular}{r|llllll}\n",
       "  & used & (Mb) & gc trigger & (Mb) & max used & (Mb)\\\\\n",
       "\\hline\n",
       "\tNcells &  810517 & 43.3 &  1439374 &  76.9 &   1439374 &  76.9\\\\\n",
       "\tVcells & 1524034 & 11.7 & 67898100 & 518.1 & 103895996 & 792.7\\\\\n",
       "\\end{tabular}\n"
      ],
      "text/markdown": [
       "\n",
       "A matrix: 2 × 6 of type dbl\n",
       "\n",
       "| <!--/--> | used | (Mb) | gc trigger | (Mb) | max used | (Mb) |\n",
       "|---|---|---|---|---|---|---|\n",
       "| Ncells |  810517 | 43.3 |  1439374 |  76.9 |   1439374 |  76.9 |\n",
       "| Vcells | 1524034 | 11.7 | 67898100 | 518.1 | 103895996 | 792.7 |\n",
       "\n"
      ],
      "text/plain": [
       "       used    (Mb) gc trigger (Mb)  max used  (Mb) \n",
       "Ncells  810517 43.3  1439374    76.9   1439374  76.9\n",
       "Vcells 1524034 11.7 67898100   518.1 103895996 792.7"
      ]
     },
     "metadata": {},
     "output_type": "display_data"
    }
   ],
   "source": [
    "# limpio la memoria\n",
    "rm(list=ls(all.names=TRUE)) # remove all objects\n",
    "gc(full=TRUE, verbose=FALSE) # garbage collection"
   ]
  },
  {
   "cell_type": "markdown",
   "metadata": {
    "id": "v0CepvbjGimQ"
   },
   "source": [
    "* Instalacion de la libreria  rpart.plot  para dibujar el arbol\n",
    "* invocacion de las librerias  **data.table** y  **rpart**"
   ]
  },
  {
   "cell_type": "code",
   "execution_count": null,
   "metadata": {
    "id": "CRkZ1V2_GimR"
   },
   "outputs": [],
   "source": [
    "# cargo las librerias que necesito\n",
    "require(\"data.table\")\n",
    "require(\"rpart\")\n",
    "require(\"parallel\")\n",
    "\n",
    "if (!require(\"primes\")) install.packages(\"primes\")\n",
    "require(\"primes\")"
   ]
  },
  {
   "cell_type": "markdown",
   "metadata": {
    "id": "PZKJG-nSGimR"
   },
   "source": [
    "###  Accion a Realizar\n",
    "PARAM$semilla_primigenia  debe reemplazarse por SU primer semilla"
   ]
  },
  {
   "cell_type": "code",
   "execution_count": 35,
   "metadata": {
    "id": "4kbkA-2HGimR"
   },
   "outputs": [],
   "source": [
    "PARAM <- list()\n",
    "PARAM$semilla_primigenia <- 500009\n",
    "PARAM$qsemillas <- 50\n",
    "PARAM$training_pct <- 70L  # entre  1L y 99L\n",
    "\n",
    "PARAM$rpart <- list (\n",
    "  \"cp\" = -1, # complejidad minima\n",
    "  \"minsplit\" = 170, # minima cantidad de regs en un nodo para hacer el split\n",
    "  \"minbucket\" = 70, # minima cantidad de regs en una hoja\n",
    "  \"maxdepth\" = 7 # profundidad máxima del arbol\n",
    ")\n"
   ]
  },
  {
   "cell_type": "code",
   "execution_count": 36,
   "metadata": {
    "id": "HME0qUeOGimS"
   },
   "outputs": [],
   "source": [
    "# particionar agrega una columna llamada fold a un dataset\n",
    "#  que consiste en una particion estratificada segun agrupa\n",
    "\n",
    "# particionar( data=dataset, division=c(70,30),\n",
    "#  agrupa=clase_ternaria, seed=semilla)   crea una particion 70, 30\n",
    "\n",
    "particionar <- function(\n",
    "    data, division, agrupa = \"\",\n",
    "    campo = \"fold\", start = 1, seed = NA) {\n",
    "  if (!is.na(seed)) set.seed(seed)\n",
    "\n",
    "  bloque <- unlist(mapply(function(x, y) {\n",
    "    rep(y, x)\n",
    "  }, division, seq(from = start, length.out = length(division))))\n",
    "\n",
    "  data[, (campo) := sample(rep(bloque, ceiling(.N / length(bloque))))[1:.N],\n",
    "    by = agrupa\n",
    "  ]\n",
    "}\n"
   ]
  },
  {
   "cell_type": "code",
   "execution_count": 37,
   "metadata": {
    "id": "ro9Ufoi-GimS"
   },
   "outputs": [],
   "source": [
    "\n",
    "ArbolEstimarGanancia <- function(semilla, param_basicos) {\n",
    "  # particiono estratificadamente el dataset\n",
    "  particionar(dataset,\n",
    "    division = c(param_basicos$training_pct, 100L -param_basicos$training_pct),\n",
    "    agrupa = \"clase_ternaria\",\n",
    "    seed = semilla # aqui se usa SU semilla\n",
    "  )\n",
    "\n",
    "  # genero el modelo\n",
    "  # predecir clase_ternaria a partir del resto\n",
    "  modelo <- rpart(\"clase_ternaria ~ .\",\n",
    "    data = dataset[fold == 1], # fold==1  es training,  el 70% de los datos\n",
    "    xval = 0,\n",
    "    control = param_basicos$rpart\n",
    "  ) # aqui van los parametros del arbol\n",
    "\n",
    "  # aplico el modelo a los datos de testing\n",
    "  prediccion <- predict(modelo, # el modelo que genere recien\n",
    "    dataset[fold == 2], # fold==2  es testing, el 30% de los datos\n",
    "    type = \"prob\"\n",
    "  ) # type= \"prob\"  es que devuelva la probabilidad\n",
    "\n",
    "  # prediccion es una matriz con TRES columnas,\n",
    "  #  llamadas \"BAJA+1\", \"BAJA+2\"  y \"CONTINUA\"\n",
    "  # cada columna es el vector de probabilidades\n",
    "\n",
    "\n",
    "  # calculo la ganancia en testing  qu es fold==2\n",
    "  ganancia_test <- dataset[\n",
    "    fold == 2,\n",
    "    sum(ifelse(prediccion[, \"BAJA+2\"] > 0.025,\n",
    "      ifelse(clase_ternaria == \"BAJA+2\", 117000, -3000),\n",
    "      0\n",
    "    ))\n",
    "  ]\n",
    "\n",
    "  # escalo la ganancia como si fuera todo el dataset\n",
    "  ganancia_test_normalizada <- ganancia_test / (( 100 - PARAM$training_pct ) / 100 )\n",
    "\n",
    "  return(list(\n",
    "    \"semilla\" = semilla,\n",
    "    \"testing\" = dataset[fold == 2, .N],\n",
    "    \"testing_pos\" = dataset[fold == 2 & clase_ternaria == \"BAJA+2\", .N],\n",
    "    \"envios\" = dataset[fold == 2, sum(prediccion[, \"BAJA+2\"] > 0.025)],\n",
    "    \"aciertos\" = dataset[\n",
    "        fold == 2,\n",
    "        sum(prediccion[, \"BAJA+2\"] > 0.025 & clase_ternaria == \"BAJA+2\")\n",
    "    ],\n",
    "    \"ganancia_test\" = ganancia_test_normalizada\n",
    "  ))\n",
    "}\n"
   ]
  },
  {
   "cell_type": "code",
   "execution_count": 38,
   "metadata": {
    "id": "gz7LgltwGimT"
   },
   "outputs": [],
   "source": [
    "# carpeta de trabajo\n",
    "setwd(\"/content/buckets/b1/exp\")\n",
    "experimento <- \"exp204\"\n",
    "dir.create(experimento, showWarnings=FALSE)\n",
    "setwd( paste0(\"/content/buckets/b1/exp/\", experimento ))"
   ]
  },
  {
   "cell_type": "code",
   "execution_count": 39,
   "metadata": {
    "id": "xRXKHeLeGimT"
   },
   "outputs": [],
   "source": [
    "# lectura del dataset\n",
    "dataset <- fread(\"/content/datasets/dataset_pequeno.csv\")\n",
    "\n",
    "# trabajo solo con los datos con clase, es decir 202107\n",
    "dataset <- dataset[clase_ternaria != \"\"]"
   ]
  },
  {
   "cell_type": "code",
   "execution_count": 40,
   "metadata": {
    "id": "MdpZ10qiHSZy"
   },
   "outputs": [],
   "source": [
    "# genero numeros primos\n",
    "primos <- generate_primes(min = 100000, max = 1000000)\n",
    "set.seed(PARAM$semilla_primigenia) # inicializo\n",
    "\n",
    "# me quedo con PARAM$qsemillas   semillas\n",
    "PARAM$semillas <- sample(primos, PARAM$qsemillas )"
   ]
  },
  {
   "cell_type": "code",
   "execution_count": 41,
   "metadata": {
    "id": "r-YaawpgGimU"
   },
   "outputs": [
    {
     "data": {
      "text/html": [
       "<ol>\n",
       "\t<li><dl>\n",
       "\t<dt>$semilla</dt>\n",
       "\t\t<dd>107449</dd>\n",
       "\t<dt>$testing</dt>\n",
       "\t\t<dd>49369</dd>\n",
       "\t<dt>$testing_pos</dt>\n",
       "\t\t<dd>371</dd>\n",
       "\t<dt>$envios</dt>\n",
       "\t\t<dd>4167</dd>\n",
       "\t<dt>$aciertos</dt>\n",
       "\t\t<dd>212</dd>\n",
       "\t<dt>$ganancia_test</dt>\n",
       "\t\t<dd>43130000</dd>\n",
       "</dl>\n",
       "</li>\n",
       "\t<li><dl>\n",
       "\t<dt>$semilla</dt>\n",
       "\t\t<dd>906473</dd>\n",
       "\t<dt>$testing</dt>\n",
       "\t\t<dd>49366</dd>\n",
       "\t<dt>$testing_pos</dt>\n",
       "\t\t<dd>371</dd>\n",
       "\t<dt>$envios</dt>\n",
       "\t\t<dd>3138</dd>\n",
       "\t<dt>$aciertos</dt>\n",
       "\t\t<dd>190</dd>\n",
       "\t<dt>$ganancia_test</dt>\n",
       "\t\t<dd>44620000</dd>\n",
       "</dl>\n",
       "</li>\n",
       "\t<li><dl>\n",
       "\t<dt>$semilla</dt>\n",
       "\t\t<dd>990887</dd>\n",
       "\t<dt>$testing</dt>\n",
       "\t\t<dd>49381</dd>\n",
       "\t<dt>$testing_pos</dt>\n",
       "\t\t<dd>374</dd>\n",
       "\t<dt>$envios</dt>\n",
       "\t\t<dd>4333</dd>\n",
       "\t<dt>$aciertos</dt>\n",
       "\t\t<dd>254</dd>\n",
       "\t<dt>$ganancia_test</dt>\n",
       "\t\t<dd>58270000</dd>\n",
       "</dl>\n",
       "</li>\n",
       "\t<li><dl>\n",
       "\t<dt>$semilla</dt>\n",
       "\t\t<dd>362093</dd>\n",
       "\t<dt>$testing</dt>\n",
       "\t\t<dd>49384</dd>\n",
       "\t<dt>$testing_pos</dt>\n",
       "\t\t<dd>380</dd>\n",
       "\t<dt>$envios</dt>\n",
       "\t\t<dd>3281</dd>\n",
       "\t<dt>$aciertos</dt>\n",
       "\t\t<dd>207</dd>\n",
       "\t<dt>$ganancia_test</dt>\n",
       "\t\t<dd>49990000</dd>\n",
       "</dl>\n",
       "</li>\n",
       "\t<li><dl>\n",
       "\t<dt>$semilla</dt>\n",
       "\t\t<dd>203549</dd>\n",
       "\t<dt>$testing</dt>\n",
       "\t\t<dd>49376</dd>\n",
       "\t<dt>$testing_pos</dt>\n",
       "\t\t<dd>376</dd>\n",
       "\t<dt>$envios</dt>\n",
       "\t\t<dd>3421</dd>\n",
       "\t<dt>$aciertos</dt>\n",
       "\t\t<dd>204</dd>\n",
       "\t<dt>$ganancia_test</dt>\n",
       "\t\t<dd>47390000</dd>\n",
       "</dl>\n",
       "</li>\n",
       "\t<li><dl>\n",
       "\t<dt>$semilla</dt>\n",
       "\t\t<dd>956387</dd>\n",
       "\t<dt>$testing</dt>\n",
       "\t\t<dd>49379</dd>\n",
       "\t<dt>$testing_pos</dt>\n",
       "\t\t<dd>370</dd>\n",
       "\t<dt>$envios</dt>\n",
       "\t\t<dd>3344</dd>\n",
       "\t<dt>$aciertos</dt>\n",
       "\t\t<dd>196</dd>\n",
       "\t<dt>$ganancia_test</dt>\n",
       "\t\t<dd>44960000</dd>\n",
       "</dl>\n",
       "</li>\n",
       "\t<li><dl>\n",
       "\t<dt>$semilla</dt>\n",
       "\t\t<dd>766163</dd>\n",
       "\t<dt>$testing</dt>\n",
       "\t\t<dd>49378</dd>\n",
       "\t<dt>$testing_pos</dt>\n",
       "\t\t<dd>376</dd>\n",
       "\t<dt>$envios</dt>\n",
       "\t\t<dd>3513</dd>\n",
       "\t<dt>$aciertos</dt>\n",
       "\t\t<dd>204</dd>\n",
       "\t<dt>$ganancia_test</dt>\n",
       "\t\t<dd>46470000</dd>\n",
       "</dl>\n",
       "</li>\n",
       "\t<li><dl>\n",
       "\t<dt>$semilla</dt>\n",
       "\t\t<dd>460951</dd>\n",
       "\t<dt>$testing</dt>\n",
       "\t\t<dd>49380</dd>\n",
       "\t<dt>$testing_pos</dt>\n",
       "\t\t<dd>378</dd>\n",
       "\t<dt>$envios</dt>\n",
       "\t\t<dd>2764</dd>\n",
       "\t<dt>$aciertos</dt>\n",
       "\t\t<dd>182</dd>\n",
       "\t<dt>$ganancia_test</dt>\n",
       "\t\t<dd>45160000</dd>\n",
       "</dl>\n",
       "</li>\n",
       "\t<li><dl>\n",
       "\t<dt>$semilla</dt>\n",
       "\t\t<dd>936281</dd>\n",
       "\t<dt>$testing</dt>\n",
       "\t\t<dd>49376</dd>\n",
       "\t<dt>$testing_pos</dt>\n",
       "\t\t<dd>372</dd>\n",
       "\t<dt>$envios</dt>\n",
       "\t\t<dd>3121</dd>\n",
       "\t<dt>$aciertos</dt>\n",
       "\t\t<dd>197</dd>\n",
       "\t<dt>$ganancia_test</dt>\n",
       "\t\t<dd>47590000</dd>\n",
       "</dl>\n",
       "</li>\n",
       "\t<li><dl>\n",
       "\t<dt>$semilla</dt>\n",
       "\t\t<dd>230357</dd>\n",
       "\t<dt>$testing</dt>\n",
       "\t\t<dd>49390</dd>\n",
       "\t<dt>$testing_pos</dt>\n",
       "\t\t<dd>385</dd>\n",
       "\t<dt>$envios</dt>\n",
       "\t\t<dd>3333</dd>\n",
       "\t<dt>$aciertos</dt>\n",
       "\t\t<dd>217</dd>\n",
       "\t<dt>$ganancia_test</dt>\n",
       "\t\t<dd>53470000</dd>\n",
       "</dl>\n",
       "</li>\n",
       "\t<li><dl>\n",
       "\t<dt>$semilla</dt>\n",
       "\t\t<dd>144071</dd>\n",
       "\t<dt>$testing</dt>\n",
       "\t\t<dd>49384</dd>\n",
       "\t<dt>$testing_pos</dt>\n",
       "\t\t<dd>378</dd>\n",
       "\t<dt>$envios</dt>\n",
       "\t\t<dd>3896</dd>\n",
       "\t<dt>$aciertos</dt>\n",
       "\t\t<dd>209</dd>\n",
       "\t<dt>$ganancia_test</dt>\n",
       "\t\t<dd>44640000</dd>\n",
       "</dl>\n",
       "</li>\n",
       "\t<li><dl>\n",
       "\t<dt>$semilla</dt>\n",
       "\t\t<dd>585367</dd>\n",
       "\t<dt>$testing</dt>\n",
       "\t\t<dd>49383</dd>\n",
       "\t<dt>$testing_pos</dt>\n",
       "\t\t<dd>373</dd>\n",
       "\t<dt>$envios</dt>\n",
       "\t\t<dd>4266</dd>\n",
       "\t<dt>$aciertos</dt>\n",
       "\t\t<dd>224</dd>\n",
       "\t<dt>$ganancia_test</dt>\n",
       "\t\t<dd>46940000</dd>\n",
       "</dl>\n",
       "</li>\n",
       "\t<li><dl>\n",
       "\t<dt>$semilla</dt>\n",
       "\t\t<dd>415381</dd>\n",
       "\t<dt>$testing</dt>\n",
       "\t\t<dd>49385</dd>\n",
       "\t<dt>$testing_pos</dt>\n",
       "\t\t<dd>375</dd>\n",
       "\t<dt>$envios</dt>\n",
       "\t\t<dd>3617</dd>\n",
       "\t<dt>$aciertos</dt>\n",
       "\t\t<dd>202</dd>\n",
       "\t<dt>$ganancia_test</dt>\n",
       "\t\t<dd>44630000</dd>\n",
       "</dl>\n",
       "</li>\n",
       "\t<li><dl>\n",
       "\t<dt>$semilla</dt>\n",
       "\t\t<dd>121963</dd>\n",
       "\t<dt>$testing</dt>\n",
       "\t\t<dd>49372</dd>\n",
       "\t<dt>$testing_pos</dt>\n",
       "\t\t<dd>375</dd>\n",
       "\t<dt>$envios</dt>\n",
       "\t\t<dd>3337</dd>\n",
       "\t<dt>$aciertos</dt>\n",
       "\t\t<dd>211</dd>\n",
       "\t<dt>$ganancia_test</dt>\n",
       "\t\t<dd>51030000</dd>\n",
       "</dl>\n",
       "</li>\n",
       "\t<li><dl>\n",
       "\t<dt>$semilla</dt>\n",
       "\t\t<dd>640727</dd>\n",
       "\t<dt>$testing</dt>\n",
       "\t\t<dd>49385</dd>\n",
       "\t<dt>$testing_pos</dt>\n",
       "\t\t<dd>373</dd>\n",
       "\t<dt>$envios</dt>\n",
       "\t\t<dd>4007</dd>\n",
       "\t<dt>$aciertos</dt>\n",
       "\t\t<dd>222</dd>\n",
       "\t<dt>$ganancia_test</dt>\n",
       "\t\t<dd>48730000</dd>\n",
       "</dl>\n",
       "</li>\n",
       "\t<li><dl>\n",
       "\t<dt>$semilla</dt>\n",
       "\t\t<dd>222619</dd>\n",
       "\t<dt>$testing</dt>\n",
       "\t\t<dd>49371</dd>\n",
       "\t<dt>$testing_pos</dt>\n",
       "\t\t<dd>370</dd>\n",
       "\t<dt>$envios</dt>\n",
       "\t\t<dd>3835</dd>\n",
       "\t<dt>$aciertos</dt>\n",
       "\t\t<dd>200</dd>\n",
       "\t<dt>$ganancia_test</dt>\n",
       "\t\t<dd>41650000</dd>\n",
       "</dl>\n",
       "</li>\n",
       "\t<li><dl>\n",
       "\t<dt>$semilla</dt>\n",
       "\t\t<dd>714169</dd>\n",
       "\t<dt>$testing</dt>\n",
       "\t\t<dd>49381</dd>\n",
       "\t<dt>$testing_pos</dt>\n",
       "\t\t<dd>375</dd>\n",
       "\t<dt>$envios</dt>\n",
       "\t\t<dd>2928</dd>\n",
       "\t<dt>$aciertos</dt>\n",
       "\t\t<dd>183</dd>\n",
       "\t<dt>$ganancia_test</dt>\n",
       "\t\t<dd>43920000</dd>\n",
       "</dl>\n",
       "</li>\n",
       "\t<li><dl>\n",
       "\t<dt>$semilla</dt>\n",
       "\t\t<dd>820051</dd>\n",
       "\t<dt>$testing</dt>\n",
       "\t\t<dd>49378</dd>\n",
       "\t<dt>$testing_pos</dt>\n",
       "\t\t<dd>374</dd>\n",
       "\t<dt>$envios</dt>\n",
       "\t\t<dd>3476</dd>\n",
       "\t<dt>$aciertos</dt>\n",
       "\t\t<dd>207</dd>\n",
       "\t<dt>$ganancia_test</dt>\n",
       "\t\t<dd>48040000</dd>\n",
       "</dl>\n",
       "</li>\n",
       "\t<li><dl>\n",
       "\t<dt>$semilla</dt>\n",
       "\t\t<dd>821263</dd>\n",
       "\t<dt>$testing</dt>\n",
       "\t\t<dd>49381</dd>\n",
       "\t<dt>$testing_pos</dt>\n",
       "\t\t<dd>374</dd>\n",
       "\t<dt>$envios</dt>\n",
       "\t\t<dd>3619</dd>\n",
       "\t<dt>$aciertos</dt>\n",
       "\t\t<dd>202</dd>\n",
       "\t<dt>$ganancia_test</dt>\n",
       "\t\t<dd>44610000</dd>\n",
       "</dl>\n",
       "</li>\n",
       "\t<li><dl>\n",
       "\t<dt>$semilla</dt>\n",
       "\t\t<dd>305611</dd>\n",
       "\t<dt>$testing</dt>\n",
       "\t\t<dd>49380</dd>\n",
       "\t<dt>$testing_pos</dt>\n",
       "\t\t<dd>375</dd>\n",
       "\t<dt>$envios</dt>\n",
       "\t\t<dd>2846</dd>\n",
       "\t<dt>$aciertos</dt>\n",
       "\t\t<dd>188</dd>\n",
       "\t<dt>$ganancia_test</dt>\n",
       "\t\t<dd>46740000</dd>\n",
       "</dl>\n",
       "</li>\n",
       "\t<li><dl>\n",
       "\t<dt>$semilla</dt>\n",
       "\t\t<dd>950149</dd>\n",
       "\t<dt>$testing</dt>\n",
       "\t\t<dd>49377</dd>\n",
       "\t<dt>$testing_pos</dt>\n",
       "\t\t<dd>377</dd>\n",
       "\t<dt>$envios</dt>\n",
       "\t\t<dd>4071</dd>\n",
       "\t<dt>$aciertos</dt>\n",
       "\t\t<dd>217</dd>\n",
       "\t<dt>$ganancia_test</dt>\n",
       "\t\t<dd>46090000</dd>\n",
       "</dl>\n",
       "</li>\n",
       "\t<li><dl>\n",
       "\t<dt>$semilla</dt>\n",
       "\t\t<dd>462491</dd>\n",
       "\t<dt>$testing</dt>\n",
       "\t\t<dd>49394</dd>\n",
       "\t<dt>$testing_pos</dt>\n",
       "\t\t<dd>382</dd>\n",
       "\t<dt>$envios</dt>\n",
       "\t\t<dd>3279</dd>\n",
       "\t<dt>$aciertos</dt>\n",
       "\t\t<dd>200</dd>\n",
       "\t<dt>$ganancia_test</dt>\n",
       "\t\t<dd>47210000</dd>\n",
       "</dl>\n",
       "</li>\n",
       "\t<li><dl>\n",
       "\t<dt>$semilla</dt>\n",
       "\t\t<dd>582761</dd>\n",
       "\t<dt>$testing</dt>\n",
       "\t\t<dd>49367</dd>\n",
       "\t<dt>$testing_pos</dt>\n",
       "\t\t<dd>369</dd>\n",
       "\t<dt>$envios</dt>\n",
       "\t\t<dd>3810</dd>\n",
       "\t<dt>$aciertos</dt>\n",
       "\t\t<dd>209</dd>\n",
       "\t<dt>$ganancia_test</dt>\n",
       "\t\t<dd>45500000</dd>\n",
       "</dl>\n",
       "</li>\n",
       "\t<li><dl>\n",
       "\t<dt>$semilla</dt>\n",
       "\t\t<dd>158959</dd>\n",
       "\t<dt>$testing</dt>\n",
       "\t\t<dd>49386</dd>\n",
       "\t<dt>$testing_pos</dt>\n",
       "\t\t<dd>379</dd>\n",
       "\t<dt>$envios</dt>\n",
       "\t\t<dd>3986</dd>\n",
       "\t<dt>$aciertos</dt>\n",
       "\t\t<dd>235</dd>\n",
       "\t<dt>$ganancia_test</dt>\n",
       "\t\t<dd>54140000</dd>\n",
       "</dl>\n",
       "</li>\n",
       "\t<li><dl>\n",
       "\t<dt>$semilla</dt>\n",
       "\t\t<dd>197803</dd>\n",
       "\t<dt>$testing</dt>\n",
       "\t\t<dd>49382</dd>\n",
       "\t<dt>$testing_pos</dt>\n",
       "\t\t<dd>379</dd>\n",
       "\t<dt>$envios</dt>\n",
       "\t\t<dd>3060</dd>\n",
       "\t<dt>$aciertos</dt>\n",
       "\t\t<dd>199</dd>\n",
       "\t<dt>$ganancia_test</dt>\n",
       "\t\t<dd>4.9e+07</dd>\n",
       "</dl>\n",
       "</li>\n",
       "\t<li><dl>\n",
       "\t<dt>$semilla</dt>\n",
       "\t\t<dd>764627</dd>\n",
       "\t<dt>$testing</dt>\n",
       "\t\t<dd>49376</dd>\n",
       "\t<dt>$testing_pos</dt>\n",
       "\t\t<dd>379</dd>\n",
       "\t<dt>$envios</dt>\n",
       "\t\t<dd>3711</dd>\n",
       "\t<dt>$aciertos</dt>\n",
       "\t\t<dd>218</dd>\n",
       "\t<dt>$ganancia_test</dt>\n",
       "\t\t<dd>50090000</dd>\n",
       "</dl>\n",
       "</li>\n",
       "\t<li><dl>\n",
       "\t<dt>$semilla</dt>\n",
       "\t\t<dd>453527</dd>\n",
       "\t<dt>$testing</dt>\n",
       "\t\t<dd>49379</dd>\n",
       "\t<dt>$testing_pos</dt>\n",
       "\t\t<dd>374</dd>\n",
       "\t<dt>$envios</dt>\n",
       "\t\t<dd>3129</dd>\n",
       "\t<dt>$aciertos</dt>\n",
       "\t\t<dd>189</dd>\n",
       "\t<dt>$ganancia_test</dt>\n",
       "\t\t<dd>44310000</dd>\n",
       "</dl>\n",
       "</li>\n",
       "\t<li><dl>\n",
       "\t<dt>$semilla</dt>\n",
       "\t\t<dd>837631</dd>\n",
       "\t<dt>$testing</dt>\n",
       "\t\t<dd>49382</dd>\n",
       "\t<dt>$testing_pos</dt>\n",
       "\t\t<dd>379</dd>\n",
       "\t<dt>$envios</dt>\n",
       "\t\t<dd>2865</dd>\n",
       "\t<dt>$aciertos</dt>\n",
       "\t\t<dd>199</dd>\n",
       "\t<dt>$ganancia_test</dt>\n",
       "\t\t<dd>50950000</dd>\n",
       "</dl>\n",
       "</li>\n",
       "\t<li><dl>\n",
       "\t<dt>$semilla</dt>\n",
       "\t\t<dd>178597</dd>\n",
       "\t<dt>$testing</dt>\n",
       "\t\t<dd>49376</dd>\n",
       "\t<dt>$testing_pos</dt>\n",
       "\t\t<dd>375</dd>\n",
       "\t<dt>$envios</dt>\n",
       "\t\t<dd>3670</dd>\n",
       "\t<dt>$aciertos</dt>\n",
       "\t\t<dd>214</dd>\n",
       "\t<dt>$ganancia_test</dt>\n",
       "\t\t<dd>48900000</dd>\n",
       "</dl>\n",
       "</li>\n",
       "\t<li><dl>\n",
       "\t<dt>$semilla</dt>\n",
       "\t\t<dd>942091</dd>\n",
       "\t<dt>$testing</dt>\n",
       "\t\t<dd>49390</dd>\n",
       "\t<dt>$testing_pos</dt>\n",
       "\t\t<dd>374</dd>\n",
       "\t<dt>$envios</dt>\n",
       "\t\t<dd>3313</dd>\n",
       "\t<dt>$aciertos</dt>\n",
       "\t\t<dd>193</dd>\n",
       "\t<dt>$ganancia_test</dt>\n",
       "\t\t<dd>44070000</dd>\n",
       "</dl>\n",
       "</li>\n",
       "\t<li><dl>\n",
       "\t<dt>$semilla</dt>\n",
       "\t\t<dd>428551</dd>\n",
       "\t<dt>$testing</dt>\n",
       "\t\t<dd>49384</dd>\n",
       "\t<dt>$testing_pos</dt>\n",
       "\t\t<dd>378</dd>\n",
       "\t<dt>$envios</dt>\n",
       "\t\t<dd>3382</dd>\n",
       "\t<dt>$aciertos</dt>\n",
       "\t\t<dd>203</dd>\n",
       "\t<dt>$ganancia_test</dt>\n",
       "\t\t<dd>47380000</dd>\n",
       "</dl>\n",
       "</li>\n",
       "\t<li><dl>\n",
       "\t<dt>$semilla</dt>\n",
       "\t\t<dd>657929</dd>\n",
       "\t<dt>$testing</dt>\n",
       "\t\t<dd>49372</dd>\n",
       "\t<dt>$testing_pos</dt>\n",
       "\t\t<dd>374</dd>\n",
       "\t<dt>$envios</dt>\n",
       "\t\t<dd>3218</dd>\n",
       "\t<dt>$aciertos</dt>\n",
       "\t\t<dd>206</dd>\n",
       "\t<dt>$ganancia_test</dt>\n",
       "\t\t<dd>50220000</dd>\n",
       "</dl>\n",
       "</li>\n",
       "\t<li><dl>\n",
       "\t<dt>$semilla</dt>\n",
       "\t\t<dd>479581</dd>\n",
       "\t<dt>$testing</dt>\n",
       "\t\t<dd>49386</dd>\n",
       "\t<dt>$testing_pos</dt>\n",
       "\t\t<dd>380</dd>\n",
       "\t<dt>$envios</dt>\n",
       "\t\t<dd>4215</dd>\n",
       "\t<dt>$aciertos</dt>\n",
       "\t\t<dd>226</dd>\n",
       "\t<dt>$ganancia_test</dt>\n",
       "\t\t<dd>48250000</dd>\n",
       "</dl>\n",
       "</li>\n",
       "\t<li><dl>\n",
       "\t<dt>$semilla</dt>\n",
       "\t\t<dd>921889</dd>\n",
       "\t<dt>$testing</dt>\n",
       "\t\t<dd>49384</dd>\n",
       "\t<dt>$testing_pos</dt>\n",
       "\t\t<dd>373</dd>\n",
       "\t<dt>$envios</dt>\n",
       "\t\t<dd>3271</dd>\n",
       "\t<dt>$aciertos</dt>\n",
       "\t\t<dd>194</dd>\n",
       "\t<dt>$ganancia_test</dt>\n",
       "\t\t<dd>44890000</dd>\n",
       "</dl>\n",
       "</li>\n",
       "\t<li><dl>\n",
       "\t<dt>$semilla</dt>\n",
       "\t\t<dd>689867</dd>\n",
       "\t<dt>$testing</dt>\n",
       "\t\t<dd>49374</dd>\n",
       "\t<dt>$testing_pos</dt>\n",
       "\t\t<dd>374</dd>\n",
       "\t<dt>$envios</dt>\n",
       "\t\t<dd>3433</dd>\n",
       "\t<dt>$aciertos</dt>\n",
       "\t\t<dd>218</dd>\n",
       "\t<dt>$ganancia_test</dt>\n",
       "\t\t<dd>52870000</dd>\n",
       "</dl>\n",
       "</li>\n",
       "\t<li><dl>\n",
       "\t<dt>$semilla</dt>\n",
       "\t\t<dd>366859</dd>\n",
       "\t<dt>$testing</dt>\n",
       "\t\t<dd>49381</dd>\n",
       "\t<dt>$testing_pos</dt>\n",
       "\t\t<dd>379</dd>\n",
       "\t<dt>$envios</dt>\n",
       "\t\t<dd>4115</dd>\n",
       "\t<dt>$aciertos</dt>\n",
       "\t\t<dd>230</dd>\n",
       "\t<dt>$ganancia_test</dt>\n",
       "\t\t<dd>50850000</dd>\n",
       "</dl>\n",
       "</li>\n",
       "\t<li><dl>\n",
       "\t<dt>$semilla</dt>\n",
       "\t\t<dd>701023</dd>\n",
       "\t<dt>$testing</dt>\n",
       "\t\t<dd>49374</dd>\n",
       "\t<dt>$testing_pos</dt>\n",
       "\t\t<dd>369</dd>\n",
       "\t<dt>$envios</dt>\n",
       "\t\t<dd>3220</dd>\n",
       "\t<dt>$aciertos</dt>\n",
       "\t\t<dd>186</dd>\n",
       "\t<dt>$ganancia_test</dt>\n",
       "\t\t<dd>42200000</dd>\n",
       "</dl>\n",
       "</li>\n",
       "\t<li><dl>\n",
       "\t<dt>$semilla</dt>\n",
       "\t\t<dd>692407</dd>\n",
       "\t<dt>$testing</dt>\n",
       "\t\t<dd>49381</dd>\n",
       "\t<dt>$testing_pos</dt>\n",
       "\t\t<dd>378</dd>\n",
       "\t<dt>$envios</dt>\n",
       "\t\t<dd>3542</dd>\n",
       "\t<dt>$aciertos</dt>\n",
       "\t\t<dd>213</dd>\n",
       "\t<dt>$ganancia_test</dt>\n",
       "\t\t<dd>49780000</dd>\n",
       "</dl>\n",
       "</li>\n",
       "\t<li><dl>\n",
       "\t<dt>$semilla</dt>\n",
       "\t\t<dd>301897</dd>\n",
       "\t<dt>$testing</dt>\n",
       "\t\t<dd>49380</dd>\n",
       "\t<dt>$testing_pos</dt>\n",
       "\t\t<dd>374</dd>\n",
       "\t<dt>$envios</dt>\n",
       "\t\t<dd>4255</dd>\n",
       "\t<dt>$aciertos</dt>\n",
       "\t\t<dd>220</dd>\n",
       "\t<dt>$ganancia_test</dt>\n",
       "\t\t<dd>45450000</dd>\n",
       "</dl>\n",
       "</li>\n",
       "\t<li><dl>\n",
       "\t<dt>$semilla</dt>\n",
       "\t\t<dd>601267</dd>\n",
       "\t<dt>$testing</dt>\n",
       "\t\t<dd>49383</dd>\n",
       "\t<dt>$testing_pos</dt>\n",
       "\t\t<dd>376</dd>\n",
       "\t<dt>$envios</dt>\n",
       "\t\t<dd>3000</dd>\n",
       "\t<dt>$aciertos</dt>\n",
       "\t\t<dd>193</dd>\n",
       "\t<dt>$ganancia_test</dt>\n",
       "\t\t<dd>47200000</dd>\n",
       "</dl>\n",
       "</li>\n",
       "\t<li><dl>\n",
       "\t<dt>$semilla</dt>\n",
       "\t\t<dd>749741</dd>\n",
       "\t<dt>$testing</dt>\n",
       "\t\t<dd>49388</dd>\n",
       "\t<dt>$testing_pos</dt>\n",
       "\t\t<dd>380</dd>\n",
       "\t<dt>$envios</dt>\n",
       "\t\t<dd>3730</dd>\n",
       "\t<dt>$aciertos</dt>\n",
       "\t\t<dd>231</dd>\n",
       "\t<dt>$ganancia_test</dt>\n",
       "\t\t<dd>55100000</dd>\n",
       "</dl>\n",
       "</li>\n",
       "\t<li><dl>\n",
       "\t<dt>$semilla</dt>\n",
       "\t\t<dd>689431</dd>\n",
       "\t<dt>$testing</dt>\n",
       "\t\t<dd>49379</dd>\n",
       "\t<dt>$testing_pos</dt>\n",
       "\t\t<dd>376</dd>\n",
       "\t<dt>$envios</dt>\n",
       "\t\t<dd>2993</dd>\n",
       "\t<dt>$aciertos</dt>\n",
       "\t\t<dd>191</dd>\n",
       "\t<dt>$ganancia_test</dt>\n",
       "\t\t<dd>46470000</dd>\n",
       "</dl>\n",
       "</li>\n",
       "\t<li><dl>\n",
       "\t<dt>$semilla</dt>\n",
       "\t\t<dd>389989</dd>\n",
       "\t<dt>$testing</dt>\n",
       "\t\t<dd>49372</dd>\n",
       "\t<dt>$testing_pos</dt>\n",
       "\t\t<dd>371</dd>\n",
       "\t<dt>$envios</dt>\n",
       "\t\t<dd>3170</dd>\n",
       "\t<dt>$aciertos</dt>\n",
       "\t\t<dd>191</dd>\n",
       "\t<dt>$ganancia_test</dt>\n",
       "\t\t<dd>44700000</dd>\n",
       "</dl>\n",
       "</li>\n",
       "\t<li><dl>\n",
       "\t<dt>$semilla</dt>\n",
       "\t\t<dd>732817</dd>\n",
       "\t<dt>$testing</dt>\n",
       "\t\t<dd>49387</dd>\n",
       "\t<dt>$testing_pos</dt>\n",
       "\t\t<dd>377</dd>\n",
       "\t<dt>$envios</dt>\n",
       "\t\t<dd>3949</dd>\n",
       "\t<dt>$aciertos</dt>\n",
       "\t\t<dd>220</dd>\n",
       "\t<dt>$ganancia_test</dt>\n",
       "\t\t<dd>48510000</dd>\n",
       "</dl>\n",
       "</li>\n",
       "\t<li><dl>\n",
       "\t<dt>$semilla</dt>\n",
       "\t\t<dd>932969</dd>\n",
       "\t<dt>$testing</dt>\n",
       "\t\t<dd>49381</dd>\n",
       "\t<dt>$testing_pos</dt>\n",
       "\t\t<dd>378</dd>\n",
       "\t<dt>$envios</dt>\n",
       "\t\t<dd>3510</dd>\n",
       "\t<dt>$aciertos</dt>\n",
       "\t\t<dd>205</dd>\n",
       "\t<dt>$ganancia_test</dt>\n",
       "\t\t<dd>46900000</dd>\n",
       "</dl>\n",
       "</li>\n",
       "\t<li><dl>\n",
       "\t<dt>$semilla</dt>\n",
       "\t\t<dd>434377</dd>\n",
       "\t<dt>$testing</dt>\n",
       "\t\t<dd>49366</dd>\n",
       "\t<dt>$testing_pos</dt>\n",
       "\t\t<dd>372</dd>\n",
       "\t<dt>$envios</dt>\n",
       "\t\t<dd>4011</dd>\n",
       "\t<dt>$aciertos</dt>\n",
       "\t\t<dd>235</dd>\n",
       "\t<dt>$ganancia_test</dt>\n",
       "\t\t<dd>53890000</dd>\n",
       "</dl>\n",
       "</li>\n",
       "\t<li><dl>\n",
       "\t<dt>$semilla</dt>\n",
       "\t\t<dd>201389</dd>\n",
       "\t<dt>$testing</dt>\n",
       "\t\t<dd>49382</dd>\n",
       "\t<dt>$testing_pos</dt>\n",
       "\t\t<dd>376</dd>\n",
       "\t<dt>$envios</dt>\n",
       "\t\t<dd>3716</dd>\n",
       "\t<dt>$aciertos</dt>\n",
       "\t\t<dd>224</dd>\n",
       "\t<dt>$ganancia_test</dt>\n",
       "\t\t<dd>52440000</dd>\n",
       "</dl>\n",
       "</li>\n",
       "\t<li><dl>\n",
       "\t<dt>$semilla</dt>\n",
       "\t\t<dd>157141</dd>\n",
       "\t<dt>$testing</dt>\n",
       "\t\t<dd>49395</dd>\n",
       "\t<dt>$testing_pos</dt>\n",
       "\t\t<dd>381</dd>\n",
       "\t<dt>$envios</dt>\n",
       "\t\t<dd>4210</dd>\n",
       "\t<dt>$aciertos</dt>\n",
       "\t\t<dd>238</dd>\n",
       "\t<dt>$ganancia_test</dt>\n",
       "\t\t<dd>53100000</dd>\n",
       "</dl>\n",
       "</li>\n",
       "\t<li><dl>\n",
       "\t<dt>$semilla</dt>\n",
       "\t\t<dd>825277</dd>\n",
       "\t<dt>$testing</dt>\n",
       "\t\t<dd>49386</dd>\n",
       "\t<dt>$testing_pos</dt>\n",
       "\t\t<dd>379</dd>\n",
       "\t<dt>$envios</dt>\n",
       "\t\t<dd>3985</dd>\n",
       "\t<dt>$aciertos</dt>\n",
       "\t\t<dd>229</dd>\n",
       "\t<dt>$ganancia_test</dt>\n",
       "\t\t<dd>51750000</dd>\n",
       "</dl>\n",
       "</li>\n",
       "\t<li><dl>\n",
       "\t<dt>$semilla</dt>\n",
       "\t\t<dd>368651</dd>\n",
       "\t<dt>$testing</dt>\n",
       "\t\t<dd>49381</dd>\n",
       "\t<dt>$testing_pos</dt>\n",
       "\t\t<dd>378</dd>\n",
       "\t<dt>$envios</dt>\n",
       "\t\t<dd>4280</dd>\n",
       "\t<dt>$aciertos</dt>\n",
       "\t\t<dd>236</dd>\n",
       "\t<dt>$ganancia_test</dt>\n",
       "\t\t<dd>51600000</dd>\n",
       "</dl>\n",
       "</li>\n",
       "</ol>\n"
      ],
      "text/latex": [
       "\\begin{enumerate}\n",
       "\\item \\begin{description}\n",
       "\\item[\\$semilla] 107449\n",
       "\\item[\\$testing] 49369\n",
       "\\item[\\$testing\\_pos] 371\n",
       "\\item[\\$envios] 4167\n",
       "\\item[\\$aciertos] 212\n",
       "\\item[\\$ganancia\\_test] 43130000\n",
       "\\end{description}\n",
       "\n",
       "\\item \\begin{description}\n",
       "\\item[\\$semilla] 906473\n",
       "\\item[\\$testing] 49366\n",
       "\\item[\\$testing\\_pos] 371\n",
       "\\item[\\$envios] 3138\n",
       "\\item[\\$aciertos] 190\n",
       "\\item[\\$ganancia\\_test] 44620000\n",
       "\\end{description}\n",
       "\n",
       "\\item \\begin{description}\n",
       "\\item[\\$semilla] 990887\n",
       "\\item[\\$testing] 49381\n",
       "\\item[\\$testing\\_pos] 374\n",
       "\\item[\\$envios] 4333\n",
       "\\item[\\$aciertos] 254\n",
       "\\item[\\$ganancia\\_test] 58270000\n",
       "\\end{description}\n",
       "\n",
       "\\item \\begin{description}\n",
       "\\item[\\$semilla] 362093\n",
       "\\item[\\$testing] 49384\n",
       "\\item[\\$testing\\_pos] 380\n",
       "\\item[\\$envios] 3281\n",
       "\\item[\\$aciertos] 207\n",
       "\\item[\\$ganancia\\_test] 49990000\n",
       "\\end{description}\n",
       "\n",
       "\\item \\begin{description}\n",
       "\\item[\\$semilla] 203549\n",
       "\\item[\\$testing] 49376\n",
       "\\item[\\$testing\\_pos] 376\n",
       "\\item[\\$envios] 3421\n",
       "\\item[\\$aciertos] 204\n",
       "\\item[\\$ganancia\\_test] 47390000\n",
       "\\end{description}\n",
       "\n",
       "\\item \\begin{description}\n",
       "\\item[\\$semilla] 956387\n",
       "\\item[\\$testing] 49379\n",
       "\\item[\\$testing\\_pos] 370\n",
       "\\item[\\$envios] 3344\n",
       "\\item[\\$aciertos] 196\n",
       "\\item[\\$ganancia\\_test] 44960000\n",
       "\\end{description}\n",
       "\n",
       "\\item \\begin{description}\n",
       "\\item[\\$semilla] 766163\n",
       "\\item[\\$testing] 49378\n",
       "\\item[\\$testing\\_pos] 376\n",
       "\\item[\\$envios] 3513\n",
       "\\item[\\$aciertos] 204\n",
       "\\item[\\$ganancia\\_test] 46470000\n",
       "\\end{description}\n",
       "\n",
       "\\item \\begin{description}\n",
       "\\item[\\$semilla] 460951\n",
       "\\item[\\$testing] 49380\n",
       "\\item[\\$testing\\_pos] 378\n",
       "\\item[\\$envios] 2764\n",
       "\\item[\\$aciertos] 182\n",
       "\\item[\\$ganancia\\_test] 45160000\n",
       "\\end{description}\n",
       "\n",
       "\\item \\begin{description}\n",
       "\\item[\\$semilla] 936281\n",
       "\\item[\\$testing] 49376\n",
       "\\item[\\$testing\\_pos] 372\n",
       "\\item[\\$envios] 3121\n",
       "\\item[\\$aciertos] 197\n",
       "\\item[\\$ganancia\\_test] 47590000\n",
       "\\end{description}\n",
       "\n",
       "\\item \\begin{description}\n",
       "\\item[\\$semilla] 230357\n",
       "\\item[\\$testing] 49390\n",
       "\\item[\\$testing\\_pos] 385\n",
       "\\item[\\$envios] 3333\n",
       "\\item[\\$aciertos] 217\n",
       "\\item[\\$ganancia\\_test] 53470000\n",
       "\\end{description}\n",
       "\n",
       "\\item \\begin{description}\n",
       "\\item[\\$semilla] 144071\n",
       "\\item[\\$testing] 49384\n",
       "\\item[\\$testing\\_pos] 378\n",
       "\\item[\\$envios] 3896\n",
       "\\item[\\$aciertos] 209\n",
       "\\item[\\$ganancia\\_test] 44640000\n",
       "\\end{description}\n",
       "\n",
       "\\item \\begin{description}\n",
       "\\item[\\$semilla] 585367\n",
       "\\item[\\$testing] 49383\n",
       "\\item[\\$testing\\_pos] 373\n",
       "\\item[\\$envios] 4266\n",
       "\\item[\\$aciertos] 224\n",
       "\\item[\\$ganancia\\_test] 46940000\n",
       "\\end{description}\n",
       "\n",
       "\\item \\begin{description}\n",
       "\\item[\\$semilla] 415381\n",
       "\\item[\\$testing] 49385\n",
       "\\item[\\$testing\\_pos] 375\n",
       "\\item[\\$envios] 3617\n",
       "\\item[\\$aciertos] 202\n",
       "\\item[\\$ganancia\\_test] 44630000\n",
       "\\end{description}\n",
       "\n",
       "\\item \\begin{description}\n",
       "\\item[\\$semilla] 121963\n",
       "\\item[\\$testing] 49372\n",
       "\\item[\\$testing\\_pos] 375\n",
       "\\item[\\$envios] 3337\n",
       "\\item[\\$aciertos] 211\n",
       "\\item[\\$ganancia\\_test] 51030000\n",
       "\\end{description}\n",
       "\n",
       "\\item \\begin{description}\n",
       "\\item[\\$semilla] 640727\n",
       "\\item[\\$testing] 49385\n",
       "\\item[\\$testing\\_pos] 373\n",
       "\\item[\\$envios] 4007\n",
       "\\item[\\$aciertos] 222\n",
       "\\item[\\$ganancia\\_test] 48730000\n",
       "\\end{description}\n",
       "\n",
       "\\item \\begin{description}\n",
       "\\item[\\$semilla] 222619\n",
       "\\item[\\$testing] 49371\n",
       "\\item[\\$testing\\_pos] 370\n",
       "\\item[\\$envios] 3835\n",
       "\\item[\\$aciertos] 200\n",
       "\\item[\\$ganancia\\_test] 41650000\n",
       "\\end{description}\n",
       "\n",
       "\\item \\begin{description}\n",
       "\\item[\\$semilla] 714169\n",
       "\\item[\\$testing] 49381\n",
       "\\item[\\$testing\\_pos] 375\n",
       "\\item[\\$envios] 2928\n",
       "\\item[\\$aciertos] 183\n",
       "\\item[\\$ganancia\\_test] 43920000\n",
       "\\end{description}\n",
       "\n",
       "\\item \\begin{description}\n",
       "\\item[\\$semilla] 820051\n",
       "\\item[\\$testing] 49378\n",
       "\\item[\\$testing\\_pos] 374\n",
       "\\item[\\$envios] 3476\n",
       "\\item[\\$aciertos] 207\n",
       "\\item[\\$ganancia\\_test] 48040000\n",
       "\\end{description}\n",
       "\n",
       "\\item \\begin{description}\n",
       "\\item[\\$semilla] 821263\n",
       "\\item[\\$testing] 49381\n",
       "\\item[\\$testing\\_pos] 374\n",
       "\\item[\\$envios] 3619\n",
       "\\item[\\$aciertos] 202\n",
       "\\item[\\$ganancia\\_test] 44610000\n",
       "\\end{description}\n",
       "\n",
       "\\item \\begin{description}\n",
       "\\item[\\$semilla] 305611\n",
       "\\item[\\$testing] 49380\n",
       "\\item[\\$testing\\_pos] 375\n",
       "\\item[\\$envios] 2846\n",
       "\\item[\\$aciertos] 188\n",
       "\\item[\\$ganancia\\_test] 46740000\n",
       "\\end{description}\n",
       "\n",
       "\\item \\begin{description}\n",
       "\\item[\\$semilla] 950149\n",
       "\\item[\\$testing] 49377\n",
       "\\item[\\$testing\\_pos] 377\n",
       "\\item[\\$envios] 4071\n",
       "\\item[\\$aciertos] 217\n",
       "\\item[\\$ganancia\\_test] 46090000\n",
       "\\end{description}\n",
       "\n",
       "\\item \\begin{description}\n",
       "\\item[\\$semilla] 462491\n",
       "\\item[\\$testing] 49394\n",
       "\\item[\\$testing\\_pos] 382\n",
       "\\item[\\$envios] 3279\n",
       "\\item[\\$aciertos] 200\n",
       "\\item[\\$ganancia\\_test] 47210000\n",
       "\\end{description}\n",
       "\n",
       "\\item \\begin{description}\n",
       "\\item[\\$semilla] 582761\n",
       "\\item[\\$testing] 49367\n",
       "\\item[\\$testing\\_pos] 369\n",
       "\\item[\\$envios] 3810\n",
       "\\item[\\$aciertos] 209\n",
       "\\item[\\$ganancia\\_test] 45500000\n",
       "\\end{description}\n",
       "\n",
       "\\item \\begin{description}\n",
       "\\item[\\$semilla] 158959\n",
       "\\item[\\$testing] 49386\n",
       "\\item[\\$testing\\_pos] 379\n",
       "\\item[\\$envios] 3986\n",
       "\\item[\\$aciertos] 235\n",
       "\\item[\\$ganancia\\_test] 54140000\n",
       "\\end{description}\n",
       "\n",
       "\\item \\begin{description}\n",
       "\\item[\\$semilla] 197803\n",
       "\\item[\\$testing] 49382\n",
       "\\item[\\$testing\\_pos] 379\n",
       "\\item[\\$envios] 3060\n",
       "\\item[\\$aciertos] 199\n",
       "\\item[\\$ganancia\\_test] 4.9e+07\n",
       "\\end{description}\n",
       "\n",
       "\\item \\begin{description}\n",
       "\\item[\\$semilla] 764627\n",
       "\\item[\\$testing] 49376\n",
       "\\item[\\$testing\\_pos] 379\n",
       "\\item[\\$envios] 3711\n",
       "\\item[\\$aciertos] 218\n",
       "\\item[\\$ganancia\\_test] 50090000\n",
       "\\end{description}\n",
       "\n",
       "\\item \\begin{description}\n",
       "\\item[\\$semilla] 453527\n",
       "\\item[\\$testing] 49379\n",
       "\\item[\\$testing\\_pos] 374\n",
       "\\item[\\$envios] 3129\n",
       "\\item[\\$aciertos] 189\n",
       "\\item[\\$ganancia\\_test] 44310000\n",
       "\\end{description}\n",
       "\n",
       "\\item \\begin{description}\n",
       "\\item[\\$semilla] 837631\n",
       "\\item[\\$testing] 49382\n",
       "\\item[\\$testing\\_pos] 379\n",
       "\\item[\\$envios] 2865\n",
       "\\item[\\$aciertos] 199\n",
       "\\item[\\$ganancia\\_test] 50950000\n",
       "\\end{description}\n",
       "\n",
       "\\item \\begin{description}\n",
       "\\item[\\$semilla] 178597\n",
       "\\item[\\$testing] 49376\n",
       "\\item[\\$testing\\_pos] 375\n",
       "\\item[\\$envios] 3670\n",
       "\\item[\\$aciertos] 214\n",
       "\\item[\\$ganancia\\_test] 48900000\n",
       "\\end{description}\n",
       "\n",
       "\\item \\begin{description}\n",
       "\\item[\\$semilla] 942091\n",
       "\\item[\\$testing] 49390\n",
       "\\item[\\$testing\\_pos] 374\n",
       "\\item[\\$envios] 3313\n",
       "\\item[\\$aciertos] 193\n",
       "\\item[\\$ganancia\\_test] 44070000\n",
       "\\end{description}\n",
       "\n",
       "\\item \\begin{description}\n",
       "\\item[\\$semilla] 428551\n",
       "\\item[\\$testing] 49384\n",
       "\\item[\\$testing\\_pos] 378\n",
       "\\item[\\$envios] 3382\n",
       "\\item[\\$aciertos] 203\n",
       "\\item[\\$ganancia\\_test] 47380000\n",
       "\\end{description}\n",
       "\n",
       "\\item \\begin{description}\n",
       "\\item[\\$semilla] 657929\n",
       "\\item[\\$testing] 49372\n",
       "\\item[\\$testing\\_pos] 374\n",
       "\\item[\\$envios] 3218\n",
       "\\item[\\$aciertos] 206\n",
       "\\item[\\$ganancia\\_test] 50220000\n",
       "\\end{description}\n",
       "\n",
       "\\item \\begin{description}\n",
       "\\item[\\$semilla] 479581\n",
       "\\item[\\$testing] 49386\n",
       "\\item[\\$testing\\_pos] 380\n",
       "\\item[\\$envios] 4215\n",
       "\\item[\\$aciertos] 226\n",
       "\\item[\\$ganancia\\_test] 48250000\n",
       "\\end{description}\n",
       "\n",
       "\\item \\begin{description}\n",
       "\\item[\\$semilla] 921889\n",
       "\\item[\\$testing] 49384\n",
       "\\item[\\$testing\\_pos] 373\n",
       "\\item[\\$envios] 3271\n",
       "\\item[\\$aciertos] 194\n",
       "\\item[\\$ganancia\\_test] 44890000\n",
       "\\end{description}\n",
       "\n",
       "\\item \\begin{description}\n",
       "\\item[\\$semilla] 689867\n",
       "\\item[\\$testing] 49374\n",
       "\\item[\\$testing\\_pos] 374\n",
       "\\item[\\$envios] 3433\n",
       "\\item[\\$aciertos] 218\n",
       "\\item[\\$ganancia\\_test] 52870000\n",
       "\\end{description}\n",
       "\n",
       "\\item \\begin{description}\n",
       "\\item[\\$semilla] 366859\n",
       "\\item[\\$testing] 49381\n",
       "\\item[\\$testing\\_pos] 379\n",
       "\\item[\\$envios] 4115\n",
       "\\item[\\$aciertos] 230\n",
       "\\item[\\$ganancia\\_test] 50850000\n",
       "\\end{description}\n",
       "\n",
       "\\item \\begin{description}\n",
       "\\item[\\$semilla] 701023\n",
       "\\item[\\$testing] 49374\n",
       "\\item[\\$testing\\_pos] 369\n",
       "\\item[\\$envios] 3220\n",
       "\\item[\\$aciertos] 186\n",
       "\\item[\\$ganancia\\_test] 42200000\n",
       "\\end{description}\n",
       "\n",
       "\\item \\begin{description}\n",
       "\\item[\\$semilla] 692407\n",
       "\\item[\\$testing] 49381\n",
       "\\item[\\$testing\\_pos] 378\n",
       "\\item[\\$envios] 3542\n",
       "\\item[\\$aciertos] 213\n",
       "\\item[\\$ganancia\\_test] 49780000\n",
       "\\end{description}\n",
       "\n",
       "\\item \\begin{description}\n",
       "\\item[\\$semilla] 301897\n",
       "\\item[\\$testing] 49380\n",
       "\\item[\\$testing\\_pos] 374\n",
       "\\item[\\$envios] 4255\n",
       "\\item[\\$aciertos] 220\n",
       "\\item[\\$ganancia\\_test] 45450000\n",
       "\\end{description}\n",
       "\n",
       "\\item \\begin{description}\n",
       "\\item[\\$semilla] 601267\n",
       "\\item[\\$testing] 49383\n",
       "\\item[\\$testing\\_pos] 376\n",
       "\\item[\\$envios] 3000\n",
       "\\item[\\$aciertos] 193\n",
       "\\item[\\$ganancia\\_test] 47200000\n",
       "\\end{description}\n",
       "\n",
       "\\item \\begin{description}\n",
       "\\item[\\$semilla] 749741\n",
       "\\item[\\$testing] 49388\n",
       "\\item[\\$testing\\_pos] 380\n",
       "\\item[\\$envios] 3730\n",
       "\\item[\\$aciertos] 231\n",
       "\\item[\\$ganancia\\_test] 55100000\n",
       "\\end{description}\n",
       "\n",
       "\\item \\begin{description}\n",
       "\\item[\\$semilla] 689431\n",
       "\\item[\\$testing] 49379\n",
       "\\item[\\$testing\\_pos] 376\n",
       "\\item[\\$envios] 2993\n",
       "\\item[\\$aciertos] 191\n",
       "\\item[\\$ganancia\\_test] 46470000\n",
       "\\end{description}\n",
       "\n",
       "\\item \\begin{description}\n",
       "\\item[\\$semilla] 389989\n",
       "\\item[\\$testing] 49372\n",
       "\\item[\\$testing\\_pos] 371\n",
       "\\item[\\$envios] 3170\n",
       "\\item[\\$aciertos] 191\n",
       "\\item[\\$ganancia\\_test] 44700000\n",
       "\\end{description}\n",
       "\n",
       "\\item \\begin{description}\n",
       "\\item[\\$semilla] 732817\n",
       "\\item[\\$testing] 49387\n",
       "\\item[\\$testing\\_pos] 377\n",
       "\\item[\\$envios] 3949\n",
       "\\item[\\$aciertos] 220\n",
       "\\item[\\$ganancia\\_test] 48510000\n",
       "\\end{description}\n",
       "\n",
       "\\item \\begin{description}\n",
       "\\item[\\$semilla] 932969\n",
       "\\item[\\$testing] 49381\n",
       "\\item[\\$testing\\_pos] 378\n",
       "\\item[\\$envios] 3510\n",
       "\\item[\\$aciertos] 205\n",
       "\\item[\\$ganancia\\_test] 46900000\n",
       "\\end{description}\n",
       "\n",
       "\\item \\begin{description}\n",
       "\\item[\\$semilla] 434377\n",
       "\\item[\\$testing] 49366\n",
       "\\item[\\$testing\\_pos] 372\n",
       "\\item[\\$envios] 4011\n",
       "\\item[\\$aciertos] 235\n",
       "\\item[\\$ganancia\\_test] 53890000\n",
       "\\end{description}\n",
       "\n",
       "\\item \\begin{description}\n",
       "\\item[\\$semilla] 201389\n",
       "\\item[\\$testing] 49382\n",
       "\\item[\\$testing\\_pos] 376\n",
       "\\item[\\$envios] 3716\n",
       "\\item[\\$aciertos] 224\n",
       "\\item[\\$ganancia\\_test] 52440000\n",
       "\\end{description}\n",
       "\n",
       "\\item \\begin{description}\n",
       "\\item[\\$semilla] 157141\n",
       "\\item[\\$testing] 49395\n",
       "\\item[\\$testing\\_pos] 381\n",
       "\\item[\\$envios] 4210\n",
       "\\item[\\$aciertos] 238\n",
       "\\item[\\$ganancia\\_test] 53100000\n",
       "\\end{description}\n",
       "\n",
       "\\item \\begin{description}\n",
       "\\item[\\$semilla] 825277\n",
       "\\item[\\$testing] 49386\n",
       "\\item[\\$testing\\_pos] 379\n",
       "\\item[\\$envios] 3985\n",
       "\\item[\\$aciertos] 229\n",
       "\\item[\\$ganancia\\_test] 51750000\n",
       "\\end{description}\n",
       "\n",
       "\\item \\begin{description}\n",
       "\\item[\\$semilla] 368651\n",
       "\\item[\\$testing] 49381\n",
       "\\item[\\$testing\\_pos] 378\n",
       "\\item[\\$envios] 4280\n",
       "\\item[\\$aciertos] 236\n",
       "\\item[\\$ganancia\\_test] 51600000\n",
       "\\end{description}\n",
       "\n",
       "\\end{enumerate}\n"
      ],
      "text/markdown": [
       "1. $semilla\n",
       ":   107449\n",
       "$testing\n",
       ":   49369\n",
       "$testing_pos\n",
       ":   371\n",
       "$envios\n",
       ":   4167\n",
       "$aciertos\n",
       ":   212\n",
       "$ganancia_test\n",
       ":   43130000\n",
       "\n",
       "\n",
       "\n",
       "2. $semilla\n",
       ":   906473\n",
       "$testing\n",
       ":   49366\n",
       "$testing_pos\n",
       ":   371\n",
       "$envios\n",
       ":   3138\n",
       "$aciertos\n",
       ":   190\n",
       "$ganancia_test\n",
       ":   44620000\n",
       "\n",
       "\n",
       "\n",
       "3. $semilla\n",
       ":   990887\n",
       "$testing\n",
       ":   49381\n",
       "$testing_pos\n",
       ":   374\n",
       "$envios\n",
       ":   4333\n",
       "$aciertos\n",
       ":   254\n",
       "$ganancia_test\n",
       ":   58270000\n",
       "\n",
       "\n",
       "\n",
       "4. $semilla\n",
       ":   362093\n",
       "$testing\n",
       ":   49384\n",
       "$testing_pos\n",
       ":   380\n",
       "$envios\n",
       ":   3281\n",
       "$aciertos\n",
       ":   207\n",
       "$ganancia_test\n",
       ":   49990000\n",
       "\n",
       "\n",
       "\n",
       "5. $semilla\n",
       ":   203549\n",
       "$testing\n",
       ":   49376\n",
       "$testing_pos\n",
       ":   376\n",
       "$envios\n",
       ":   3421\n",
       "$aciertos\n",
       ":   204\n",
       "$ganancia_test\n",
       ":   47390000\n",
       "\n",
       "\n",
       "\n",
       "6. $semilla\n",
       ":   956387\n",
       "$testing\n",
       ":   49379\n",
       "$testing_pos\n",
       ":   370\n",
       "$envios\n",
       ":   3344\n",
       "$aciertos\n",
       ":   196\n",
       "$ganancia_test\n",
       ":   44960000\n",
       "\n",
       "\n",
       "\n",
       "7. $semilla\n",
       ":   766163\n",
       "$testing\n",
       ":   49378\n",
       "$testing_pos\n",
       ":   376\n",
       "$envios\n",
       ":   3513\n",
       "$aciertos\n",
       ":   204\n",
       "$ganancia_test\n",
       ":   46470000\n",
       "\n",
       "\n",
       "\n",
       "8. $semilla\n",
       ":   460951\n",
       "$testing\n",
       ":   49380\n",
       "$testing_pos\n",
       ":   378\n",
       "$envios\n",
       ":   2764\n",
       "$aciertos\n",
       ":   182\n",
       "$ganancia_test\n",
       ":   45160000\n",
       "\n",
       "\n",
       "\n",
       "9. $semilla\n",
       ":   936281\n",
       "$testing\n",
       ":   49376\n",
       "$testing_pos\n",
       ":   372\n",
       "$envios\n",
       ":   3121\n",
       "$aciertos\n",
       ":   197\n",
       "$ganancia_test\n",
       ":   47590000\n",
       "\n",
       "\n",
       "\n",
       "10. $semilla\n",
       ":   230357\n",
       "$testing\n",
       ":   49390\n",
       "$testing_pos\n",
       ":   385\n",
       "$envios\n",
       ":   3333\n",
       "$aciertos\n",
       ":   217\n",
       "$ganancia_test\n",
       ":   53470000\n",
       "\n",
       "\n",
       "\n",
       "11. $semilla\n",
       ":   144071\n",
       "$testing\n",
       ":   49384\n",
       "$testing_pos\n",
       ":   378\n",
       "$envios\n",
       ":   3896\n",
       "$aciertos\n",
       ":   209\n",
       "$ganancia_test\n",
       ":   44640000\n",
       "\n",
       "\n",
       "\n",
       "12. $semilla\n",
       ":   585367\n",
       "$testing\n",
       ":   49383\n",
       "$testing_pos\n",
       ":   373\n",
       "$envios\n",
       ":   4266\n",
       "$aciertos\n",
       ":   224\n",
       "$ganancia_test\n",
       ":   46940000\n",
       "\n",
       "\n",
       "\n",
       "13. $semilla\n",
       ":   415381\n",
       "$testing\n",
       ":   49385\n",
       "$testing_pos\n",
       ":   375\n",
       "$envios\n",
       ":   3617\n",
       "$aciertos\n",
       ":   202\n",
       "$ganancia_test\n",
       ":   44630000\n",
       "\n",
       "\n",
       "\n",
       "14. $semilla\n",
       ":   121963\n",
       "$testing\n",
       ":   49372\n",
       "$testing_pos\n",
       ":   375\n",
       "$envios\n",
       ":   3337\n",
       "$aciertos\n",
       ":   211\n",
       "$ganancia_test\n",
       ":   51030000\n",
       "\n",
       "\n",
       "\n",
       "15. $semilla\n",
       ":   640727\n",
       "$testing\n",
       ":   49385\n",
       "$testing_pos\n",
       ":   373\n",
       "$envios\n",
       ":   4007\n",
       "$aciertos\n",
       ":   222\n",
       "$ganancia_test\n",
       ":   48730000\n",
       "\n",
       "\n",
       "\n",
       "16. $semilla\n",
       ":   222619\n",
       "$testing\n",
       ":   49371\n",
       "$testing_pos\n",
       ":   370\n",
       "$envios\n",
       ":   3835\n",
       "$aciertos\n",
       ":   200\n",
       "$ganancia_test\n",
       ":   41650000\n",
       "\n",
       "\n",
       "\n",
       "17. $semilla\n",
       ":   714169\n",
       "$testing\n",
       ":   49381\n",
       "$testing_pos\n",
       ":   375\n",
       "$envios\n",
       ":   2928\n",
       "$aciertos\n",
       ":   183\n",
       "$ganancia_test\n",
       ":   43920000\n",
       "\n",
       "\n",
       "\n",
       "18. $semilla\n",
       ":   820051\n",
       "$testing\n",
       ":   49378\n",
       "$testing_pos\n",
       ":   374\n",
       "$envios\n",
       ":   3476\n",
       "$aciertos\n",
       ":   207\n",
       "$ganancia_test\n",
       ":   48040000\n",
       "\n",
       "\n",
       "\n",
       "19. $semilla\n",
       ":   821263\n",
       "$testing\n",
       ":   49381\n",
       "$testing_pos\n",
       ":   374\n",
       "$envios\n",
       ":   3619\n",
       "$aciertos\n",
       ":   202\n",
       "$ganancia_test\n",
       ":   44610000\n",
       "\n",
       "\n",
       "\n",
       "20. $semilla\n",
       ":   305611\n",
       "$testing\n",
       ":   49380\n",
       "$testing_pos\n",
       ":   375\n",
       "$envios\n",
       ":   2846\n",
       "$aciertos\n",
       ":   188\n",
       "$ganancia_test\n",
       ":   46740000\n",
       "\n",
       "\n",
       "\n",
       "21. $semilla\n",
       ":   950149\n",
       "$testing\n",
       ":   49377\n",
       "$testing_pos\n",
       ":   377\n",
       "$envios\n",
       ":   4071\n",
       "$aciertos\n",
       ":   217\n",
       "$ganancia_test\n",
       ":   46090000\n",
       "\n",
       "\n",
       "\n",
       "22. $semilla\n",
       ":   462491\n",
       "$testing\n",
       ":   49394\n",
       "$testing_pos\n",
       ":   382\n",
       "$envios\n",
       ":   3279\n",
       "$aciertos\n",
       ":   200\n",
       "$ganancia_test\n",
       ":   47210000\n",
       "\n",
       "\n",
       "\n",
       "23. $semilla\n",
       ":   582761\n",
       "$testing\n",
       ":   49367\n",
       "$testing_pos\n",
       ":   369\n",
       "$envios\n",
       ":   3810\n",
       "$aciertos\n",
       ":   209\n",
       "$ganancia_test\n",
       ":   45500000\n",
       "\n",
       "\n",
       "\n",
       "24. $semilla\n",
       ":   158959\n",
       "$testing\n",
       ":   49386\n",
       "$testing_pos\n",
       ":   379\n",
       "$envios\n",
       ":   3986\n",
       "$aciertos\n",
       ":   235\n",
       "$ganancia_test\n",
       ":   54140000\n",
       "\n",
       "\n",
       "\n",
       "25. $semilla\n",
       ":   197803\n",
       "$testing\n",
       ":   49382\n",
       "$testing_pos\n",
       ":   379\n",
       "$envios\n",
       ":   3060\n",
       "$aciertos\n",
       ":   199\n",
       "$ganancia_test\n",
       ":   4.9e+07\n",
       "\n",
       "\n",
       "\n",
       "26. $semilla\n",
       ":   764627\n",
       "$testing\n",
       ":   49376\n",
       "$testing_pos\n",
       ":   379\n",
       "$envios\n",
       ":   3711\n",
       "$aciertos\n",
       ":   218\n",
       "$ganancia_test\n",
       ":   50090000\n",
       "\n",
       "\n",
       "\n",
       "27. $semilla\n",
       ":   453527\n",
       "$testing\n",
       ":   49379\n",
       "$testing_pos\n",
       ":   374\n",
       "$envios\n",
       ":   3129\n",
       "$aciertos\n",
       ":   189\n",
       "$ganancia_test\n",
       ":   44310000\n",
       "\n",
       "\n",
       "\n",
       "28. $semilla\n",
       ":   837631\n",
       "$testing\n",
       ":   49382\n",
       "$testing_pos\n",
       ":   379\n",
       "$envios\n",
       ":   2865\n",
       "$aciertos\n",
       ":   199\n",
       "$ganancia_test\n",
       ":   50950000\n",
       "\n",
       "\n",
       "\n",
       "29. $semilla\n",
       ":   178597\n",
       "$testing\n",
       ":   49376\n",
       "$testing_pos\n",
       ":   375\n",
       "$envios\n",
       ":   3670\n",
       "$aciertos\n",
       ":   214\n",
       "$ganancia_test\n",
       ":   48900000\n",
       "\n",
       "\n",
       "\n",
       "30. $semilla\n",
       ":   942091\n",
       "$testing\n",
       ":   49390\n",
       "$testing_pos\n",
       ":   374\n",
       "$envios\n",
       ":   3313\n",
       "$aciertos\n",
       ":   193\n",
       "$ganancia_test\n",
       ":   44070000\n",
       "\n",
       "\n",
       "\n",
       "31. $semilla\n",
       ":   428551\n",
       "$testing\n",
       ":   49384\n",
       "$testing_pos\n",
       ":   378\n",
       "$envios\n",
       ":   3382\n",
       "$aciertos\n",
       ":   203\n",
       "$ganancia_test\n",
       ":   47380000\n",
       "\n",
       "\n",
       "\n",
       "32. $semilla\n",
       ":   657929\n",
       "$testing\n",
       ":   49372\n",
       "$testing_pos\n",
       ":   374\n",
       "$envios\n",
       ":   3218\n",
       "$aciertos\n",
       ":   206\n",
       "$ganancia_test\n",
       ":   50220000\n",
       "\n",
       "\n",
       "\n",
       "33. $semilla\n",
       ":   479581\n",
       "$testing\n",
       ":   49386\n",
       "$testing_pos\n",
       ":   380\n",
       "$envios\n",
       ":   4215\n",
       "$aciertos\n",
       ":   226\n",
       "$ganancia_test\n",
       ":   48250000\n",
       "\n",
       "\n",
       "\n",
       "34. $semilla\n",
       ":   921889\n",
       "$testing\n",
       ":   49384\n",
       "$testing_pos\n",
       ":   373\n",
       "$envios\n",
       ":   3271\n",
       "$aciertos\n",
       ":   194\n",
       "$ganancia_test\n",
       ":   44890000\n",
       "\n",
       "\n",
       "\n",
       "35. $semilla\n",
       ":   689867\n",
       "$testing\n",
       ":   49374\n",
       "$testing_pos\n",
       ":   374\n",
       "$envios\n",
       ":   3433\n",
       "$aciertos\n",
       ":   218\n",
       "$ganancia_test\n",
       ":   52870000\n",
       "\n",
       "\n",
       "\n",
       "36. $semilla\n",
       ":   366859\n",
       "$testing\n",
       ":   49381\n",
       "$testing_pos\n",
       ":   379\n",
       "$envios\n",
       ":   4115\n",
       "$aciertos\n",
       ":   230\n",
       "$ganancia_test\n",
       ":   50850000\n",
       "\n",
       "\n",
       "\n",
       "37. $semilla\n",
       ":   701023\n",
       "$testing\n",
       ":   49374\n",
       "$testing_pos\n",
       ":   369\n",
       "$envios\n",
       ":   3220\n",
       "$aciertos\n",
       ":   186\n",
       "$ganancia_test\n",
       ":   42200000\n",
       "\n",
       "\n",
       "\n",
       "38. $semilla\n",
       ":   692407\n",
       "$testing\n",
       ":   49381\n",
       "$testing_pos\n",
       ":   378\n",
       "$envios\n",
       ":   3542\n",
       "$aciertos\n",
       ":   213\n",
       "$ganancia_test\n",
       ":   49780000\n",
       "\n",
       "\n",
       "\n",
       "39. $semilla\n",
       ":   301897\n",
       "$testing\n",
       ":   49380\n",
       "$testing_pos\n",
       ":   374\n",
       "$envios\n",
       ":   4255\n",
       "$aciertos\n",
       ":   220\n",
       "$ganancia_test\n",
       ":   45450000\n",
       "\n",
       "\n",
       "\n",
       "40. $semilla\n",
       ":   601267\n",
       "$testing\n",
       ":   49383\n",
       "$testing_pos\n",
       ":   376\n",
       "$envios\n",
       ":   3000\n",
       "$aciertos\n",
       ":   193\n",
       "$ganancia_test\n",
       ":   47200000\n",
       "\n",
       "\n",
       "\n",
       "41. $semilla\n",
       ":   749741\n",
       "$testing\n",
       ":   49388\n",
       "$testing_pos\n",
       ":   380\n",
       "$envios\n",
       ":   3730\n",
       "$aciertos\n",
       ":   231\n",
       "$ganancia_test\n",
       ":   55100000\n",
       "\n",
       "\n",
       "\n",
       "42. $semilla\n",
       ":   689431\n",
       "$testing\n",
       ":   49379\n",
       "$testing_pos\n",
       ":   376\n",
       "$envios\n",
       ":   2993\n",
       "$aciertos\n",
       ":   191\n",
       "$ganancia_test\n",
       ":   46470000\n",
       "\n",
       "\n",
       "\n",
       "43. $semilla\n",
       ":   389989\n",
       "$testing\n",
       ":   49372\n",
       "$testing_pos\n",
       ":   371\n",
       "$envios\n",
       ":   3170\n",
       "$aciertos\n",
       ":   191\n",
       "$ganancia_test\n",
       ":   44700000\n",
       "\n",
       "\n",
       "\n",
       "44. $semilla\n",
       ":   732817\n",
       "$testing\n",
       ":   49387\n",
       "$testing_pos\n",
       ":   377\n",
       "$envios\n",
       ":   3949\n",
       "$aciertos\n",
       ":   220\n",
       "$ganancia_test\n",
       ":   48510000\n",
       "\n",
       "\n",
       "\n",
       "45. $semilla\n",
       ":   932969\n",
       "$testing\n",
       ":   49381\n",
       "$testing_pos\n",
       ":   378\n",
       "$envios\n",
       ":   3510\n",
       "$aciertos\n",
       ":   205\n",
       "$ganancia_test\n",
       ":   46900000\n",
       "\n",
       "\n",
       "\n",
       "46. $semilla\n",
       ":   434377\n",
       "$testing\n",
       ":   49366\n",
       "$testing_pos\n",
       ":   372\n",
       "$envios\n",
       ":   4011\n",
       "$aciertos\n",
       ":   235\n",
       "$ganancia_test\n",
       ":   53890000\n",
       "\n",
       "\n",
       "\n",
       "47. $semilla\n",
       ":   201389\n",
       "$testing\n",
       ":   49382\n",
       "$testing_pos\n",
       ":   376\n",
       "$envios\n",
       ":   3716\n",
       "$aciertos\n",
       ":   224\n",
       "$ganancia_test\n",
       ":   52440000\n",
       "\n",
       "\n",
       "\n",
       "48. $semilla\n",
       ":   157141\n",
       "$testing\n",
       ":   49395\n",
       "$testing_pos\n",
       ":   381\n",
       "$envios\n",
       ":   4210\n",
       "$aciertos\n",
       ":   238\n",
       "$ganancia_test\n",
       ":   53100000\n",
       "\n",
       "\n",
       "\n",
       "49. $semilla\n",
       ":   825277\n",
       "$testing\n",
       ":   49386\n",
       "$testing_pos\n",
       ":   379\n",
       "$envios\n",
       ":   3985\n",
       "$aciertos\n",
       ":   229\n",
       "$ganancia_test\n",
       ":   51750000\n",
       "\n",
       "\n",
       "\n",
       "50. $semilla\n",
       ":   368651\n",
       "$testing\n",
       ":   49381\n",
       "$testing_pos\n",
       ":   378\n",
       "$envios\n",
       ":   4280\n",
       "$aciertos\n",
       ":   236\n",
       "$ganancia_test\n",
       ":   51600000\n",
       "\n",
       "\n",
       "\n",
       "\n",
       "\n"
      ],
      "text/plain": [
       "[[1]]\n",
       "[[1]]$semilla\n",
       "[1] 107449\n",
       "\n",
       "[[1]]$testing\n",
       "[1] 49369\n",
       "\n",
       "[[1]]$testing_pos\n",
       "[1] 371\n",
       "\n",
       "[[1]]$envios\n",
       "[1] 4167\n",
       "\n",
       "[[1]]$aciertos\n",
       "[1] 212\n",
       "\n",
       "[[1]]$ganancia_test\n",
       "[1] 43130000\n",
       "\n",
       "\n",
       "[[2]]\n",
       "[[2]]$semilla\n",
       "[1] 906473\n",
       "\n",
       "[[2]]$testing\n",
       "[1] 49366\n",
       "\n",
       "[[2]]$testing_pos\n",
       "[1] 371\n",
       "\n",
       "[[2]]$envios\n",
       "[1] 3138\n",
       "\n",
       "[[2]]$aciertos\n",
       "[1] 190\n",
       "\n",
       "[[2]]$ganancia_test\n",
       "[1] 44620000\n",
       "\n",
       "\n",
       "[[3]]\n",
       "[[3]]$semilla\n",
       "[1] 990887\n",
       "\n",
       "[[3]]$testing\n",
       "[1] 49381\n",
       "\n",
       "[[3]]$testing_pos\n",
       "[1] 374\n",
       "\n",
       "[[3]]$envios\n",
       "[1] 4333\n",
       "\n",
       "[[3]]$aciertos\n",
       "[1] 254\n",
       "\n",
       "[[3]]$ganancia_test\n",
       "[1] 58270000\n",
       "\n",
       "\n",
       "[[4]]\n",
       "[[4]]$semilla\n",
       "[1] 362093\n",
       "\n",
       "[[4]]$testing\n",
       "[1] 49384\n",
       "\n",
       "[[4]]$testing_pos\n",
       "[1] 380\n",
       "\n",
       "[[4]]$envios\n",
       "[1] 3281\n",
       "\n",
       "[[4]]$aciertos\n",
       "[1] 207\n",
       "\n",
       "[[4]]$ganancia_test\n",
       "[1] 49990000\n",
       "\n",
       "\n",
       "[[5]]\n",
       "[[5]]$semilla\n",
       "[1] 203549\n",
       "\n",
       "[[5]]$testing\n",
       "[1] 49376\n",
       "\n",
       "[[5]]$testing_pos\n",
       "[1] 376\n",
       "\n",
       "[[5]]$envios\n",
       "[1] 3421\n",
       "\n",
       "[[5]]$aciertos\n",
       "[1] 204\n",
       "\n",
       "[[5]]$ganancia_test\n",
       "[1] 47390000\n",
       "\n",
       "\n",
       "[[6]]\n",
       "[[6]]$semilla\n",
       "[1] 956387\n",
       "\n",
       "[[6]]$testing\n",
       "[1] 49379\n",
       "\n",
       "[[6]]$testing_pos\n",
       "[1] 370\n",
       "\n",
       "[[6]]$envios\n",
       "[1] 3344\n",
       "\n",
       "[[6]]$aciertos\n",
       "[1] 196\n",
       "\n",
       "[[6]]$ganancia_test\n",
       "[1] 44960000\n",
       "\n",
       "\n",
       "[[7]]\n",
       "[[7]]$semilla\n",
       "[1] 766163\n",
       "\n",
       "[[7]]$testing\n",
       "[1] 49378\n",
       "\n",
       "[[7]]$testing_pos\n",
       "[1] 376\n",
       "\n",
       "[[7]]$envios\n",
       "[1] 3513\n",
       "\n",
       "[[7]]$aciertos\n",
       "[1] 204\n",
       "\n",
       "[[7]]$ganancia_test\n",
       "[1] 46470000\n",
       "\n",
       "\n",
       "[[8]]\n",
       "[[8]]$semilla\n",
       "[1] 460951\n",
       "\n",
       "[[8]]$testing\n",
       "[1] 49380\n",
       "\n",
       "[[8]]$testing_pos\n",
       "[1] 378\n",
       "\n",
       "[[8]]$envios\n",
       "[1] 2764\n",
       "\n",
       "[[8]]$aciertos\n",
       "[1] 182\n",
       "\n",
       "[[8]]$ganancia_test\n",
       "[1] 45160000\n",
       "\n",
       "\n",
       "[[9]]\n",
       "[[9]]$semilla\n",
       "[1] 936281\n",
       "\n",
       "[[9]]$testing\n",
       "[1] 49376\n",
       "\n",
       "[[9]]$testing_pos\n",
       "[1] 372\n",
       "\n",
       "[[9]]$envios\n",
       "[1] 3121\n",
       "\n",
       "[[9]]$aciertos\n",
       "[1] 197\n",
       "\n",
       "[[9]]$ganancia_test\n",
       "[1] 47590000\n",
       "\n",
       "\n",
       "[[10]]\n",
       "[[10]]$semilla\n",
       "[1] 230357\n",
       "\n",
       "[[10]]$testing\n",
       "[1] 49390\n",
       "\n",
       "[[10]]$testing_pos\n",
       "[1] 385\n",
       "\n",
       "[[10]]$envios\n",
       "[1] 3333\n",
       "\n",
       "[[10]]$aciertos\n",
       "[1] 217\n",
       "\n",
       "[[10]]$ganancia_test\n",
       "[1] 53470000\n",
       "\n",
       "\n",
       "[[11]]\n",
       "[[11]]$semilla\n",
       "[1] 144071\n",
       "\n",
       "[[11]]$testing\n",
       "[1] 49384\n",
       "\n",
       "[[11]]$testing_pos\n",
       "[1] 378\n",
       "\n",
       "[[11]]$envios\n",
       "[1] 3896\n",
       "\n",
       "[[11]]$aciertos\n",
       "[1] 209\n",
       "\n",
       "[[11]]$ganancia_test\n",
       "[1] 44640000\n",
       "\n",
       "\n",
       "[[12]]\n",
       "[[12]]$semilla\n",
       "[1] 585367\n",
       "\n",
       "[[12]]$testing\n",
       "[1] 49383\n",
       "\n",
       "[[12]]$testing_pos\n",
       "[1] 373\n",
       "\n",
       "[[12]]$envios\n",
       "[1] 4266\n",
       "\n",
       "[[12]]$aciertos\n",
       "[1] 224\n",
       "\n",
       "[[12]]$ganancia_test\n",
       "[1] 46940000\n",
       "\n",
       "\n",
       "[[13]]\n",
       "[[13]]$semilla\n",
       "[1] 415381\n",
       "\n",
       "[[13]]$testing\n",
       "[1] 49385\n",
       "\n",
       "[[13]]$testing_pos\n",
       "[1] 375\n",
       "\n",
       "[[13]]$envios\n",
       "[1] 3617\n",
       "\n",
       "[[13]]$aciertos\n",
       "[1] 202\n",
       "\n",
       "[[13]]$ganancia_test\n",
       "[1] 44630000\n",
       "\n",
       "\n",
       "[[14]]\n",
       "[[14]]$semilla\n",
       "[1] 121963\n",
       "\n",
       "[[14]]$testing\n",
       "[1] 49372\n",
       "\n",
       "[[14]]$testing_pos\n",
       "[1] 375\n",
       "\n",
       "[[14]]$envios\n",
       "[1] 3337\n",
       "\n",
       "[[14]]$aciertos\n",
       "[1] 211\n",
       "\n",
       "[[14]]$ganancia_test\n",
       "[1] 51030000\n",
       "\n",
       "\n",
       "[[15]]\n",
       "[[15]]$semilla\n",
       "[1] 640727\n",
       "\n",
       "[[15]]$testing\n",
       "[1] 49385\n",
       "\n",
       "[[15]]$testing_pos\n",
       "[1] 373\n",
       "\n",
       "[[15]]$envios\n",
       "[1] 4007\n",
       "\n",
       "[[15]]$aciertos\n",
       "[1] 222\n",
       "\n",
       "[[15]]$ganancia_test\n",
       "[1] 48730000\n",
       "\n",
       "\n",
       "[[16]]\n",
       "[[16]]$semilla\n",
       "[1] 222619\n",
       "\n",
       "[[16]]$testing\n",
       "[1] 49371\n",
       "\n",
       "[[16]]$testing_pos\n",
       "[1] 370\n",
       "\n",
       "[[16]]$envios\n",
       "[1] 3835\n",
       "\n",
       "[[16]]$aciertos\n",
       "[1] 200\n",
       "\n",
       "[[16]]$ganancia_test\n",
       "[1] 41650000\n",
       "\n",
       "\n",
       "[[17]]\n",
       "[[17]]$semilla\n",
       "[1] 714169\n",
       "\n",
       "[[17]]$testing\n",
       "[1] 49381\n",
       "\n",
       "[[17]]$testing_pos\n",
       "[1] 375\n",
       "\n",
       "[[17]]$envios\n",
       "[1] 2928\n",
       "\n",
       "[[17]]$aciertos\n",
       "[1] 183\n",
       "\n",
       "[[17]]$ganancia_test\n",
       "[1] 43920000\n",
       "\n",
       "\n",
       "[[18]]\n",
       "[[18]]$semilla\n",
       "[1] 820051\n",
       "\n",
       "[[18]]$testing\n",
       "[1] 49378\n",
       "\n",
       "[[18]]$testing_pos\n",
       "[1] 374\n",
       "\n",
       "[[18]]$envios\n",
       "[1] 3476\n",
       "\n",
       "[[18]]$aciertos\n",
       "[1] 207\n",
       "\n",
       "[[18]]$ganancia_test\n",
       "[1] 48040000\n",
       "\n",
       "\n",
       "[[19]]\n",
       "[[19]]$semilla\n",
       "[1] 821263\n",
       "\n",
       "[[19]]$testing\n",
       "[1] 49381\n",
       "\n",
       "[[19]]$testing_pos\n",
       "[1] 374\n",
       "\n",
       "[[19]]$envios\n",
       "[1] 3619\n",
       "\n",
       "[[19]]$aciertos\n",
       "[1] 202\n",
       "\n",
       "[[19]]$ganancia_test\n",
       "[1] 44610000\n",
       "\n",
       "\n",
       "[[20]]\n",
       "[[20]]$semilla\n",
       "[1] 305611\n",
       "\n",
       "[[20]]$testing\n",
       "[1] 49380\n",
       "\n",
       "[[20]]$testing_pos\n",
       "[1] 375\n",
       "\n",
       "[[20]]$envios\n",
       "[1] 2846\n",
       "\n",
       "[[20]]$aciertos\n",
       "[1] 188\n",
       "\n",
       "[[20]]$ganancia_test\n",
       "[1] 46740000\n",
       "\n",
       "\n",
       "[[21]]\n",
       "[[21]]$semilla\n",
       "[1] 950149\n",
       "\n",
       "[[21]]$testing\n",
       "[1] 49377\n",
       "\n",
       "[[21]]$testing_pos\n",
       "[1] 377\n",
       "\n",
       "[[21]]$envios\n",
       "[1] 4071\n",
       "\n",
       "[[21]]$aciertos\n",
       "[1] 217\n",
       "\n",
       "[[21]]$ganancia_test\n",
       "[1] 46090000\n",
       "\n",
       "\n",
       "[[22]]\n",
       "[[22]]$semilla\n",
       "[1] 462491\n",
       "\n",
       "[[22]]$testing\n",
       "[1] 49394\n",
       "\n",
       "[[22]]$testing_pos\n",
       "[1] 382\n",
       "\n",
       "[[22]]$envios\n",
       "[1] 3279\n",
       "\n",
       "[[22]]$aciertos\n",
       "[1] 200\n",
       "\n",
       "[[22]]$ganancia_test\n",
       "[1] 47210000\n",
       "\n",
       "\n",
       "[[23]]\n",
       "[[23]]$semilla\n",
       "[1] 582761\n",
       "\n",
       "[[23]]$testing\n",
       "[1] 49367\n",
       "\n",
       "[[23]]$testing_pos\n",
       "[1] 369\n",
       "\n",
       "[[23]]$envios\n",
       "[1] 3810\n",
       "\n",
       "[[23]]$aciertos\n",
       "[1] 209\n",
       "\n",
       "[[23]]$ganancia_test\n",
       "[1] 45500000\n",
       "\n",
       "\n",
       "[[24]]\n",
       "[[24]]$semilla\n",
       "[1] 158959\n",
       "\n",
       "[[24]]$testing\n",
       "[1] 49386\n",
       "\n",
       "[[24]]$testing_pos\n",
       "[1] 379\n",
       "\n",
       "[[24]]$envios\n",
       "[1] 3986\n",
       "\n",
       "[[24]]$aciertos\n",
       "[1] 235\n",
       "\n",
       "[[24]]$ganancia_test\n",
       "[1] 54140000\n",
       "\n",
       "\n",
       "[[25]]\n",
       "[[25]]$semilla\n",
       "[1] 197803\n",
       "\n",
       "[[25]]$testing\n",
       "[1] 49382\n",
       "\n",
       "[[25]]$testing_pos\n",
       "[1] 379\n",
       "\n",
       "[[25]]$envios\n",
       "[1] 3060\n",
       "\n",
       "[[25]]$aciertos\n",
       "[1] 199\n",
       "\n",
       "[[25]]$ganancia_test\n",
       "[1] 4.9e+07\n",
       "\n",
       "\n",
       "[[26]]\n",
       "[[26]]$semilla\n",
       "[1] 764627\n",
       "\n",
       "[[26]]$testing\n",
       "[1] 49376\n",
       "\n",
       "[[26]]$testing_pos\n",
       "[1] 379\n",
       "\n",
       "[[26]]$envios\n",
       "[1] 3711\n",
       "\n",
       "[[26]]$aciertos\n",
       "[1] 218\n",
       "\n",
       "[[26]]$ganancia_test\n",
       "[1] 50090000\n",
       "\n",
       "\n",
       "[[27]]\n",
       "[[27]]$semilla\n",
       "[1] 453527\n",
       "\n",
       "[[27]]$testing\n",
       "[1] 49379\n",
       "\n",
       "[[27]]$testing_pos\n",
       "[1] 374\n",
       "\n",
       "[[27]]$envios\n",
       "[1] 3129\n",
       "\n",
       "[[27]]$aciertos\n",
       "[1] 189\n",
       "\n",
       "[[27]]$ganancia_test\n",
       "[1] 44310000\n",
       "\n",
       "\n",
       "[[28]]\n",
       "[[28]]$semilla\n",
       "[1] 837631\n",
       "\n",
       "[[28]]$testing\n",
       "[1] 49382\n",
       "\n",
       "[[28]]$testing_pos\n",
       "[1] 379\n",
       "\n",
       "[[28]]$envios\n",
       "[1] 2865\n",
       "\n",
       "[[28]]$aciertos\n",
       "[1] 199\n",
       "\n",
       "[[28]]$ganancia_test\n",
       "[1] 50950000\n",
       "\n",
       "\n",
       "[[29]]\n",
       "[[29]]$semilla\n",
       "[1] 178597\n",
       "\n",
       "[[29]]$testing\n",
       "[1] 49376\n",
       "\n",
       "[[29]]$testing_pos\n",
       "[1] 375\n",
       "\n",
       "[[29]]$envios\n",
       "[1] 3670\n",
       "\n",
       "[[29]]$aciertos\n",
       "[1] 214\n",
       "\n",
       "[[29]]$ganancia_test\n",
       "[1] 48900000\n",
       "\n",
       "\n",
       "[[30]]\n",
       "[[30]]$semilla\n",
       "[1] 942091\n",
       "\n",
       "[[30]]$testing\n",
       "[1] 49390\n",
       "\n",
       "[[30]]$testing_pos\n",
       "[1] 374\n",
       "\n",
       "[[30]]$envios\n",
       "[1] 3313\n",
       "\n",
       "[[30]]$aciertos\n",
       "[1] 193\n",
       "\n",
       "[[30]]$ganancia_test\n",
       "[1] 44070000\n",
       "\n",
       "\n",
       "[[31]]\n",
       "[[31]]$semilla\n",
       "[1] 428551\n",
       "\n",
       "[[31]]$testing\n",
       "[1] 49384\n",
       "\n",
       "[[31]]$testing_pos\n",
       "[1] 378\n",
       "\n",
       "[[31]]$envios\n",
       "[1] 3382\n",
       "\n",
       "[[31]]$aciertos\n",
       "[1] 203\n",
       "\n",
       "[[31]]$ganancia_test\n",
       "[1] 47380000\n",
       "\n",
       "\n",
       "[[32]]\n",
       "[[32]]$semilla\n",
       "[1] 657929\n",
       "\n",
       "[[32]]$testing\n",
       "[1] 49372\n",
       "\n",
       "[[32]]$testing_pos\n",
       "[1] 374\n",
       "\n",
       "[[32]]$envios\n",
       "[1] 3218\n",
       "\n",
       "[[32]]$aciertos\n",
       "[1] 206\n",
       "\n",
       "[[32]]$ganancia_test\n",
       "[1] 50220000\n",
       "\n",
       "\n",
       "[[33]]\n",
       "[[33]]$semilla\n",
       "[1] 479581\n",
       "\n",
       "[[33]]$testing\n",
       "[1] 49386\n",
       "\n",
       "[[33]]$testing_pos\n",
       "[1] 380\n",
       "\n",
       "[[33]]$envios\n",
       "[1] 4215\n",
       "\n",
       "[[33]]$aciertos\n",
       "[1] 226\n",
       "\n",
       "[[33]]$ganancia_test\n",
       "[1] 48250000\n",
       "\n",
       "\n",
       "[[34]]\n",
       "[[34]]$semilla\n",
       "[1] 921889\n",
       "\n",
       "[[34]]$testing\n",
       "[1] 49384\n",
       "\n",
       "[[34]]$testing_pos\n",
       "[1] 373\n",
       "\n",
       "[[34]]$envios\n",
       "[1] 3271\n",
       "\n",
       "[[34]]$aciertos\n",
       "[1] 194\n",
       "\n",
       "[[34]]$ganancia_test\n",
       "[1] 44890000\n",
       "\n",
       "\n",
       "[[35]]\n",
       "[[35]]$semilla\n",
       "[1] 689867\n",
       "\n",
       "[[35]]$testing\n",
       "[1] 49374\n",
       "\n",
       "[[35]]$testing_pos\n",
       "[1] 374\n",
       "\n",
       "[[35]]$envios\n",
       "[1] 3433\n",
       "\n",
       "[[35]]$aciertos\n",
       "[1] 218\n",
       "\n",
       "[[35]]$ganancia_test\n",
       "[1] 52870000\n",
       "\n",
       "\n",
       "[[36]]\n",
       "[[36]]$semilla\n",
       "[1] 366859\n",
       "\n",
       "[[36]]$testing\n",
       "[1] 49381\n",
       "\n",
       "[[36]]$testing_pos\n",
       "[1] 379\n",
       "\n",
       "[[36]]$envios\n",
       "[1] 4115\n",
       "\n",
       "[[36]]$aciertos\n",
       "[1] 230\n",
       "\n",
       "[[36]]$ganancia_test\n",
       "[1] 50850000\n",
       "\n",
       "\n",
       "[[37]]\n",
       "[[37]]$semilla\n",
       "[1] 701023\n",
       "\n",
       "[[37]]$testing\n",
       "[1] 49374\n",
       "\n",
       "[[37]]$testing_pos\n",
       "[1] 369\n",
       "\n",
       "[[37]]$envios\n",
       "[1] 3220\n",
       "\n",
       "[[37]]$aciertos\n",
       "[1] 186\n",
       "\n",
       "[[37]]$ganancia_test\n",
       "[1] 42200000\n",
       "\n",
       "\n",
       "[[38]]\n",
       "[[38]]$semilla\n",
       "[1] 692407\n",
       "\n",
       "[[38]]$testing\n",
       "[1] 49381\n",
       "\n",
       "[[38]]$testing_pos\n",
       "[1] 378\n",
       "\n",
       "[[38]]$envios\n",
       "[1] 3542\n",
       "\n",
       "[[38]]$aciertos\n",
       "[1] 213\n",
       "\n",
       "[[38]]$ganancia_test\n",
       "[1] 49780000\n",
       "\n",
       "\n",
       "[[39]]\n",
       "[[39]]$semilla\n",
       "[1] 301897\n",
       "\n",
       "[[39]]$testing\n",
       "[1] 49380\n",
       "\n",
       "[[39]]$testing_pos\n",
       "[1] 374\n",
       "\n",
       "[[39]]$envios\n",
       "[1] 4255\n",
       "\n",
       "[[39]]$aciertos\n",
       "[1] 220\n",
       "\n",
       "[[39]]$ganancia_test\n",
       "[1] 45450000\n",
       "\n",
       "\n",
       "[[40]]\n",
       "[[40]]$semilla\n",
       "[1] 601267\n",
       "\n",
       "[[40]]$testing\n",
       "[1] 49383\n",
       "\n",
       "[[40]]$testing_pos\n",
       "[1] 376\n",
       "\n",
       "[[40]]$envios\n",
       "[1] 3000\n",
       "\n",
       "[[40]]$aciertos\n",
       "[1] 193\n",
       "\n",
       "[[40]]$ganancia_test\n",
       "[1] 47200000\n",
       "\n",
       "\n",
       "[[41]]\n",
       "[[41]]$semilla\n",
       "[1] 749741\n",
       "\n",
       "[[41]]$testing\n",
       "[1] 49388\n",
       "\n",
       "[[41]]$testing_pos\n",
       "[1] 380\n",
       "\n",
       "[[41]]$envios\n",
       "[1] 3730\n",
       "\n",
       "[[41]]$aciertos\n",
       "[1] 231\n",
       "\n",
       "[[41]]$ganancia_test\n",
       "[1] 55100000\n",
       "\n",
       "\n",
       "[[42]]\n",
       "[[42]]$semilla\n",
       "[1] 689431\n",
       "\n",
       "[[42]]$testing\n",
       "[1] 49379\n",
       "\n",
       "[[42]]$testing_pos\n",
       "[1] 376\n",
       "\n",
       "[[42]]$envios\n",
       "[1] 2993\n",
       "\n",
       "[[42]]$aciertos\n",
       "[1] 191\n",
       "\n",
       "[[42]]$ganancia_test\n",
       "[1] 46470000\n",
       "\n",
       "\n",
       "[[43]]\n",
       "[[43]]$semilla\n",
       "[1] 389989\n",
       "\n",
       "[[43]]$testing\n",
       "[1] 49372\n",
       "\n",
       "[[43]]$testing_pos\n",
       "[1] 371\n",
       "\n",
       "[[43]]$envios\n",
       "[1] 3170\n",
       "\n",
       "[[43]]$aciertos\n",
       "[1] 191\n",
       "\n",
       "[[43]]$ganancia_test\n",
       "[1] 44700000\n",
       "\n",
       "\n",
       "[[44]]\n",
       "[[44]]$semilla\n",
       "[1] 732817\n",
       "\n",
       "[[44]]$testing\n",
       "[1] 49387\n",
       "\n",
       "[[44]]$testing_pos\n",
       "[1] 377\n",
       "\n",
       "[[44]]$envios\n",
       "[1] 3949\n",
       "\n",
       "[[44]]$aciertos\n",
       "[1] 220\n",
       "\n",
       "[[44]]$ganancia_test\n",
       "[1] 48510000\n",
       "\n",
       "\n",
       "[[45]]\n",
       "[[45]]$semilla\n",
       "[1] 932969\n",
       "\n",
       "[[45]]$testing\n",
       "[1] 49381\n",
       "\n",
       "[[45]]$testing_pos\n",
       "[1] 378\n",
       "\n",
       "[[45]]$envios\n",
       "[1] 3510\n",
       "\n",
       "[[45]]$aciertos\n",
       "[1] 205\n",
       "\n",
       "[[45]]$ganancia_test\n",
       "[1] 46900000\n",
       "\n",
       "\n",
       "[[46]]\n",
       "[[46]]$semilla\n",
       "[1] 434377\n",
       "\n",
       "[[46]]$testing\n",
       "[1] 49366\n",
       "\n",
       "[[46]]$testing_pos\n",
       "[1] 372\n",
       "\n",
       "[[46]]$envios\n",
       "[1] 4011\n",
       "\n",
       "[[46]]$aciertos\n",
       "[1] 235\n",
       "\n",
       "[[46]]$ganancia_test\n",
       "[1] 53890000\n",
       "\n",
       "\n",
       "[[47]]\n",
       "[[47]]$semilla\n",
       "[1] 201389\n",
       "\n",
       "[[47]]$testing\n",
       "[1] 49382\n",
       "\n",
       "[[47]]$testing_pos\n",
       "[1] 376\n",
       "\n",
       "[[47]]$envios\n",
       "[1] 3716\n",
       "\n",
       "[[47]]$aciertos\n",
       "[1] 224\n",
       "\n",
       "[[47]]$ganancia_test\n",
       "[1] 52440000\n",
       "\n",
       "\n",
       "[[48]]\n",
       "[[48]]$semilla\n",
       "[1] 157141\n",
       "\n",
       "[[48]]$testing\n",
       "[1] 49395\n",
       "\n",
       "[[48]]$testing_pos\n",
       "[1] 381\n",
       "\n",
       "[[48]]$envios\n",
       "[1] 4210\n",
       "\n",
       "[[48]]$aciertos\n",
       "[1] 238\n",
       "\n",
       "[[48]]$ganancia_test\n",
       "[1] 53100000\n",
       "\n",
       "\n",
       "[[49]]\n",
       "[[49]]$semilla\n",
       "[1] 825277\n",
       "\n",
       "[[49]]$testing\n",
       "[1] 49386\n",
       "\n",
       "[[49]]$testing_pos\n",
       "[1] 379\n",
       "\n",
       "[[49]]$envios\n",
       "[1] 3985\n",
       "\n",
       "[[49]]$aciertos\n",
       "[1] 229\n",
       "\n",
       "[[49]]$ganancia_test\n",
       "[1] 51750000\n",
       "\n",
       "\n",
       "[[50]]\n",
       "[[50]]$semilla\n",
       "[1] 368651\n",
       "\n",
       "[[50]]$testing\n",
       "[1] 49381\n",
       "\n",
       "[[50]]$testing_pos\n",
       "[1] 378\n",
       "\n",
       "[[50]]$envios\n",
       "[1] 4280\n",
       "\n",
       "[[50]]$aciertos\n",
       "[1] 236\n",
       "\n",
       "[[50]]$ganancia_test\n",
       "[1] 51600000\n",
       "\n"
      ]
     },
     "metadata": {},
     "output_type": "display_data"
    }
   ],
   "source": [
    "\n",
    "# la funcion mcmapply  llama a la funcion ArbolEstimarGanancia\n",
    "#  tantas veces como valores tenga el vector  PARAM$semillas\n",
    "salidas <- mcmapply(ArbolEstimarGanancia,\n",
    "  PARAM$semillas, # paso el vector de semillas\n",
    "  MoreArgs = list(PARAM), # aqui paso el segundo parametro\n",
    "  SIMPLIFY = FALSE,\n",
    "  mc.cores = detectCores()\n",
    ")\n",
    "\n",
    "# muestro la lista de las salidas en testing\n",
    "#  para la particion realizada con cada semilla\n",
    "salidas\n"
   ]
  },
  {
   "cell_type": "code",
   "execution_count": 42,
   "metadata": {
    "id": "unGWiKRMGimU"
   },
   "outputs": [
    {
     "name": "stdout",
     "output_type": "stream",
     "text": [
      "    semilla testing testing_pos envios aciertos ganancia_test\n",
      "      <int>   <int>       <int>  <int>    <int>         <num>\n",
      " 1:  107449   49369         371   4167      212      43130000\n",
      " 2:  906473   49366         371   3138      190      44620000\n",
      " 3:  990887   49381         374   4333      254      58270000\n",
      " 4:  362093   49384         380   3281      207      49990000\n",
      " 5:  203549   49376         376   3421      204      47390000\n",
      " 6:  956387   49379         370   3344      196      44960000\n",
      " 7:  766163   49378         376   3513      204      46470000\n",
      " 8:  460951   49380         378   2764      182      45160000\n",
      " 9:  936281   49376         372   3121      197      47590000\n",
      "10:  230357   49390         385   3333      217      53470000\n",
      "11:  144071   49384         378   3896      209      44640000\n",
      "12:  585367   49383         373   4266      224      46940000\n",
      "13:  415381   49385         375   3617      202      44630000\n",
      "14:  121963   49372         375   3337      211      51030000\n",
      "15:  640727   49385         373   4007      222      48730000\n",
      "16:  222619   49371         370   3835      200      41650000\n",
      "17:  714169   49381         375   2928      183      43920000\n",
      "18:  820051   49378         374   3476      207      48040000\n",
      "19:  821263   49381         374   3619      202      44610000\n",
      "20:  305611   49380         375   2846      188      46740000\n",
      "21:  950149   49377         377   4071      217      46090000\n",
      "22:  462491   49394         382   3279      200      47210000\n",
      "23:  582761   49367         369   3810      209      45500000\n",
      "24:  158959   49386         379   3986      235      54140000\n",
      "25:  197803   49382         379   3060      199      49000000\n",
      "26:  764627   49376         379   3711      218      50090000\n",
      "27:  453527   49379         374   3129      189      44310000\n",
      "28:  837631   49382         379   2865      199      50950000\n",
      "29:  178597   49376         375   3670      214      48900000\n",
      "30:  942091   49390         374   3313      193      44070000\n",
      "31:  428551   49384         378   3382      203      47380000\n",
      "32:  657929   49372         374   3218      206      50220000\n",
      "33:  479581   49386         380   4215      226      48250000\n",
      "34:  921889   49384         373   3271      194      44890000\n",
      "35:  689867   49374         374   3433      218      52870000\n",
      "36:  366859   49381         379   4115      230      50850000\n",
      "37:  701023   49374         369   3220      186      42200000\n",
      "38:  692407   49381         378   3542      213      49780000\n",
      "39:  301897   49380         374   4255      220      45450000\n",
      "40:  601267   49383         376   3000      193      47200000\n",
      "41:  749741   49388         380   3730      231      55100000\n",
      "42:  689431   49379         376   2993      191      46470000\n",
      "43:  389989   49372         371   3170      191      44700000\n",
      "44:  732817   49387         377   3949      220      48510000\n",
      "45:  932969   49381         378   3510      205      46900000\n",
      "46:  434377   49366         372   4011      235      53890000\n",
      "47:  201389   49382         376   3716      224      52440000\n",
      "48:  157141   49395         381   4210      238      53100000\n",
      "49:  825277   49386         379   3985      229      51750000\n",
      "50:  368651   49381         378   4280      236      51600000\n",
      "    semilla testing testing_pos envios aciertos ganancia_test\n"
     ]
    }
   ],
   "source": [
    "# paso la lista a vector\n",
    "tb_salida <- rbindlist(salidas)\n",
    "print( tb_salida)"
   ]
  },
  {
   "cell_type": "code",
   "execution_count": 43,
   "metadata": {
    "id": "oGoadhBKGimV"
   },
   "outputs": [
    {
     "name": "stdout",
     "output_type": "stream",
     "text": [
      "10 \t 48105000 \n",
      "20 \t 47099000 \n",
      "30 \t 47408000 \n",
      "40 \t 47533250 \n",
      "50 \t 48115800 \n"
     ]
    }
   ],
   "source": [
    "# calulo la salida\n",
    "for( i in seq(10, 50, 10) )\n",
    "{\n",
    "  cat( i, \"\\t\", tb_salida[ 1:i, mean(ganancia_test)], \"\\n\" )\n",
    "}\n"
   ]
  },
  {
   "cell_type": "markdown",
   "metadata": {
    "id": "dO9yQKt7GimV"
   },
   "source": [
    "### Acciones a realizar\n",
    "* Reportar la  los resultados en la planilla colaborativa hoja  **C2-nsem**\n",
    "* Se discutirá en clase la variabilidad de las distintas cantidades de semillas"
   ]
  },
  {
   "cell_type": "markdown",
   "metadata": {
    "id": "ziFKwIlBGimW"
   },
   "source": [
    "\n",
    "\n",
    "---\n",
    "\n"
   ]
  },
  {
   "cell_type": "markdown",
   "metadata": {
    "id": "2jncHe-KJLUg"
   },
   "source": [
    "# 5  DiezMil -Monte Carlo Cross Validation\n",
    "## Clase 02  Experimento 5"
   ]
  },
  {
   "cell_type": "markdown",
   "metadata": {
    "id": "vUzSGZGOJZq8"
   },
   "source": [
    "Mostrar a los estudiantes el resultado de un experimento en donde se ha corrido una Monte Carlo Cross Validation utilizando diez mil semillas y relacionar la cantidad de semillas con el resultado del Teorema Central del Límite\n",
    "<br>Los resultados se muestran en esta misma guia y se comentan en clase,Bajo ningún concepto se solicitará a l@s estudiantes hacer este experimento en clase ya que lleva varias horas en correr.\n"
   ]
  },
  {
   "cell_type": "markdown",
   "metadata": {
    "id": "G0YGjTMxuTSg"
   },
   "source": [
    "Aqui usted NO debe correr absolutamente nada, el experimento ya fue corrido por la cátedra y le muestra los resultados."
   ]
  },
  {
   "cell_type": "markdown",
   "metadata": {
    "id": "7NRUb3WtJikc"
   },
   "source": [
    "## 5.1\n",
    "Estos resultados han sido corridos por la cátedra.\n",
    "\n",
    "![Distribucion de las ganancias](https://storage.googleapis.com/open-courses/austral2025-af91/labo1r/C2_E5_distribucion.jpg)"
   ]
  },
  {
   "cell_type": "markdown",
   "metadata": {
    "id": "tZ4X8wdSKc7G"
   },
   "source": [
    "![salida](https://storage.googleapis.com/open-courses/austral2025-af91/labo1r/C2_E5_salida.jpg)"
   ]
  },
  {
   "cell_type": "markdown",
   "metadata": {
    "id": "EsL5ukNWKS71"
   },
   "source": [
    "![tabla](https://storage.googleapis.com/open-courses/austral2025-af91/labo1r/C2_E5_tabla.jpg)\n",
    "\n",
    " 2    ~    1,96  =  3605406.2 / 1836264.3\n",
    "\n",
    "Por el teorema central del límite, un aumento de 4 veces de la cantidad de registros que se promedian el desvio estandar disminuye 2 veces ,  raiz(4 ) = 2"
   ]
  },
  {
   "cell_type": "markdown",
   "metadata": {
    "id": "OTLq8TC4LR0c"
   },
   "source": [
    "\n",
    "\n",
    "---\n",
    "\n"
   ]
  },
  {
   "cell_type": "markdown",
   "metadata": {
    "id": "sAS1bfL8LmBv"
   },
   "source": [
    "# 6 Comparando dos distintos  modelos\n",
    "## Clase 02  Experimento 6"
   ]
  },
  {
   "cell_type": "markdown",
   "metadata": {
    "id": "KzwdMJDZLmB9"
   },
   "source": [
    "## 6.1  Objetivos\n",
    "Presentar a los alumnos la dificultad que se presenta ante la comparación de dos modelos, uno posee un poder predictivo claramente mayor al otro.\n",
    "Comparación simple de media de ganancias, versus probabilidad que un modelo sea superior a otro."
   ]
  },
  {
   "cell_type": "markdown",
   "metadata": {
    "id": "DDyFNmJ9L_CW"
   },
   "source": [
    "## 6.2 Introduccion\n",
    "Estos son los dos arboles de muy distinta profundidad.\n",
    "<br>¿Cuál de ellos es mejor? ¿Cuál elijo?\n",
    "\n",
    "| Hiperparámetro | Arbol 1 | Arbol 2 |\n",
    "| --- | --: |  ---: |\n",
    "| cp | -1 | -1 |\n",
    "|minsplit | 170 | 250 |\n",
    "|minbucket | 70 | 125 |\n",
    "|maxdepth | 7 | 20 |\n",
    "\n"
   ]
  },
  {
   "cell_type": "markdown",
   "metadata": {
    "id": "bQfwNsVzNrtI"
   },
   "source": [
    "## 6.3 Codigo dos distintos modelos"
   ]
  },
  {
   "cell_type": "markdown",
   "metadata": {
    "id": "Ku7qQgKjNruJ"
   },
   "source": [
    "Esta parte se debe correr con el runtime en lenguaje **R** Ir al menu, Runtime -> Change Runtime Tipe -> Runtime type -> R"
   ]
  },
  {
   "cell_type": "markdown",
   "metadata": {
    "id": "6jCdS3NMuKei"
   },
   "source": [
    "El tiempo de corrida es de alrededor de 40 minutos"
   ]
  },
  {
   "cell_type": "markdown",
   "metadata": {
    "id": "Z1EUBeHyNruK"
   },
   "source": [
    "limpio el ambiente de R"
   ]
  },
  {
   "cell_type": "code",
   "execution_count": 44,
   "metadata": {
    "id": "GxbC4V3zNruM"
   },
   "outputs": [
    {
     "data": {
      "text/html": [
       "<table class=\"dataframe\">\n",
       "<caption>A matrix: 2 × 6 of type dbl</caption>\n",
       "<thead>\n",
       "\t<tr><th></th><th scope=col>used</th><th scope=col>(Mb)</th><th scope=col>gc trigger</th><th scope=col>(Mb)</th><th scope=col>max used</th><th scope=col>(Mb)</th></tr>\n",
       "</thead>\n",
       "<tbody>\n",
       "\t<tr><th scope=row>Ncells</th><td> 811032</td><td>43.4</td><td> 1439374</td><td> 76.9</td><td>  1439374</td><td> 76.9</td></tr>\n",
       "\t<tr><th scope=row>Vcells</th><td>1535475</td><td>11.8</td><td>66932136</td><td>510.7</td><td>103895996</td><td>792.7</td></tr>\n",
       "</tbody>\n",
       "</table>\n"
      ],
      "text/latex": [
       "A matrix: 2 × 6 of type dbl\n",
       "\\begin{tabular}{r|llllll}\n",
       "  & used & (Mb) & gc trigger & (Mb) & max used & (Mb)\\\\\n",
       "\\hline\n",
       "\tNcells &  811032 & 43.4 &  1439374 &  76.9 &   1439374 &  76.9\\\\\n",
       "\tVcells & 1535475 & 11.8 & 66932136 & 510.7 & 103895996 & 792.7\\\\\n",
       "\\end{tabular}\n"
      ],
      "text/markdown": [
       "\n",
       "A matrix: 2 × 6 of type dbl\n",
       "\n",
       "| <!--/--> | used | (Mb) | gc trigger | (Mb) | max used | (Mb) |\n",
       "|---|---|---|---|---|---|---|\n",
       "| Ncells |  811032 | 43.4 |  1439374 |  76.9 |   1439374 |  76.9 |\n",
       "| Vcells | 1535475 | 11.8 | 66932136 | 510.7 | 103895996 | 792.7 |\n",
       "\n"
      ],
      "text/plain": [
       "       used    (Mb) gc trigger (Mb)  max used  (Mb) \n",
       "Ncells  811032 43.4  1439374    76.9   1439374  76.9\n",
       "Vcells 1535475 11.8 66932136   510.7 103895996 792.7"
      ]
     },
     "metadata": {},
     "output_type": "display_data"
    }
   ],
   "source": [
    "# limpio la memoria\n",
    "rm(list=ls(all.names=TRUE)) # remove all objects\n",
    "gc(full=TRUE, verbose=FALSE) # garbage collection"
   ]
  },
  {
   "cell_type": "markdown",
   "metadata": {
    "id": "i2WkSCIhNruQ"
   },
   "source": [
    "* Instalacion de la libreria  rpart.plot  para dibujar el arbol\n",
    "* invocacion de las librerias  **data.table** y  **rpart**"
   ]
  },
  {
   "cell_type": "code",
   "execution_count": 45,
   "metadata": {
    "id": "3bMsgZJWNruR"
   },
   "outputs": [
    {
     "name": "stderr",
     "output_type": "stream",
     "text": [
      "Loading required package: ggplot2\n",
      "\n"
     ]
    }
   ],
   "source": [
    "# cargo las librerias que necesito\n",
    "require(\"data.table\")\n",
    "require(\"rpart\")\n",
    "require(\"parallel\")\n",
    "\n",
    "if (!require(\"primes\")) install.packages(\"primes\")\n",
    "require(\"primes\")\n",
    "\n",
    "require(\"ggplot2\")"
   ]
  },
  {
   "cell_type": "markdown",
   "metadata": {
    "id": "t1lTXrKaNruT"
   },
   "source": [
    "###  Accion a Realizar\n",
    "PARAM$semilla_primigenia  debe reemplazarse por SU primer semilla"
   ]
  },
  {
   "cell_type": "code",
   "execution_count": 46,
   "metadata": {
    "id": "QFbPtTCMNruV"
   },
   "outputs": [],
   "source": [
    "PARAM <- list()\n",
    "PARAM$semilla_primigenia <- 500009\n",
    "PARAM$qsemillas <- 20\n",
    "PARAM$training_pct <- 70L     # entre 1 y 100\n"
   ]
  },
  {
   "cell_type": "code",
   "execution_count": 47,
   "metadata": {
    "id": "GiBGk7WKQv2V"
   },
   "outputs": [],
   "source": [
    "# los dos arboles\n",
    "PARAM$rpart1 <- list (\n",
    "  \"cp\" = -1,\n",
    "  \"minsplit\" = 170,\n",
    "  \"minbucket\" = 70,\n",
    "  \"maxdepth\" = 7\n",
    ")\n",
    "\n",
    "\n",
    "PARAM$rpart2 <- list (\n",
    "  \"cp\" = -1,\n",
    "  \"minsplit\" = 250,\n",
    "  \"minbucket\" = 125,\n",
    "  \"maxdepth\" = 20\n",
    ")"
   ]
  },
  {
   "cell_type": "code",
   "execution_count": 48,
   "metadata": {
    "id": "2BabfKg7NruX"
   },
   "outputs": [],
   "source": [
    "# particionar agrega una columna llamada fold a un dataset\n",
    "#  que consiste en una particion estratificada segun agrupa\n",
    "\n",
    "# particionar( data=dataset, division=c(70,30),\n",
    "#  agrupa=clase_ternaria, seed=semilla)   crea una particion 70, 30\n",
    "\n",
    "particionar <- function(\n",
    "    data, division, agrupa = \"\",\n",
    "    campo = \"fold\", start = 1, seed = NA) {\n",
    "  if (!is.na(seed)) set.seed(seed)\n",
    "\n",
    "  bloque <- unlist(mapply(function(x, y) {\n",
    "    rep(y, x)\n",
    "  }, division, seq(from = start, length.out = length(division))))\n",
    "\n",
    "  data[, (campo) := sample(rep(bloque, ceiling(.N / length(bloque))))[1:.N],\n",
    "    by = agrupa\n",
    "  ]\n",
    "}\n"
   ]
  },
  {
   "cell_type": "code",
   "execution_count": 49,
   "metadata": {
    "id": "YrGJgj4UNruZ"
   },
   "outputs": [],
   "source": [
    "DosArbolesEstimarGanancia <- function(semilla, training_pct, param_rpart1, param_rpart2) {\n",
    "\n",
    "  # fuerzo impresion\n",
    "  print( paste( semilla, Sys.time()) )\n",
    "  flush.console()\n",
    "\n",
    "  # particiono estratificadamente el dataset\n",
    "  particionar(dataset,\n",
    "    division = c(training_pct, 100L -training_pct),\n",
    "    agrupa = \"clase_ternaria\",\n",
    "    seed = semilla # aqui se usa SU semilla\n",
    "  )\n",
    "\n",
    "  # genero el modelo\n",
    "  # predecir clase_ternaria a partir del resto\n",
    "  modelo1 <- rpart(\"clase_ternaria ~ .\",\n",
    "    data = dataset[fold == 1], # fold==1  es training,  el 70% de los datos\n",
    "    xval = 0,\n",
    "    control = param_rpart1\n",
    "  ) # aqui van los parametros del arbol\n",
    "\n",
    "  # aplico el modelo a los datos de testing\n",
    "  prediccion1 <- predict(modelo1, # el modelo que genere recien\n",
    "    dataset[fold == 2], # fold==2  es testing, el 30% de los datos\n",
    "    type = \"prob\"\n",
    "  ) # type= \"prob\"  es que devuelva la probabilidad\n",
    "\n",
    "\n",
    "  # calculo la ganancia en testing  qu es fold==2\n",
    "  ganancia_test1 <- dataset[\n",
    "    fold == 2,\n",
    "    sum(ifelse(prediccion1[, \"BAJA+2\"] > 0.025,\n",
    "      ifelse(clase_ternaria == \"BAJA+2\", 117000, -3000),\n",
    "      0\n",
    "    ))\n",
    "  ]\n",
    "\n",
    "  # escalo la ganancia como si fuera todo el dataset\n",
    "  ganancia_test_normalizada1 <- ganancia_test1 / (( 100 - training_pct ) / 100 )\n",
    "\n",
    "  modelo2 <- rpart(\"clase_ternaria ~ .\",\n",
    "    data = dataset[fold == 1], # fold==1  es training,  el 70% de los datos\n",
    "    xval = 0,\n",
    "    control = param_rpart2\n",
    "  ) # aqui van los parametros del arbol\n",
    "\n",
    "  # aplico el modelo a los datos de testing\n",
    "  prediccion2 <- predict(modelo2, # el modelo que genere recien\n",
    "    dataset[fold == 2], # fold==2  es testing, el 30% de los datos\n",
    "    type = \"prob\"\n",
    "  ) # type= \"prob\"  es que devuelva la probabilidad\n",
    "\n",
    "\n",
    "  # calculo la ganancia en testing  qu es fold==2\n",
    "  ganancia_test2 <- dataset[\n",
    "    fold == 2,\n",
    "    sum(ifelse(prediccion2[, \"BAJA+2\"] > 0.025,\n",
    "      ifelse(clase_ternaria == \"BAJA+2\", 117000, -3000),\n",
    "      0\n",
    "    ))\n",
    "  ]\n",
    "\n",
    "  # escalo la ganancia como si fuera todo el dataset\n",
    "  ganancia_test_normalizada2 <- ganancia_test2 / (( 100 - training_pct ) / 100 )\n",
    "\n",
    "  return(list(\n",
    "    \"semilla\" = semilla,\n",
    "    \"ganancia1\" = ganancia_test_normalizada1,\n",
    "    \"ganancia2\" = ganancia_test_normalizada2\n",
    "  ))\n",
    "}"
   ]
  },
  {
   "cell_type": "code",
   "execution_count": 50,
   "metadata": {
    "id": "2C2yjgQVNrud"
   },
   "outputs": [],
   "source": [
    "# carpeta de trabajo\n",
    "setwd(\"/content/buckets/b1/exp\")\n",
    "experimento <- \"exp206\"\n",
    "dir.create(experimento, showWarnings=FALSE)\n",
    "setwd( paste0(\"/content/buckets/b1/exp/\", experimento ))"
   ]
  },
  {
   "cell_type": "code",
   "execution_count": 51,
   "metadata": {
    "id": "oQeGcBnPNrug"
   },
   "outputs": [],
   "source": [
    "# lectura del dataset\n",
    "dataset <- fread(\"/content/datasets/dataset_pequeno.csv\")\n",
    "\n",
    "# trabajo solo con los datos con clase, es decir 202107\n",
    "dataset <- dataset[clase_ternaria != \"\"]"
   ]
  },
  {
   "cell_type": "code",
   "execution_count": 52,
   "metadata": {
    "id": "gXKI2eXO9Osx"
   },
   "outputs": [
    {
     "data": {
      "text/html": [
       "4"
      ],
      "text/latex": [
       "4"
      ],
      "text/markdown": [
       "4"
      ],
      "text/plain": [
       "[1] 4"
      ]
     },
     "metadata": {},
     "output_type": "display_data"
    }
   ],
   "source": [
    "detectCores()"
   ]
  },
  {
   "cell_type": "code",
   "execution_count": 53,
   "metadata": {
    "id": "tU8S7_5ANrui"
   },
   "outputs": [],
   "source": [
    "# genero numeros primos\n",
    "primos <- generate_primes(min = 100000, max = 1000000)\n",
    "set.seed(PARAM$semilla_primigenia) # inicializo\n",
    "\n",
    "# me quedo con PARAM$qsemillas   semillas\n",
    "PARAM$semillas <- sample(primos, PARAM$qsemillas )"
   ]
  },
  {
   "cell_type": "code",
   "execution_count": 54,
   "metadata": {
    "id": "mlF66CgxcHF3"
   },
   "outputs": [
    {
     "data": {
      "text/plain": [
       "[1] \"2025-07-24 02:42:37 UTC\""
      ]
     },
     "metadata": {},
     "output_type": "display_data"
    },
    {
     "data": {
      "text/plain": [
       "[1] \"2025-07-24 02:57:57 UTC\""
      ]
     },
     "metadata": {},
     "output_type": "display_data"
    }
   ],
   "source": [
    "# demora interminables 60 minutos en correr en Google Colab\n",
    "Sys.time()\n",
    "\n",
    "salidas <- mcmapply( DosArbolesEstimarGanancia,\n",
    "  PARAM$semillas, # paso el vector de semillas\n",
    "  MoreArgs = list(PARAM$training_pct, PARAM$rpart1, PARAM$rpart2), # aqui paso el segundo parametro\n",
    "  SIMPLIFY = FALSE,\n",
    "  mc.cores = detectCores()\n",
    ")\n",
    "\n",
    "Sys.time()"
   ]
  },
  {
   "cell_type": "code",
   "execution_count": 55,
   "metadata": {
    "id": "_g-_kccdNrum"
   },
   "outputs": [
    {
     "data": {
      "text/html": [
       "<table class=\"dataframe\">\n",
       "<caption>A data.table: 20 × 3</caption>\n",
       "<thead>\n",
       "\t<tr><th scope=col>semilla</th><th scope=col>ganancia1</th><th scope=col>ganancia2</th></tr>\n",
       "\t<tr><th scope=col>&lt;int&gt;</th><th scope=col>&lt;dbl&gt;</th><th scope=col>&lt;dbl&gt;</th></tr>\n",
       "</thead>\n",
       "<tbody>\n",
       "\t<tr><td>107449</td><td>43130000</td><td>38380000</td></tr>\n",
       "\t<tr><td>906473</td><td>44620000</td><td>39660000</td></tr>\n",
       "\t<tr><td>990887</td><td>58270000</td><td>47330000</td></tr>\n",
       "\t<tr><td>362093</td><td>49990000</td><td>45190000</td></tr>\n",
       "\t<tr><td>203549</td><td>47390000</td><td>44120000</td></tr>\n",
       "\t<tr><td>956387</td><td>44960000</td><td>39370000</td></tr>\n",
       "\t<tr><td>766163</td><td>46470000</td><td>39790000</td></tr>\n",
       "\t<tr><td>460951</td><td>45160000</td><td>45210000</td></tr>\n",
       "\t<tr><td>936281</td><td>47590000</td><td>38240000</td></tr>\n",
       "\t<tr><td>230357</td><td>53470000</td><td>41720000</td></tr>\n",
       "\t<tr><td>144071</td><td>44640000</td><td>42530000</td></tr>\n",
       "\t<tr><td>585367</td><td>46940000</td><td>40940000</td></tr>\n",
       "\t<tr><td>415381</td><td>44630000</td><td>44140000</td></tr>\n",
       "\t<tr><td>121963</td><td>51030000</td><td>49670000</td></tr>\n",
       "\t<tr><td>640727</td><td>48730000</td><td>41340000</td></tr>\n",
       "\t<tr><td>222619</td><td>41650000</td><td>31470000</td></tr>\n",
       "\t<tr><td>714169</td><td>43920000</td><td>44270000</td></tr>\n",
       "\t<tr><td>820051</td><td>48040000</td><td>40750000</td></tr>\n",
       "\t<tr><td>821263</td><td>44610000</td><td>40570000</td></tr>\n",
       "\t<tr><td>305611</td><td>46740000</td><td>39490000</td></tr>\n",
       "</tbody>\n",
       "</table>\n"
      ],
      "text/latex": [
       "A data.table: 20 × 3\n",
       "\\begin{tabular}{lll}\n",
       " semilla & ganancia1 & ganancia2\\\\\n",
       " <int> & <dbl> & <dbl>\\\\\n",
       "\\hline\n",
       "\t 107449 & 43130000 & 38380000\\\\\n",
       "\t 906473 & 44620000 & 39660000\\\\\n",
       "\t 990887 & 58270000 & 47330000\\\\\n",
       "\t 362093 & 49990000 & 45190000\\\\\n",
       "\t 203549 & 47390000 & 44120000\\\\\n",
       "\t 956387 & 44960000 & 39370000\\\\\n",
       "\t 766163 & 46470000 & 39790000\\\\\n",
       "\t 460951 & 45160000 & 45210000\\\\\n",
       "\t 936281 & 47590000 & 38240000\\\\\n",
       "\t 230357 & 53470000 & 41720000\\\\\n",
       "\t 144071 & 44640000 & 42530000\\\\\n",
       "\t 585367 & 46940000 & 40940000\\\\\n",
       "\t 415381 & 44630000 & 44140000\\\\\n",
       "\t 121963 & 51030000 & 49670000\\\\\n",
       "\t 640727 & 48730000 & 41340000\\\\\n",
       "\t 222619 & 41650000 & 31470000\\\\\n",
       "\t 714169 & 43920000 & 44270000\\\\\n",
       "\t 820051 & 48040000 & 40750000\\\\\n",
       "\t 821263 & 44610000 & 40570000\\\\\n",
       "\t 305611 & 46740000 & 39490000\\\\\n",
       "\\end{tabular}\n"
      ],
      "text/markdown": [
       "\n",
       "A data.table: 20 × 3\n",
       "\n",
       "| semilla &lt;int&gt; | ganancia1 &lt;dbl&gt; | ganancia2 &lt;dbl&gt; |\n",
       "|---|---|---|\n",
       "| 107449 | 43130000 | 38380000 |\n",
       "| 906473 | 44620000 | 39660000 |\n",
       "| 990887 | 58270000 | 47330000 |\n",
       "| 362093 | 49990000 | 45190000 |\n",
       "| 203549 | 47390000 | 44120000 |\n",
       "| 956387 | 44960000 | 39370000 |\n",
       "| 766163 | 46470000 | 39790000 |\n",
       "| 460951 | 45160000 | 45210000 |\n",
       "| 936281 | 47590000 | 38240000 |\n",
       "| 230357 | 53470000 | 41720000 |\n",
       "| 144071 | 44640000 | 42530000 |\n",
       "| 585367 | 46940000 | 40940000 |\n",
       "| 415381 | 44630000 | 44140000 |\n",
       "| 121963 | 51030000 | 49670000 |\n",
       "| 640727 | 48730000 | 41340000 |\n",
       "| 222619 | 41650000 | 31470000 |\n",
       "| 714169 | 43920000 | 44270000 |\n",
       "| 820051 | 48040000 | 40750000 |\n",
       "| 821263 | 44610000 | 40570000 |\n",
       "| 305611 | 46740000 | 39490000 |\n",
       "\n"
      ],
      "text/plain": [
       "   semilla ganancia1 ganancia2\n",
       "1  107449  43130000  38380000 \n",
       "2  906473  44620000  39660000 \n",
       "3  990887  58270000  47330000 \n",
       "4  362093  49990000  45190000 \n",
       "5  203549  47390000  44120000 \n",
       "6  956387  44960000  39370000 \n",
       "7  766163  46470000  39790000 \n",
       "8  460951  45160000  45210000 \n",
       "9  936281  47590000  38240000 \n",
       "10 230357  53470000  41720000 \n",
       "11 144071  44640000  42530000 \n",
       "12 585367  46940000  40940000 \n",
       "13 415381  44630000  44140000 \n",
       "14 121963  51030000  49670000 \n",
       "15 640727  48730000  41340000 \n",
       "16 222619  41650000  31470000 \n",
       "17 714169  43920000  44270000 \n",
       "18 820051  48040000  40750000 \n",
       "19 821263  44610000  40570000 \n",
       "20 305611  46740000  39490000 "
      ]
     },
     "metadata": {},
     "output_type": "display_data"
    }
   ],
   "source": [
    "# paso la lista a vector\n",
    "tb_salida <- rbindlist(salidas)\n",
    "tb_salida"
   ]
  },
  {
   "cell_type": "code",
   "execution_count": 56,
   "metadata": {
    "id": "-O0rg6btNrun"
   },
   "outputs": [
    {
     "data": {
      "image/png": "[encoded data removed]",
      "text/plain": [
       "plot without title"
      ]
     },
     "metadata": {
      "image/png": {
       "height": 420,
       "width": 420
      }
     },
     "output_type": "display_data"
    }
   ],
   "source": [
    "grafico <- ggplot( tb_salida, aes(x=ganancia1)) + geom_density(alpha=0.25, fill=\"green\", color=\"green\")  +\n",
    "             geom_density(data=tb_salida, aes(x=ganancia2), fill=\"purple\", color=\"purple\",  alpha=0.10)\n",
    "\n",
    "print(grafico)"
   ]
  },
  {
   "cell_type": "code",
   "execution_count": 57,
   "metadata": {
    "id": "uSqrazOyU_LC"
   },
   "outputs": [
    {
     "data": {
      "text/html": [
       "<strong>pdf:</strong> 2"
      ],
      "text/latex": [
       "\\textbf{pdf:} 2"
      ],
      "text/markdown": [
       "**pdf:** 2"
      ],
      "text/plain": [
       "pdf \n",
       "  2 "
      ]
     },
     "metadata": {},
     "output_type": "display_data"
    }
   ],
   "source": [
    "# imprimo en un .pdf  que va a la carpeta del experimento\n",
    "pdf(\"densidad_dos.pdf\")\n",
    "print(grafico)\n",
    "dev.off()"
   ]
  },
  {
   "cell_type": "code",
   "execution_count": 58,
   "metadata": {
    "id": "LGv0LB_4R7US"
   },
   "outputs": [
    {
     "name": "stdout",
     "output_type": "stream",
     "text": [
      "     arbol1   arbol2\n",
      "      <num>    <num>\n",
      "1: 47099000 41709000\n",
      "   prob( m1 > m2)\n",
      "            <num>\n",
      "1:            0.9\n"
     ]
    }
   ],
   "source": [
    "print( tb_salida[ , list( \"arbol1\" = mean( ganancia1),  \"arbol2\" = mean(ganancia2) ) ] )\n",
    "\n",
    "print( tb_salida[ , list( \"prob( m1 > m2)\" = sum(ganancia1 > ganancia2 )/ .N ) ]  )"
   ]
  },
  {
   "cell_type": "markdown",
   "metadata": {
    "id": "F6lFJf1VTi8b"
   },
   "source": [
    "### Acciones a realizar\n",
    "* Reportar la  los resultados en la planilla colaborativa hoja  **C2-dosModelos**\n",
    "* ¿Todos los alumnos hubieran elegido el mismo modelo aun con 20 semillas?"
   ]
  },
  {
   "cell_type": "markdown",
   "metadata": {
    "id": "aOpy-XBKTi8n"
   },
   "source": [
    "\n",
    "\n",
    "---\n",
    "\n"
   ]
  },
  {
   "cell_type": "markdown",
   "metadata": {
    "id": "EdzjiJf-dsEK"
   },
   "source": [
    "# 7 Comparando dos buenos  modelos\n",
    "## Clase 02  Experimento 7"
   ]
  },
  {
   "cell_type": "markdown",
   "metadata": {
    "id": "FcBjp5XxdsEt"
   },
   "source": [
    "## 7.1  Objetivos\n",
    "Presentar a los alumnos la dificultad que surge en la comparación de dos muy distintos, pero ambos buenos, modelos predictivos, y el costo computacional asociado a esa comparación\n",
    "<br>Comparación simple de media de ganancias, versus probabilidad que un modelo sea superior a otro.\n",
    "<br>Limitaciones de la MonteCarlo Cross Validation\n",
    "<br>Existencia del Test de Wilcoxon"
   ]
  },
  {
   "cell_type": "markdown",
   "metadata": {
    "id": "tYcOIcwCdsEu"
   },
   "source": [
    "## 7.2 Introduccion\n",
    "Estos son los dos arboles de muy distinta profundidad.\n",
    "<br>¿Cuál de ellos es mejor? ¿Cuál elijo?\n",
    "\n",
    "| Hiperparámetro | Arbol 1 | Arbol 2 |\n",
    "| --- | --: |  ---: |\n",
    "| cp | -1 | -1 |\n",
    "|minsplit | 170 | 1900 |\n",
    "|minbucket | 70 | 800 |\n",
    "|maxdepth | 7 | 3 |\n",
    "\n"
   ]
  },
  {
   "cell_type": "markdown",
   "metadata": {
    "id": "r0NDA7GgdsEu"
   },
   "source": [
    "## 7.3 Dos buenos modelos"
   ]
  },
  {
   "cell_type": "markdown",
   "metadata": {
    "id": "21SJmGd7dsEv"
   },
   "source": [
    "Esta parte se debe correr con el runtime en lenguaje **R** Ir al menu, Runtime -> Change Runtime Tipe -> Runtime type -> R"
   ]
  },
  {
   "cell_type": "markdown",
   "metadata": {
    "id": "Ne0e08KUt87w"
   },
   "source": [
    "El tiempo de corrida es de alrededor de 50 minutos"
   ]
  },
  {
   "cell_type": "markdown",
   "metadata": {
    "id": "q02SEGNwdsEv"
   },
   "source": [
    "limpio el ambiente de R"
   ]
  },
  {
   "cell_type": "code",
   "execution_count": 1,
   "metadata": {
    "id": "6c2ZJstWdsEw"
   },
   "outputs": [
    {
     "data": {
      "text/html": [
       "<table class=\"dataframe\">\n",
       "<caption>A matrix: 2 × 6 of type dbl</caption>\n",
       "<thead>\n",
       "\t<tr><th></th><th scope=col>used</th><th scope=col>(Mb)</th><th scope=col>gc trigger</th><th scope=col>(Mb)</th><th scope=col>max used</th><th scope=col>(Mb)</th></tr>\n",
       "</thead>\n",
       "<tbody>\n",
       "\t<tr><th scope=row>Ncells</th><td> 653320</td><td>34.9</td><td>1439374</td><td>76.9</td><td>1286637</td><td>68.8</td></tr>\n",
       "\t<tr><th scope=row>Vcells</th><td>1216622</td><td> 9.3</td><td>8388608</td><td>64.0</td><td>1924959</td><td>14.7</td></tr>\n",
       "</tbody>\n",
       "</table>\n"
      ],
      "text/latex": [
       "A matrix: 2 × 6 of type dbl\n",
       "\\begin{tabular}{r|llllll}\n",
       "  & used & (Mb) & gc trigger & (Mb) & max used & (Mb)\\\\\n",
       "\\hline\n",
       "\tNcells &  653320 & 34.9 & 1439374 & 76.9 & 1286637 & 68.8\\\\\n",
       "\tVcells & 1216622 &  9.3 & 8388608 & 64.0 & 1924959 & 14.7\\\\\n",
       "\\end{tabular}\n"
      ],
      "text/markdown": [
       "\n",
       "A matrix: 2 × 6 of type dbl\n",
       "\n",
       "| <!--/--> | used | (Mb) | gc trigger | (Mb) | max used | (Mb) |\n",
       "|---|---|---|---|---|---|---|\n",
       "| Ncells |  653320 | 34.9 | 1439374 | 76.9 | 1286637 | 68.8 |\n",
       "| Vcells | 1216622 |  9.3 | 8388608 | 64.0 | 1924959 | 14.7 |\n",
       "\n"
      ],
      "text/plain": [
       "       used    (Mb) gc trigger (Mb) max used (Mb)\n",
       "Ncells  653320 34.9 1439374    76.9 1286637  68.8\n",
       "Vcells 1216622  9.3 8388608    64.0 1924959  14.7"
      ]
     },
     "metadata": {},
     "output_type": "display_data"
    }
   ],
   "source": [
    "# limpio la memoria\n",
    "rm(list=ls(all.names=TRUE)) # remove all objects\n",
    "gc(full=TRUE, verbose=FALSE) # garbage collection"
   ]
  },
  {
   "cell_type": "markdown",
   "metadata": {
    "id": "62MIW0r1dsEx"
   },
   "source": [
    "* Instalacion de la libreria  rpart.plot  para dibujar el arbol\n",
    "* invocacion de las librerias  **data.table** y  **rpart**"
   ]
  },
  {
   "cell_type": "code",
   "execution_count": 2,
   "metadata": {
    "id": "2Ke4n-N8dsEy"
   },
   "outputs": [
    {
     "name": "stderr",
     "output_type": "stream",
     "text": [
      "Loading required package: data.table\n",
      "\n",
      "Loading required package: rpart\n",
      "\n",
      "Loading required package: parallel\n",
      "\n",
      "Loading required package: primes\n",
      "\n",
      "Loading required package: ggplot2\n",
      "\n"
     ]
    }
   ],
   "source": [
    "# cargo las librerias que necesito\n",
    "require(\"data.table\")\n",
    "require(\"rpart\")\n",
    "require(\"parallel\")\n",
    "\n",
    "if (!require(\"primes\")) install.packages(\"primes\")\n",
    "require(\"primes\")\n",
    "\n",
    "require(\"ggplot2\")"
   ]
  },
  {
   "cell_type": "markdown",
   "metadata": {
    "id": "UHSoeqi4dsEz"
   },
   "source": [
    "###  Accion a Realizar\n",
    "PARAM$semilla_primigenia  debe reemplazarse por SU primer semilla"
   ]
  },
  {
   "cell_type": "code",
   "execution_count": 3,
   "metadata": {
    "id": "f08_sqfAdsEz"
   },
   "outputs": [],
   "source": [
    "PARAM <- list()\n",
    "PARAM$semilla_primigenia <- 500009\n",
    "PARAM$qsemillas <- 50\n",
    "PARAM$training_pct <- 70L     # entre 1 y 100\n"
   ]
  },
  {
   "cell_type": "code",
   "execution_count": 4,
   "metadata": {
    "id": "L735D9rydsE0"
   },
   "outputs": [],
   "source": [
    "# los dos arboles\n",
    "PARAM$rpart1 <- list (\n",
    "  \"cp\" = -1,\n",
    "  \"minsplit\" = 170,\n",
    "  \"minbucket\" = 70,\n",
    "  \"maxdepth\" = 7\n",
    ")\n",
    "\n",
    "\n",
    "PARAM$rpart2 <- list (\n",
    "  \"cp\" = -1,\n",
    "  \"minsplit\" = 1900,\n",
    "  \"minbucket\" = 800,\n",
    "  \"maxdepth\" = 3\n",
    ")\n"
   ]
  },
  {
   "cell_type": "code",
   "execution_count": 5,
   "metadata": {
    "id": "O56epLUGdsE1"
   },
   "outputs": [],
   "source": [
    "# particionar agrega una columna llamada fold a un dataset\n",
    "#  que consiste en una particion estratificada segun agrupa\n",
    "\n",
    "# particionar( data=dataset, division=c(70,30),\n",
    "#  agrupa=clase_ternaria, seed=semilla)   crea una particion 70, 30\n",
    "\n",
    "particionar <- function(\n",
    "    data, division, agrupa = \"\",\n",
    "    campo = \"fold\", start = 1, seed = NA) {\n",
    "  if (!is.na(seed)) set.seed(seed)\n",
    "\n",
    "  bloque <- unlist(mapply(function(x, y) {\n",
    "    rep(y, x)\n",
    "  }, division, seq(from = start, length.out = length(division))))\n",
    "\n",
    "  data[, (campo) := sample(rep(bloque, ceiling(.N / length(bloque))))[1:.N],\n",
    "    by = agrupa\n",
    "  ]\n",
    "}\n"
   ]
  },
  {
   "cell_type": "code",
   "execution_count": 6,
   "metadata": {
    "id": "Bv_NorLhdsE1"
   },
   "outputs": [],
   "source": [
    "DosArbolesEstimarGanancia <- function(semilla, training_pct, param_rpart1, param_rpart2) {\n",
    "  # fuerzo impresion\n",
    "  print( paste( semilla, Sys.time()) )\n",
    "  flush.console()\n",
    "\n",
    "  # particiono estratificadamente el dataset\n",
    "  particionar(dataset,\n",
    "    division = c(training_pct, 100L -training_pct),\n",
    "    agrupa = \"clase_ternaria\",\n",
    "    seed = semilla # aqui se usa SU semilla\n",
    "  )\n",
    "\n",
    "  # genero el modelo\n",
    "  # predecir clase_ternaria a partir del resto\n",
    "  modelo1 <- rpart(\"clase_ternaria ~ .\",\n",
    "    data = dataset[fold == 1], # fold==1  es training,  el 70% de los datos\n",
    "    xval = 0,\n",
    "    control = param_rpart1\n",
    "  ) # aqui van los parametros del arbol\n",
    "\n",
    "  # aplico el modelo a los datos de testing\n",
    "  prediccion1 <- predict(modelo1, # el modelo que genere recien\n",
    "    dataset[fold == 2], # fold==2  es testing, el 30% de los datos\n",
    "    type = \"prob\"\n",
    "  ) # type= \"prob\"  es que devuelva la probabilidad\n",
    "\n",
    "\n",
    "  # calculo la ganancia en testing  qu es fold==2\n",
    "  ganancia_test1 <- dataset[\n",
    "    fold == 2,\n",
    "    sum(ifelse(prediccion1[, \"BAJA+2\"] > 0.025,\n",
    "      ifelse(clase_ternaria == \"BAJA+2\", 117000, -3000),\n",
    "      0\n",
    "    ))\n",
    "  ]\n",
    "\n",
    "  # escalo la ganancia como si fuera todo el dataset\n",
    "  ganancia_test_normalizada1 <- ganancia_test1 / (( 100 - training_pct ) / 100 )\n",
    "\n",
    "  modelo2 <- rpart(\"clase_ternaria ~ .\",\n",
    "    data = dataset[fold == 1], # fold==1  es training,  el 70% de los datos\n",
    "    xval = 0,\n",
    "    control = param_rpart2\n",
    "  ) # aqui van los parametros del arbol\n",
    "\n",
    "  # aplico el modelo a los datos de testing\n",
    "  prediccion2 <- predict(modelo2, # el modelo que genere recien\n",
    "    dataset[fold == 2], # fold==2  es testing, el 30% de los datos\n",
    "    type = \"prob\"\n",
    "  ) # type= \"prob\"  es que devuelva la probabilidad\n",
    "\n",
    "\n",
    "  # calculo la ganancia en testing  qu es fold==2\n",
    "  ganancia_test2 <- dataset[\n",
    "    fold == 2,\n",
    "    sum(ifelse(prediccion2[, \"BAJA+2\"] > 0.025,\n",
    "      ifelse(clase_ternaria == \"BAJA+2\", 117000, -3000),\n",
    "      0\n",
    "    ))\n",
    "  ]\n",
    "\n",
    "  # escalo la ganancia como si fuera todo el dataset\n",
    "  ganancia_test_normalizada2 <- ganancia_test2 / (( 100 - training_pct ) / 100 )\n",
    "\n",
    "  return(list(\n",
    "    \"semilla\" = semilla,\n",
    "    \"ganancia1\" = ganancia_test_normalizada1,\n",
    "    \"ganancia2\" = ganancia_test_normalizada2\n",
    "  ))\n",
    "}"
   ]
  },
  {
   "cell_type": "code",
   "execution_count": 7,
   "metadata": {
    "id": "N9GarblIdsE3"
   },
   "outputs": [],
   "source": [
    "# carpeta de trabajo\n",
    "setwd(\"/content/buckets/b1/exp\")\n",
    "experimento <- \"exp206\"\n",
    "dir.create(experimento, showWarnings=FALSE)\n",
    "setwd( paste0(\"/content/buckets/b1/exp/\", experimento ))"
   ]
  },
  {
   "cell_type": "code",
   "execution_count": 8,
   "metadata": {
    "id": "Z05r3wdTdsE3"
   },
   "outputs": [],
   "source": [
    "# lectura del dataset\n",
    "dataset <- fread(\"/content/datasets/dataset_pequeno.csv\")\n",
    "\n",
    "# trabajo solo con los datos con clase, es decir 202107\n",
    "dataset <- dataset[clase_ternaria != \"\"]"
   ]
  },
  {
   "cell_type": "code",
   "execution_count": 9,
   "metadata": {
    "id": "m8ODrVrndsE4"
   },
   "outputs": [],
   "source": [
    "# genero numeros primos\n",
    "primos <- generate_primes(min = 100000, max = 1000000)\n",
    "set.seed(PARAM$semilla_primigenia) # inicializo\n",
    "\n",
    "# me quedo con PARAM$qsemillas   semillas\n",
    "PARAM$semillas <- sample(primos, PARAM$qsemillas )"
   ]
  },
  {
   "cell_type": "code",
   "execution_count": 10,
   "metadata": {
    "id": "KQBhUXxJdsE5"
   },
   "outputs": [
    {
     "data": {
      "text/plain": [
       "[1] \"2025-07-25 01:12:52 UTC\""
      ]
     },
     "metadata": {},
     "output_type": "display_data"
    },
    {
     "data": {
      "text/plain": [
       "[1] \"2025-07-25 01:29:35 UTC\""
      ]
     },
     "metadata": {},
     "output_type": "display_data"
    }
   ],
   "source": [
    "# la funcion mcmapply  llama a la funcion DosArbolesEstimarGanancia\n",
    "#  tantas veces como valores tenga el vector  PARAM$semillas\n",
    "Sys.time()\n",
    "\n",
    "salidas <- mcmapply( DosArbolesEstimarGanancia,\n",
    "  PARAM$semillas, # paso el vector de semillas\n",
    "  MoreArgs = list(PARAM$training_pct, PARAM$rpart1, PARAM$rpart2), # aqui paso el segundo parametro\n",
    "  SIMPLIFY = FALSE,\n",
    "  mc.cores = detectCores()\n",
    ")\n",
    "\n",
    "Sys.time()"
   ]
  },
  {
   "cell_type": "code",
   "execution_count": 11,
   "metadata": {
    "id": "N0eS1CFFdsE5"
   },
   "outputs": [
    {
     "data": {
      "text/html": [
       "<table class=\"dataframe\">\n",
       "<caption>A data.table: 50 × 3</caption>\n",
       "<thead>\n",
       "\t<tr><th scope=col>semilla</th><th scope=col>ganancia1</th><th scope=col>ganancia2</th></tr>\n",
       "\t<tr><th scope=col>&lt;int&gt;</th><th scope=col>&lt;dbl&gt;</th><th scope=col>&lt;dbl&gt;</th></tr>\n",
       "</thead>\n",
       "<tbody>\n",
       "\t<tr><td>107449</td><td>43130000</td><td>43330000</td></tr>\n",
       "\t<tr><td>906473</td><td>44620000</td><td>42320000</td></tr>\n",
       "\t<tr><td>990887</td><td>58270000</td><td>55280000</td></tr>\n",
       "\t<tr><td>362093</td><td>49990000</td><td>49630000</td></tr>\n",
       "\t<tr><td>203549</td><td>47390000</td><td>48490000</td></tr>\n",
       "\t<tr><td>956387</td><td>44960000</td><td>46120000</td></tr>\n",
       "\t<tr><td>766163</td><td>46470000</td><td>48350000</td></tr>\n",
       "\t<tr><td>460951</td><td>45160000</td><td>48010000</td></tr>\n",
       "\t<tr><td>936281</td><td>47590000</td><td>46070000</td></tr>\n",
       "\t<tr><td>230357</td><td>53470000</td><td>54750000</td></tr>\n",
       "\t<tr><td>144071</td><td>44640000</td><td>48000000</td></tr>\n",
       "\t<tr><td>585367</td><td>46940000</td><td>43510000</td></tr>\n",
       "\t<tr><td>415381</td><td>44630000</td><td>48920000</td></tr>\n",
       "\t<tr><td>121963</td><td>51030000</td><td>54360000</td></tr>\n",
       "\t<tr><td>640727</td><td>48730000</td><td>45200000</td></tr>\n",
       "\t<tr><td>222619</td><td>41650000</td><td>42010000</td></tr>\n",
       "\t<tr><td>714169</td><td>43920000</td><td>49120000</td></tr>\n",
       "\t<tr><td>820051</td><td>48040000</td><td>53110000</td></tr>\n",
       "\t<tr><td>821263</td><td>44610000</td><td>47920000</td></tr>\n",
       "\t<tr><td>305611</td><td>46740000</td><td>42800000</td></tr>\n",
       "\t<tr><td>950149</td><td>46090000</td><td>47980000</td></tr>\n",
       "\t<tr><td>462491</td><td>47210000</td><td>45180000</td></tr>\n",
       "\t<tr><td>582761</td><td>45500000</td><td>46080000</td></tr>\n",
       "\t<tr><td>158959</td><td>54140000</td><td>47500000</td></tr>\n",
       "\t<tr><td>197803</td><td>49000000</td><td>52200000</td></tr>\n",
       "\t<tr><td>764627</td><td>50090000</td><td>49090000</td></tr>\n",
       "\t<tr><td>453527</td><td>44310000</td><td>45230000</td></tr>\n",
       "\t<tr><td>837631</td><td>50950000</td><td>49320000</td></tr>\n",
       "\t<tr><td>178597</td><td>48900000</td><td>55070000</td></tr>\n",
       "\t<tr><td>942091</td><td>44070000</td><td>49380000</td></tr>\n",
       "\t<tr><td>428551</td><td>47380000</td><td>51690000</td></tr>\n",
       "\t<tr><td>657929</td><td>50220000</td><td>49530000</td></tr>\n",
       "\t<tr><td>479581</td><td>48250000</td><td>49990000</td></tr>\n",
       "\t<tr><td>921889</td><td>44890000</td><td>44720000</td></tr>\n",
       "\t<tr><td>689867</td><td>52870000</td><td>54550000</td></tr>\n",
       "\t<tr><td>366859</td><td>50850000</td><td>50070000</td></tr>\n",
       "\t<tr><td>701023</td><td>42200000</td><td>43790000</td></tr>\n",
       "\t<tr><td>692407</td><td>49780000</td><td>51420000</td></tr>\n",
       "\t<tr><td>301897</td><td>45450000</td><td>49810000</td></tr>\n",
       "\t<tr><td>601267</td><td>47200000</td><td>47240000</td></tr>\n",
       "\t<tr><td>749741</td><td>55100000</td><td>49750000</td></tr>\n",
       "\t<tr><td>689431</td><td>46470000</td><td>44060000</td></tr>\n",
       "\t<tr><td>389989</td><td>44700000</td><td>41090000</td></tr>\n",
       "\t<tr><td>732817</td><td>48510000</td><td>48200000</td></tr>\n",
       "\t<tr><td>932969</td><td>46900000</td><td>45980000</td></tr>\n",
       "\t<tr><td>434377</td><td>53890000</td><td>52150000</td></tr>\n",
       "\t<tr><td>201389</td><td>52440000</td><td>48230000</td></tr>\n",
       "\t<tr><td>157141</td><td>53100000</td><td>48740000</td></tr>\n",
       "\t<tr><td>825277</td><td>51750000</td><td>50850000</td></tr>\n",
       "\t<tr><td>368651</td><td>51600000</td><td>50120000</td></tr>\n",
       "</tbody>\n",
       "</table>\n"
      ],
      "text/latex": [
       "A data.table: 50 × 3\n",
       "\\begin{tabular}{lll}\n",
       " semilla & ganancia1 & ganancia2\\\\\n",
       " <int> & <dbl> & <dbl>\\\\\n",
       "\\hline\n",
       "\t 107449 & 43130000 & 43330000\\\\\n",
       "\t 906473 & 44620000 & 42320000\\\\\n",
       "\t 990887 & 58270000 & 55280000\\\\\n",
       "\t 362093 & 49990000 & 49630000\\\\\n",
       "\t 203549 & 47390000 & 48490000\\\\\n",
       "\t 956387 & 44960000 & 46120000\\\\\n",
       "\t 766163 & 46470000 & 48350000\\\\\n",
       "\t 460951 & 45160000 & 48010000\\\\\n",
       "\t 936281 & 47590000 & 46070000\\\\\n",
       "\t 230357 & 53470000 & 54750000\\\\\n",
       "\t 144071 & 44640000 & 48000000\\\\\n",
       "\t 585367 & 46940000 & 43510000\\\\\n",
       "\t 415381 & 44630000 & 48920000\\\\\n",
       "\t 121963 & 51030000 & 54360000\\\\\n",
       "\t 640727 & 48730000 & 45200000\\\\\n",
       "\t 222619 & 41650000 & 42010000\\\\\n",
       "\t 714169 & 43920000 & 49120000\\\\\n",
       "\t 820051 & 48040000 & 53110000\\\\\n",
       "\t 821263 & 44610000 & 47920000\\\\\n",
       "\t 305611 & 46740000 & 42800000\\\\\n",
       "\t 950149 & 46090000 & 47980000\\\\\n",
       "\t 462491 & 47210000 & 45180000\\\\\n",
       "\t 582761 & 45500000 & 46080000\\\\\n",
       "\t 158959 & 54140000 & 47500000\\\\\n",
       "\t 197803 & 49000000 & 52200000\\\\\n",
       "\t 764627 & 50090000 & 49090000\\\\\n",
       "\t 453527 & 44310000 & 45230000\\\\\n",
       "\t 837631 & 50950000 & 49320000\\\\\n",
       "\t 178597 & 48900000 & 55070000\\\\\n",
       "\t 942091 & 44070000 & 49380000\\\\\n",
       "\t 428551 & 47380000 & 51690000\\\\\n",
       "\t 657929 & 50220000 & 49530000\\\\\n",
       "\t 479581 & 48250000 & 49990000\\\\\n",
       "\t 921889 & 44890000 & 44720000\\\\\n",
       "\t 689867 & 52870000 & 54550000\\\\\n",
       "\t 366859 & 50850000 & 50070000\\\\\n",
       "\t 701023 & 42200000 & 43790000\\\\\n",
       "\t 692407 & 49780000 & 51420000\\\\\n",
       "\t 301897 & 45450000 & 49810000\\\\\n",
       "\t 601267 & 47200000 & 47240000\\\\\n",
       "\t 749741 & 55100000 & 49750000\\\\\n",
       "\t 689431 & 46470000 & 44060000\\\\\n",
       "\t 389989 & 44700000 & 41090000\\\\\n",
       "\t 732817 & 48510000 & 48200000\\\\\n",
       "\t 932969 & 46900000 & 45980000\\\\\n",
       "\t 434377 & 53890000 & 52150000\\\\\n",
       "\t 201389 & 52440000 & 48230000\\\\\n",
       "\t 157141 & 53100000 & 48740000\\\\\n",
       "\t 825277 & 51750000 & 50850000\\\\\n",
       "\t 368651 & 51600000 & 50120000\\\\\n",
       "\\end{tabular}\n"
      ],
      "text/markdown": [
       "\n",
       "A data.table: 50 × 3\n",
       "\n",
       "| semilla &lt;int&gt; | ganancia1 &lt;dbl&gt; | ganancia2 &lt;dbl&gt; |\n",
       "|---|---|---|\n",
       "| 107449 | 43130000 | 43330000 |\n",
       "| 906473 | 44620000 | 42320000 |\n",
       "| 990887 | 58270000 | 55280000 |\n",
       "| 362093 | 49990000 | 49630000 |\n",
       "| 203549 | 47390000 | 48490000 |\n",
       "| 956387 | 44960000 | 46120000 |\n",
       "| 766163 | 46470000 | 48350000 |\n",
       "| 460951 | 45160000 | 48010000 |\n",
       "| 936281 | 47590000 | 46070000 |\n",
       "| 230357 | 53470000 | 54750000 |\n",
       "| 144071 | 44640000 | 48000000 |\n",
       "| 585367 | 46940000 | 43510000 |\n",
       "| 415381 | 44630000 | 48920000 |\n",
       "| 121963 | 51030000 | 54360000 |\n",
       "| 640727 | 48730000 | 45200000 |\n",
       "| 222619 | 41650000 | 42010000 |\n",
       "| 714169 | 43920000 | 49120000 |\n",
       "| 820051 | 48040000 | 53110000 |\n",
       "| 821263 | 44610000 | 47920000 |\n",
       "| 305611 | 46740000 | 42800000 |\n",
       "| 950149 | 46090000 | 47980000 |\n",
       "| 462491 | 47210000 | 45180000 |\n",
       "| 582761 | 45500000 | 46080000 |\n",
       "| 158959 | 54140000 | 47500000 |\n",
       "| 197803 | 49000000 | 52200000 |\n",
       "| 764627 | 50090000 | 49090000 |\n",
       "| 453527 | 44310000 | 45230000 |\n",
       "| 837631 | 50950000 | 49320000 |\n",
       "| 178597 | 48900000 | 55070000 |\n",
       "| 942091 | 44070000 | 49380000 |\n",
       "| 428551 | 47380000 | 51690000 |\n",
       "| 657929 | 50220000 | 49530000 |\n",
       "| 479581 | 48250000 | 49990000 |\n",
       "| 921889 | 44890000 | 44720000 |\n",
       "| 689867 | 52870000 | 54550000 |\n",
       "| 366859 | 50850000 | 50070000 |\n",
       "| 701023 | 42200000 | 43790000 |\n",
       "| 692407 | 49780000 | 51420000 |\n",
       "| 301897 | 45450000 | 49810000 |\n",
       "| 601267 | 47200000 | 47240000 |\n",
       "| 749741 | 55100000 | 49750000 |\n",
       "| 689431 | 46470000 | 44060000 |\n",
       "| 389989 | 44700000 | 41090000 |\n",
       "| 732817 | 48510000 | 48200000 |\n",
       "| 932969 | 46900000 | 45980000 |\n",
       "| 434377 | 53890000 | 52150000 |\n",
       "| 201389 | 52440000 | 48230000 |\n",
       "| 157141 | 53100000 | 48740000 |\n",
       "| 825277 | 51750000 | 50850000 |\n",
       "| 368651 | 51600000 | 50120000 |\n",
       "\n"
      ],
      "text/plain": [
       "   semilla ganancia1 ganancia2\n",
       "1  107449  43130000  43330000 \n",
       "2  906473  44620000  42320000 \n",
       "3  990887  58270000  55280000 \n",
       "4  362093  49990000  49630000 \n",
       "5  203549  47390000  48490000 \n",
       "6  956387  44960000  46120000 \n",
       "7  766163  46470000  48350000 \n",
       "8  460951  45160000  48010000 \n",
       "9  936281  47590000  46070000 \n",
       "10 230357  53470000  54750000 \n",
       "11 144071  44640000  48000000 \n",
       "12 585367  46940000  43510000 \n",
       "13 415381  44630000  48920000 \n",
       "14 121963  51030000  54360000 \n",
       "15 640727  48730000  45200000 \n",
       "16 222619  41650000  42010000 \n",
       "17 714169  43920000  49120000 \n",
       "18 820051  48040000  53110000 \n",
       "19 821263  44610000  47920000 \n",
       "20 305611  46740000  42800000 \n",
       "21 950149  46090000  47980000 \n",
       "22 462491  47210000  45180000 \n",
       "23 582761  45500000  46080000 \n",
       "24 158959  54140000  47500000 \n",
       "25 197803  49000000  52200000 \n",
       "26 764627  50090000  49090000 \n",
       "27 453527  44310000  45230000 \n",
       "28 837631  50950000  49320000 \n",
       "29 178597  48900000  55070000 \n",
       "30 942091  44070000  49380000 \n",
       "31 428551  47380000  51690000 \n",
       "32 657929  50220000  49530000 \n",
       "33 479581  48250000  49990000 \n",
       "34 921889  44890000  44720000 \n",
       "35 689867  52870000  54550000 \n",
       "36 366859  50850000  50070000 \n",
       "37 701023  42200000  43790000 \n",
       "38 692407  49780000  51420000 \n",
       "39 301897  45450000  49810000 \n",
       "40 601267  47200000  47240000 \n",
       "41 749741  55100000  49750000 \n",
       "42 689431  46470000  44060000 \n",
       "43 389989  44700000  41090000 \n",
       "44 732817  48510000  48200000 \n",
       "45 932969  46900000  45980000 \n",
       "46 434377  53890000  52150000 \n",
       "47 201389  52440000  48230000 \n",
       "48 157141  53100000  48740000 \n",
       "49 825277  51750000  50850000 \n",
       "50 368651  51600000  50120000 "
      ]
     },
     "metadata": {},
     "output_type": "display_data"
    }
   ],
   "source": [
    "# paso la lista a vector\n",
    "tb_salida <- rbindlist(salidas)\n",
    "tb_salida"
   ]
  },
  {
   "cell_type": "code",
   "execution_count": 12,
   "metadata": {
    "id": "6vf28ujAdsE6"
   },
   "outputs": [
    {
     "data": {
      "image/png": "[encoded data removed]",
      "text/plain": [
       "plot without title"
      ]
     },
     "metadata": {
      "image/png": {
       "height": 420,
       "width": 420
      }
     },
     "output_type": "display_data"
    }
   ],
   "source": [
    "grafico <- ggplot( tb_salida, aes(x=ganancia1), fill=\"green\", color=\"green\") + geom_density(alpha=0.25)  +\n",
    "             geom_density(data=tb_salida, aes(x=ganancia2), fill=\"purple\", color=\"purple\",  alpha=0.10)\n",
    "\n",
    "print(grafico)"
   ]
  },
  {
   "cell_type": "code",
   "execution_count": 13,
   "metadata": {
    "id": "TA9lLa6-dsE6"
   },
   "outputs": [
    {
     "data": {
      "text/html": [
       "<strong>pdf:</strong> 2"
      ],
      "text/latex": [
       "\\textbf{pdf:} 2"
      ],
      "text/markdown": [
       "**pdf:** 2"
      ],
      "text/plain": [
       "pdf \n",
       "  2 "
      ]
     },
     "metadata": {},
     "output_type": "display_data"
    }
   ],
   "source": [
    "# imprimo en un .pdf  que va a la carpeta del experimento\n",
    "pdf(\"densidad_dos.pdf\")\n",
    "print(grafico)\n",
    "dev.off()"
   ]
  },
  {
   "cell_type": "code",
   "execution_count": 14,
   "metadata": {
    "id": "xAOpyZTqdsE7"
   },
   "outputs": [
    {
     "name": "stdout",
     "output_type": "stream",
     "text": [
      "     arbol1   arbol2\n",
      "      <num>    <num>\n",
      "1: 48115800 48326200\n"
     ]
    }
   ],
   "source": [
    "# medias de las ganancias\n",
    "print( tb_salida[ , list( \"arbol1\" = mean( ganancia1),  \"arbol2\" = mean(ganancia2) ) ] )\n"
   ]
  },
  {
   "cell_type": "code",
   "execution_count": 15,
   "metadata": {
    "id": "8rdPIcfzgob7"
   },
   "outputs": [
    {
     "name": "stdout",
     "output_type": "stream",
     "text": [
      "   prob( m1 > m2)\n",
      "            <num>\n",
      "1:           0.48\n"
     ]
    }
   ],
   "source": [
    "# probabilidad que m1 sea mayor a m2\n",
    "print( tb_salida[ , list( \"prob( m1 > m2)\" = sum(ganancia1 > ganancia2 )/ .N ) ]  )"
   ]
  },
  {
   "cell_type": "markdown",
   "metadata": {
    "id": "nNNJWYRadsE7"
   },
   "source": [
    "### Acciones a realizar\n",
    "* Reportar la  los resultados en la planilla colaborativa hoja  **C2-dosBuenos**\n"
   ]
  },
  {
   "cell_type": "markdown",
   "metadata": {
    "id": "LTBEq6SEdsE8"
   },
   "source": [
    "\n",
    "\n",
    "---\n",
    "\n"
   ]
  },
  {
   "cell_type": "markdown",
   "metadata": {
    "id": "ebcTZX7Sg1Le"
   },
   "source": []
  },
  {
   "cell_type": "markdown",
   "metadata": {
    "id": "RAtn4x6Bg1u1"
   },
   "source": [
    "# 8 Test de Wilcoxon\n",
    "## Clase 02  Experimento 8"
   ]
  },
  {
   "cell_type": "markdown",
   "metadata": {
    "id": "RWxjnSsVg_ol"
   },
   "source": []
  },
  {
   "cell_type": "markdown",
   "metadata": {
    "id": "Gf0LF3ywhAEU"
   },
   "source": [
    "## 8.1  Objetivos\n",
    "\n",
    "¿Como calcular la cantidad mínima de semillas que hacen falta para tener cierta certeza que un modelo es superior a otro?"
   ]
  },
  {
   "cell_type": "markdown",
   "metadata": {
    "id": "k4PJGTDViZne"
   },
   "source": [
    "## 8.2  Introduccion\n",
    "\n",
    "| Hiperparámetro | Arbol 1 | Arbol 2 |\n",
    "| --- | --: |  ---: |\n",
    "| cp | -1 | -1 |\n",
    "|minsplit | 170 | 250 |\n",
    "|minbucket | 70 | 125 |\n",
    "|maxdepth | 7 | 20 |\n",
    "\n",
    "<br>\n",
    "<br>\n",
    "\n",
    "\n",
    "| ordinal | semilla | ganancia1 | ganancia2 | p-value |\n",
    "| --- | --- |  --- |  --- |  --- |\n",
    "| 1 |378821 | 41,470,000 | 37,790,000 | 1.000 |\n",
    "| 2 | 964333  | 48,480,000  | 43,660,000 | 0.500 |\n",
    "| 3 | 187049 | 50,610,000 | 47,840,000 | 0.250 |\n",
    "| 4 | 205151 | 45,580,000 | 44,490,000 | 0.125 |\n",
    "| 5 | 813697 | 52,780,000 | 46,750,000 |  0.063 |\n",
    "| 6 | 344719 | 49,970,000 | 44,300,000 | 0.031 |\n",
    "|7 |127217  |52,810,000 | 42,840,000 |0.016 |\n",
    "| 8 | 464371 | 43,060,000 | 37,300,000 | 0.008 |\n",
    "| 9 | 645137 | 49,660,000 |43,730,000 | 0.004|\n",
    "\n",
    "\n"
   ]
  },
  {
   "cell_type": "markdown",
   "metadata": {
    "id": "gAeSRdWRhg61"
   },
   "source": [
    "## 8.3 Codigo Test de Wilcoxon"
   ]
  },
  {
   "cell_type": "code",
   "execution_count": 16,
   "metadata": {
    "id": "6r5M0J0HdsE8"
   },
   "outputs": [
    {
     "data": {
      "text/plain": [
       "\n",
       "\tWilcoxon signed rank exact test\n",
       "\n",
       "data:  c(41470000) and c(37790000)\n",
       "V = 1, p-value = 1\n",
       "alternative hypothesis: true location shift is not equal to 0\n"
      ]
     },
     "metadata": {},
     "output_type": "display_data"
    }
   ],
   "source": [
    "# 1 sola ganancia\n",
    "wilcox.test(\n",
    "  c(41470000),\n",
    "  c(37790000),\n",
    "  paired = TRUE\n",
    ")\n"
   ]
  },
  {
   "cell_type": "code",
   "execution_count": 17,
   "metadata": {
    "id": "1pscqL9vLzYE"
   },
   "outputs": [
    {
     "data": {
      "text/plain": [
       "\n",
       "\tWilcoxon signed rank exact test\n",
       "\n",
       "data:  c(41470000, 48480000) and c(37790000, 43660000)\n",
       "V = 3, p-value = 0.5\n",
       "alternative hypothesis: true location shift is not equal to 0\n"
      ]
     },
     "metadata": {},
     "output_type": "display_data"
    }
   ],
   "source": [
    "# 2 ganancias\n",
    "wilcox.test(\n",
    "  c(41470000, 48480000),\n",
    "  c(37790000, 43660000),\n",
    "  paired = TRUE\n",
    ")\n"
   ]
  },
  {
   "cell_type": "code",
   "execution_count": 18,
   "metadata": {
    "id": "p3f_mtKwhSHA"
   },
   "outputs": [
    {
     "data": {
      "text/plain": [
       "\n",
       "\tWilcoxon signed rank exact test\n",
       "\n",
       "data:  c(41470000, 48480000, 50610000) and c(37790000, 43660000, 47840000)\n",
       "V = 6, p-value = 0.25\n",
       "alternative hypothesis: true location shift is not equal to 0\n"
      ]
     },
     "metadata": {},
     "output_type": "display_data"
    }
   ],
   "source": [
    "# 3 ganancias\n",
    "wilcox.test(\n",
    "  c(41470000, 48480000, 50610000),\n",
    "  c(37790000, 43660000, 47840000),\n",
    "  paired = TRUE\n",
    ")"
   ]
  },
  {
   "cell_type": "code",
   "execution_count": 19,
   "metadata": {
    "id": "-ijX69r9hT6Z"
   },
   "outputs": [
    {
     "data": {
      "text/plain": [
       "\n",
       "\tWilcoxon signed rank exact test\n",
       "\n",
       "data:  c(41470000, 48480000, 50610000, 45580000) and c(37790000, 43660000, 47840000, 44490000)\n",
       "V = 10, p-value = 0.125\n",
       "alternative hypothesis: true location shift is not equal to 0\n"
      ]
     },
     "metadata": {},
     "output_type": "display_data"
    }
   ],
   "source": [
    "# 4 ganancias\n",
    "wilcox.test(\n",
    "  c(41470000, 48480000, 50610000, 45580000),\n",
    "  c(37790000, 43660000, 47840000, 44490000),\n",
    "  paired = TRUE\n",
    ")\n"
   ]
  },
  {
   "cell_type": "code",
   "execution_count": 20,
   "metadata": {
    "id": "X9J_CHGehVfr"
   },
   "outputs": [
    {
     "data": {
      "text/plain": [
       "\n",
       "\tWilcoxon signed rank exact test\n",
       "\n",
       "data:  c(41470000, 48480000, 50610000, 45580000, 52780000) and c(37790000, 43660000, 47840000, 44490000, 46750000)\n",
       "V = 15, p-value = 0.0625\n",
       "alternative hypothesis: true location shift is not equal to 0\n"
      ]
     },
     "metadata": {},
     "output_type": "display_data"
    }
   ],
   "source": [
    "# 5 ganancias\n",
    "wilcox.test(\n",
    "  c(41470000, 48480000, 50610000, 45580000, 52780000),\n",
    "  c(37790000, 43660000, 47840000, 44490000, 46750000),\n",
    "  paired = TRUE\n",
    ")"
   ]
  },
  {
   "cell_type": "code",
   "execution_count": 21,
   "metadata": {
    "id": "H3CNNonOhXp0"
   },
   "outputs": [
    {
     "data": {
      "text/plain": [
       "\n",
       "\tWilcoxon signed rank exact test\n",
       "\n",
       "data:  c(41470000, 48480000, 50610000, 45580000, 52780000, 49970000) and c(37790000, 43660000, 47840000, 44490000, 46750000, 44300000)\n",
       "V = 21, p-value = 0.03125\n",
       "alternative hypothesis: true location shift is not equal to 0\n"
      ]
     },
     "metadata": {},
     "output_type": "display_data"
    }
   ],
   "source": [
    "# 6 ganancias\n",
    "wilcox.test(\n",
    "  c(41470000, 48480000, 50610000, 45580000, 52780000, 49970000),\n",
    "  c(37790000, 43660000, 47840000, 44490000, 46750000, 44300000),\n",
    "  paired = TRUE\n",
    ")"
   ]
  },
  {
   "cell_type": "code",
   "execution_count": 22,
   "metadata": {
    "id": "NTW8kwY8hamz"
   },
   "outputs": [
    {
     "data": {
      "text/plain": [
       "\n",
       "\tWilcoxon signed rank exact test\n",
       "\n",
       "data:  c(41470000, 48480000, 50610000, 45580000, 52780000, 49970000, 52810000) and c(37790000, 43660000, 47840000, 44490000, 46750000, 44300000, 42840000)\n",
       "V = 28, p-value = 0.01563\n",
       "alternative hypothesis: true location shift is not equal to 0\n"
      ]
     },
     "metadata": {},
     "output_type": "display_data"
    }
   ],
   "source": [
    "# Finalmente el p-value es  0.03125  < 0.05\n",
    "# hicieron falta  SEIS semillas, seis ganancias, para\n",
    "#   afirmar que el modelo 1 es superior al modelo 2\n",
    "\n",
    "# 7 ganancias\n",
    "wilcox.test(\n",
    "  c(41470000, 48480000, 50610000, 45580000, 52780000, 49970000, 52810000),\n",
    "  c(37790000, 43660000, 47840000, 44490000, 46750000, 44300000, 42840000),\n",
    "  paired = TRUE\n",
    ")\n"
   ]
  },
  {
   "cell_type": "code",
   "execution_count": 23,
   "metadata": {
    "id": "Xks918w8hcgC"
   },
   "outputs": [
    {
     "data": {
      "text/plain": [
       "\n",
       "\tWilcoxon signed rank exact test\n",
       "\n",
       "data:  c(41470000, 48480000, 50610000, 45580000, 52780000, 49970000, 52810000, 43060000) and c(37790000, 43660000, 47840000, 44490000, 46750000, 44300000, 42840000, 37300000)\n",
       "V = 36, p-value = 0.007813\n",
       "alternative hypothesis: true location shift is not equal to 0\n"
      ]
     },
     "metadata": {},
     "output_type": "display_data"
    }
   ],
   "source": [
    "# 8 ganancias\n",
    "wilcox.test(\n",
    "  c(41470000, 48480000, 50610000, 45580000, 52780000, 49970000, 52810000, 43060000),\n",
    "  c(37790000, 43660000, 47840000, 44490000, 46750000, 44300000, 42840000, 37300000),\n",
    "  paired = TRUE\n",
    ")\n"
   ]
  },
  {
   "cell_type": "code",
   "execution_count": 24,
   "metadata": {
    "id": "5x8L1PMGhdJR"
   },
   "outputs": [
    {
     "data": {
      "text/plain": [
       "\n",
       "\tWilcoxon signed rank exact test\n",
       "\n",
       "data:  c(41470000, 48480000, 50610000, 45580000, 52780000, 49970000, 52810000, 43060000, 49660000) and c(37790000, 43660000, 47840000, 44490000, 46750000, 44300000, 42840000, 37300000, 43730000)\n",
       "V = 45, p-value = 0.003906\n",
       "alternative hypothesis: true location shift is not equal to 0\n"
      ]
     },
     "metadata": {},
     "output_type": "display_data"
    }
   ],
   "source": [
    "# 9 ganancias\n",
    "wilcox.test(\n",
    "  c(41470000, 48480000, 50610000, 45580000, 52780000, 49970000, 52810000, 43060000, 49660000),\n",
    "  c(37790000, 43660000, 47840000, 44490000, 46750000, 44300000, 42840000, 37300000, 43730000),\n",
    "  paired = TRUE\n",
    ")"
   ]
  },
  {
   "cell_type": "markdown",
   "metadata": {
    "id": "Qjay2WBIkhNm"
   },
   "source": [
    "\n",
    "\n",
    "---\n",
    "\n"
   ]
  },
  {
   "cell_type": "markdown",
   "metadata": {
    "id": "g2aqxlCIk3fk"
   },
   "source": [
    "# 9 Comparando automaticamente modelos con test de Wilcoxon\n",
    "## Clase 02  Experimento 9"
   ]
  },
  {
   "cell_type": "markdown",
   "metadata": {
    "id": "FhCY4sH8k3fw"
   },
   "source": []
  },
  {
   "cell_type": "markdown",
   "metadata": {
    "id": "a_ZVBKBHk3fx"
   },
   "source": [
    "## 9.1  Objetivos\n",
    "\n",
    "Proveer un script que permita comparar dos arboles de decisión con la librería rpart utilizando la menor cantidad de cómputo que permita el Test de Wilxcoxon"
   ]
  },
  {
   "cell_type": "markdown",
   "metadata": {
    "id": "qCd56L0Ik3fx"
   },
   "source": [
    "## 9.2  Introduccion\n",
    "\n",
    "| Hiperparámetro | Arbol 1 | Arbol 2 |\n",
    "| --- | --- |  --- |\n",
    "| cp | -1 | -1 |\n",
    "|minsplit | 1050 | 650 |\n",
    "|minbucket | 550 | 300 |\n",
    "|maxdepth |67 | 6 |\n",
    "\n",
    "\n"
   ]
  },
  {
   "cell_type": "markdown",
   "metadata": {
    "id": "NBtQsG3vk3fx"
   },
   "source": [
    "## 9.3 Codigo comparacion automatica Wilcoxon"
   ]
  },
  {
   "cell_type": "markdown",
   "metadata": {
    "id": "-ARzDPORlpG6"
   },
   "source": [
    "Esta parte se debe correr con el runtime en lenguaje **R** Ir al menu, Runtime -> Change Runtime Tipe -> Runtime type -> R"
   ]
  },
  {
   "cell_type": "markdown",
   "metadata": {
    "id": "-Sy-sLMXlpHI"
   },
   "source": [
    "limpio el ambiente de R"
   ]
  },
  {
   "cell_type": "code",
   "execution_count": 25,
   "metadata": {
    "id": "ZpST7lcHlpHI"
   },
   "outputs": [
    {
     "data": {
      "text/html": [
       "<table class=\"dataframe\">\n",
       "<caption>A matrix: 2 × 6 of type dbl</caption>\n",
       "<thead>\n",
       "\t<tr><th></th><th scope=col>used</th><th scope=col>(Mb)</th><th scope=col>gc trigger</th><th scope=col>(Mb)</th><th scope=col>max used</th><th scope=col>(Mb)</th></tr>\n",
       "</thead>\n",
       "<tbody>\n",
       "\t<tr><th scope=row>Ncells</th><td>1034307</td><td>55.3</td><td> 2004712</td><td>107.1</td><td> 2004712</td><td>107.1</td></tr>\n",
       "\t<tr><th scope=row>Vcells</th><td>1902174</td><td>14.6</td><td>58855008</td><td>449.1</td><td>71847389</td><td>548.2</td></tr>\n",
       "</tbody>\n",
       "</table>\n"
      ],
      "text/latex": [
       "A matrix: 2 × 6 of type dbl\n",
       "\\begin{tabular}{r|llllll}\n",
       "  & used & (Mb) & gc trigger & (Mb) & max used & (Mb)\\\\\n",
       "\\hline\n",
       "\tNcells & 1034307 & 55.3 &  2004712 & 107.1 &  2004712 & 107.1\\\\\n",
       "\tVcells & 1902174 & 14.6 & 58855008 & 449.1 & 71847389 & 548.2\\\\\n",
       "\\end{tabular}\n"
      ],
      "text/markdown": [
       "\n",
       "A matrix: 2 × 6 of type dbl\n",
       "\n",
       "| <!--/--> | used | (Mb) | gc trigger | (Mb) | max used | (Mb) |\n",
       "|---|---|---|---|---|---|---|\n",
       "| Ncells | 1034307 | 55.3 |  2004712 | 107.1 |  2004712 | 107.1 |\n",
       "| Vcells | 1902174 | 14.6 | 58855008 | 449.1 | 71847389 | 548.2 |\n",
       "\n"
      ],
      "text/plain": [
       "       used    (Mb) gc trigger (Mb)  max used (Mb) \n",
       "Ncells 1034307 55.3  2004712   107.1  2004712 107.1\n",
       "Vcells 1902174 14.6 58855008   449.1 71847389 548.2"
      ]
     },
     "metadata": {},
     "output_type": "display_data"
    }
   ],
   "source": [
    "# limpio la memoria\n",
    "rm(list=ls(all.names=TRUE)) # remove all objects\n",
    "gc(full=TRUE, verbose=FALSE) # garbage collection"
   ]
  },
  {
   "cell_type": "markdown",
   "metadata": {
    "id": "jHhAx3cvlpHJ"
   },
   "source": [
    "* Instalacion de la libreria  rpart.plot  para dibujar el arbol\n",
    "* invocacion de las librerias  **data.table** y  **rpart**"
   ]
  },
  {
   "cell_type": "code",
   "execution_count": 26,
   "metadata": {
    "id": "cbPnXeeqlpHJ"
   },
   "outputs": [],
   "source": [
    "# cargo las librerias que necesito\n",
    "require(\"data.table\")\n",
    "require(\"rpart\")\n",
    "require(\"parallel\")\n",
    "\n",
    "if (!require(\"primes\")) install.packages(\"primes\")\n",
    "require(\"primes\")\n",
    "\n",
    "require(\"ggplot2\")"
   ]
  },
  {
   "cell_type": "markdown",
   "metadata": {
    "id": "_GQk_NEUlpHK"
   },
   "source": [
    "###  Accion a Realizar\n",
    "PARAM$semilla_primigenia  debe reemplazarse por SU primer semilla"
   ]
  },
  {
   "cell_type": "code",
   "execution_count": 27,
   "metadata": {
    "id": "Do801PIHlpHK"
   },
   "outputs": [],
   "source": [
    "PARAM <- list()\n",
    "PARAM$semilla_primigenia <- 500009\n",
    "PARAM$qsemillas_tope <- 50\n",
    "PARAM$training_pct <- 70L     # entre 1 y 100\n"
   ]
  },
  {
   "cell_type": "code",
   "execution_count": 28,
   "metadata": {
    "id": "KlC7gTc7lpHK"
   },
   "outputs": [],
   "source": [
    "# los dos arboles\n",
    "PARAM$rpart1 <- list (\n",
    "  \"cp\" = -1,\n",
    "  \"minsplit\" = 800,\n",
    "  \"minbucket\" = 400,\n",
    "  \"maxdepth\" = 7\n",
    ")\n",
    "\n",
    "\n",
    "PARAM$rpart2 <- list (\n",
    "  \"cp\" = -1,\n",
    "  \"minsplit\" = 650,\n",
    "  \"minbucket\" = 300,\n",
    "  \"maxdepth\" = 6\n",
    ")\n"
   ]
  },
  {
   "cell_type": "code",
   "execution_count": 29,
   "metadata": {
    "id": "I7hOkZrxlpHL"
   },
   "outputs": [],
   "source": [
    "# particionar agrega una columna llamada fold a un dataset\n",
    "#  que consiste en una particion estratificada segun agrupa\n",
    "\n",
    "# particionar( data=dataset, division=c(70,30),\n",
    "#  agrupa=clase_ternaria, seed=semilla)   crea una particion 70, 30\n",
    "\n",
    "particionar <- function(\n",
    "    data, division, agrupa = \"\",\n",
    "    campo = \"fold\", start = 1, seed = NA) {\n",
    "  if (!is.na(seed)) set.seed(seed)\n",
    "\n",
    "  bloque <- unlist(mapply(function(x, y) {\n",
    "    rep(y, x)\n",
    "  }, division, seq(from = start, length.out = length(division))))\n",
    "\n",
    "  data[, (campo) := sample(rep(bloque, ceiling(.N / length(bloque))))[1:.N],\n",
    "    by = agrupa\n",
    "  ]\n",
    "}\n"
   ]
  },
  {
   "cell_type": "code",
   "execution_count": 30,
   "metadata": {
    "id": "vFpBSFBYlpHL"
   },
   "outputs": [],
   "source": [
    "DosArbolesEstimarGanancia <- function(semilla, training_pct, param_rpart1, param_rpart2) {\n",
    "  # particiono estratificadamente el dataset\n",
    "  particionar(dataset,\n",
    "    division = c(training_pct, 100L -training_pct),\n",
    "    agrupa = \"clase_ternaria\",\n",
    "    seed = semilla # aqui se usa SU semilla\n",
    "  )\n",
    "\n",
    "  # genero el modelo\n",
    "  # predecir clase_ternaria a partir del resto\n",
    "  modelo1 <- rpart(\"clase_ternaria ~ .\",\n",
    "    data = dataset[fold == 1], # fold==1  es training,  el 70% de los datos\n",
    "    xval = 0,\n",
    "    control = param_rpart1\n",
    "  ) # aqui van los parametros del arbol\n",
    "\n",
    "  # aplico el modelo a los datos de testing\n",
    "  prediccion1 <- predict(modelo1, # el modelo que genere recien\n",
    "    dataset[fold == 2], # fold==2  es testing, el 30% de los datos\n",
    "    type = \"prob\"\n",
    "  ) # type= \"prob\"  es que devuelva la probabilidad\n",
    "\n",
    "\n",
    "  # calculo la ganancia en testing  qu es fold==2\n",
    "  ganancia_test1 <- dataset[\n",
    "    fold == 2,\n",
    "    sum(ifelse(prediccion1[, \"BAJA+2\"] > 0.025,\n",
    "      ifelse(clase_ternaria == \"BAJA+2\", 117000, -3000),\n",
    "      0\n",
    "    ))\n",
    "  ]\n",
    "\n",
    "  # escalo la ganancia como si fuera todo el dataset\n",
    "  ganancia_test_normalizada1 <- ganancia_test1 / (( 100 - training_pct ) / 100 )\n",
    "\n",
    "  modelo2 <- rpart(\"clase_ternaria ~ .\",\n",
    "    data = dataset[fold == 1], # fold==1  es training,  el 70% de los datos\n",
    "    xval = 0,\n",
    "    control = param_rpart2\n",
    "  ) # aqui van los parametros del arbol\n",
    "\n",
    "  # aplico el modelo a los datos de testing\n",
    "  prediccion2 <- predict(modelo2, # el modelo que genere recien\n",
    "    dataset[fold == 2], # fold==2  es testing, el 30% de los datos\n",
    "    type = \"prob\"\n",
    "  ) # type= \"prob\"  es que devuelva la probabilidad\n",
    "\n",
    "\n",
    "  # calculo la ganancia en testing  qu es fold==2\n",
    "  ganancia_test2 <- dataset[\n",
    "    fold == 2,\n",
    "    sum(ifelse(prediccion2[, \"BAJA+2\"] > 0.025,\n",
    "      ifelse(clase_ternaria == \"BAJA+2\", 117000, -3000),\n",
    "      0\n",
    "    ))\n",
    "  ]\n",
    "\n",
    "  # escalo la ganancia como si fuera todo el dataset\n",
    "  ganancia_test_normalizada2 <- ganancia_test2 / (( 100 - training_pct ) / 100 )\n",
    "\n",
    "  return(list(\n",
    "    \"semilla\" = semilla,\n",
    "    \"ganancia1\" = ganancia_test_normalizada1,\n",
    "    \"ganancia2\" = ganancia_test_normalizada2\n",
    "  ))\n",
    "}"
   ]
  },
  {
   "cell_type": "code",
   "execution_count": 31,
   "metadata": {
    "id": "Cp8RnA_NmE8g"
   },
   "outputs": [],
   "source": [
    "# 1  ->  el modelo 1 es mejor\n",
    "# 2  ->  el modelo 2 es mejor\n",
    "# 0  ->  No se pudo determinar con el tope de qsemillas_tope\n",
    "\n",
    "\n",
    "MejorArbol <- function( qsemillas_tope, training_pct, param_rpart1, param_rpart2) {\n",
    "\n",
    "  # genero numeros primos\n",
    "  primos <- generate_primes(min = 100000, max = 1000000)\n",
    "  set.seed(PARAM$semilla_primigenia) # inicializo\n",
    "  # me quedo con PARAM$qsemillas   semillas\n",
    "  semillas <- sample(primos, qsemillas_tope )\n",
    "\n",
    "  pvalue <- 1.0\n",
    "  isem <- 1\n",
    "  vgan1 <- c() # almaceno ganancias del modelo1\n",
    "  vgan2 <- c() # almaceno ganancias del modelo2\n",
    "\n",
    "  while( (isem <= qsemillas_tope)  & (pvalue > 0.05) ) {\n",
    "\n",
    "    res <- DosArbolesEstimarGanancia(\n",
    "       semillas[ isem ],\n",
    "       training_pct,\n",
    "       param_rpart1,\n",
    "       param_rpart2\n",
    "    )\n",
    "\n",
    "    vgan1 <- c( vgan1, res$ganancia1 )\n",
    "    vgan2 <- c( vgan2, res$ganancia2 )\n",
    "\n",
    "    wt <- wilcox.test( vgan1, vgan2, paired=TRUE )\n",
    "    pvalue <- wt$p.value\n",
    "\n",
    "    cat( isem, res$ganancia1, res$ganancia2, pvalue, \"\\n\" )\n",
    "    flush.console()\n",
    "    isem <- isem + 1\n",
    "  }\n",
    "\n",
    "  out <- 0\n",
    "\n",
    "  if( pvalue < 0.05 & mean(vgan1) > mean(vgan2)  )  out <- 1\n",
    "  if( pvalue < 0.05 & mean(vgan1) < mean(vgan2)  )  out <- 2\n",
    "\n",
    "\n",
    "  return( list( \"out\" = out,\n",
    "    \"qsemillas\" = length(vgan1),\n",
    "    \"m1\" = mean( vgan1 ),\n",
    "    \"m2\" = mean( vgan2 )\n",
    "   ) )\n",
    "}\n"
   ]
  },
  {
   "cell_type": "code",
   "execution_count": 32,
   "metadata": {
    "id": "r1motpfOlpHM"
   },
   "outputs": [],
   "source": [
    "# carpeta de trabajo\n",
    "setwd(\"/content/buckets/b1/exp\")\n",
    "experimento <- \"exp209\"\n",
    "dir.create(experimento, showWarnings=FALSE)\n",
    "setwd( paste0(\"/content/buckets/b1/exp/\", experimento ))"
   ]
  },
  {
   "cell_type": "code",
   "execution_count": 33,
   "metadata": {
    "id": "hT0LaKWumTSu"
   },
   "outputs": [],
   "source": [
    "# lectura del dataset\n",
    "dataset <- fread(\"/content/datasets/dataset_pequeno.csv\")\n",
    "\n",
    "# trabajo solo con los datos con clase, es decir 202107\n",
    "dataset <- dataset[clase_ternaria != \"\"]"
   ]
  },
  {
   "cell_type": "code",
   "execution_count": 34,
   "metadata": {
    "id": "wsk0F77ambVW"
   },
   "outputs": [
    {
     "data": {
      "text/plain": [
       "[1] \"2025-07-25 01:35:37 UTC\""
      ]
     },
     "metadata": {},
     "output_type": "display_data"
    },
    {
     "name": "stdout",
     "output_type": "stream",
     "text": [
      "1 46270000 48990000 1 \n",
      "2 45380000 43030000 1 \n",
      "3 57090000 55970000 1 \n",
      "4 47330000 51190000 0.625 \n",
      "6 45250000 42360000 0.5625 \n",
      "7 49390000 51610000 0.46875 \n",
      "8 50390000 51270000 0.4609375 \n",
      "9 47890000 44010000 0.9101562 \n",
      "10 53800000 54350000 0.8457031 \n",
      "11 50440000 47160000 0.8984375 \n",
      "12 44810000 44910000 0.9697266 \n",
      "13 47570000 47710000 1 \n",
      "14 56390000 55370000 0.9031982 \n"
     ]
    },
    {
     "name": "stderr",
     "output_type": "stream",
     "text": [
      "Warning message in wilcox.test.default(vgan1, vgan2, paired = TRUE):\n",
      "“cannot compute exact p-value with ties”\n"
     ]
    },
    {
     "name": "stdout",
     "output_type": "stream",
     "text": [
      "15 51120000 50980000 0.8646776 \n"
     ]
    },
    {
     "name": "stderr",
     "output_type": "stream",
     "text": [
      "Warning message in wilcox.test.default(vgan1, vgan2, paired = TRUE):\n",
      "“cannot compute exact p-value with ties”\n"
     ]
    },
    {
     "name": "stdout",
     "output_type": "stream",
     "text": [
      "16 39800000 43840000 0.8361117 \n"
     ]
    },
    {
     "name": "stderr",
     "output_type": "stream",
     "text": [
      "Warning message in wilcox.test.default(vgan1, vgan2, paired = TRUE):\n",
      "“cannot compute exact p-value with ties”\n"
     ]
    },
    {
     "name": "stdout",
     "output_type": "stream",
     "text": [
      "17 49490000 52050000 0.6528727 \n"
     ]
    },
    {
     "name": "stderr",
     "output_type": "stream",
     "text": [
      "Warning message in wilcox.test.default(vgan1, vgan2, paired = TRUE):\n",
      "“cannot compute exact p-value with ties”\n"
     ]
    },
    {
     "name": "stdout",
     "output_type": "stream",
     "text": [
      "18 54090000 52730000 0.7770918 \n"
     ]
    },
    {
     "name": "stderr",
     "output_type": "stream",
     "text": [
      "Warning message in wilcox.test.default(vgan1, vgan2, paired = TRUE):\n",
      "“cannot compute exact p-value with ties”\n"
     ]
    },
    {
     "name": "stdout",
     "output_type": "stream",
     "text": [
      "19 44690000 49450000 0.5196143 \n"
     ]
    },
    {
     "name": "stderr",
     "output_type": "stream",
     "text": [
      "Warning message in wilcox.test.default(vgan1, vgan2, paired = TRUE):\n",
      "“cannot compute exact p-value with ties”\n"
     ]
    },
    {
     "name": "stdout",
     "output_type": "stream",
     "text": [
      "20 48070000 49650000 0.411424 \n"
     ]
    },
    {
     "name": "stderr",
     "output_type": "stream",
     "text": [
      "Warning message in wilcox.test.default(vgan1, vgan2, paired = TRUE):\n",
      "“cannot compute exact p-value with ties”\n"
     ]
    },
    {
     "name": "stdout",
     "output_type": "stream",
     "text": [
      "21 50090000 49890000 0.4548548 \n"
     ]
    },
    {
     "name": "stderr",
     "output_type": "stream",
     "text": [
      "Warning message in wilcox.test.default(vgan1, vgan2, paired = TRUE):\n",
      "“cannot compute exact p-value with ties”\n"
     ]
    },
    {
     "name": "stdout",
     "output_type": "stream",
     "text": [
      "22 47790000 50190000 0.3381637 \n"
     ]
    },
    {
     "name": "stderr",
     "output_type": "stream",
     "text": [
      "Warning message in wilcox.test.default(vgan1, vgan2, paired = TRUE):\n",
      "“cannot compute exact p-value with ties”\n"
     ]
    },
    {
     "name": "stdout",
     "output_type": "stream",
     "text": [
      "23 43690000 47540000 0.2237304 \n"
     ]
    },
    {
     "name": "stderr",
     "output_type": "stream",
     "text": [
      "Warning message in wilcox.test.default(vgan1, vgan2, paired = TRUE):\n",
      "“cannot compute exact p-value with ties”\n"
     ]
    },
    {
     "name": "stdout",
     "output_type": "stream",
     "text": [
      "24 50700000 50450000 0.2530737 \n"
     ]
    },
    {
     "name": "stderr",
     "output_type": "stream",
     "text": [
      "Warning message in wilcox.test.default(vgan1, vgan2, paired = TRUE):\n",
      "“cannot compute exact p-value with ties”\n"
     ]
    },
    {
     "name": "stdout",
     "output_type": "stream",
     "text": [
      "25 57380000 55830000 0.3129483 \n"
     ]
    },
    {
     "name": "stderr",
     "output_type": "stream",
     "text": [
      "Warning message in wilcox.test.default(vgan1, vgan2, paired = TRUE):\n",
      "“cannot compute exact p-value with ties”\n"
     ]
    },
    {
     "name": "stdout",
     "output_type": "stream",
     "text": [
      "26 5.2e+07 49130000 0.4536942 \n"
     ]
    },
    {
     "name": "stderr",
     "output_type": "stream",
     "text": [
      "Warning message in wilcox.test.default(vgan1, vgan2, paired = TRUE):\n",
      "“cannot compute exact p-value with ties”\n"
     ]
    },
    {
     "name": "stdout",
     "output_type": "stream",
     "text": [
      "27 45780000 47350000 0.3612515 \n"
     ]
    },
    {
     "name": "stderr",
     "output_type": "stream",
     "text": [
      "Warning message in wilcox.test.default(vgan1, vgan2, paired = TRUE):\n",
      "“cannot compute exact p-value with ties”\n"
     ]
    },
    {
     "name": "stdout",
     "output_type": "stream",
     "text": [
      "28 50280000 50210000 0.3744793 \n"
     ]
    },
    {
     "name": "stderr",
     "output_type": "stream",
     "text": [
      "Warning message in wilcox.test.default(vgan1, vgan2, paired = TRUE):\n",
      "“cannot compute exact p-value with ties”\n"
     ]
    },
    {
     "name": "stdout",
     "output_type": "stream",
     "text": [
      "29 57550000 57670000 0.3695113 \n"
     ]
    },
    {
     "name": "stderr",
     "output_type": "stream",
     "text": [
      "Warning message in wilcox.test.default(vgan1, vgan2, paired = TRUE):\n",
      "“cannot compute exact p-value with ties”\n"
     ]
    },
    {
     "name": "stdout",
     "output_type": "stream",
     "text": [
      "30 48480000 50060000 0.2894516 \n"
     ]
    },
    {
     "name": "stderr",
     "output_type": "stream",
     "text": [
      "Warning message in wilcox.test.default(vgan1, vgan2, paired = TRUE):\n",
      "“cannot compute exact p-value with ties”\n"
     ]
    },
    {
     "name": "stdout",
     "output_type": "stream",
     "text": [
      "31 49310000 51030000 0.2243493 \n"
     ]
    },
    {
     "name": "stderr",
     "output_type": "stream",
     "text": [
      "Warning message in wilcox.test.default(vgan1, vgan2, paired = TRUE):\n",
      "“cannot compute exact p-value with ties”\n"
     ]
    },
    {
     "name": "stdout",
     "output_type": "stream",
     "text": [
      "32 49310000 50890000 0.1721991 \n"
     ]
    },
    {
     "name": "stderr",
     "output_type": "stream",
     "text": [
      "Warning message in wilcox.test.default(vgan1, vgan2, paired = TRUE):\n",
      "“cannot compute exact p-value with ties”\n"
     ]
    },
    {
     "name": "stdout",
     "output_type": "stream",
     "text": [
      "33 49960000 51750000 0.131048 \n"
     ]
    },
    {
     "name": "stderr",
     "output_type": "stream",
     "text": [
      "Warning message in wilcox.test.default(vgan1, vgan2, paired = TRUE):\n",
      "“cannot compute exact p-value with ties”\n"
     ]
    },
    {
     "name": "stdout",
     "output_type": "stream",
     "text": [
      "34 44240000 4.9e+07 0.08265467 \n"
     ]
    },
    {
     "name": "stderr",
     "output_type": "stream",
     "text": [
      "Warning message in wilcox.test.default(vgan1, vgan2, paired = TRUE):\n",
      "“cannot compute exact p-value with ties”\n"
     ]
    },
    {
     "name": "stdout",
     "output_type": "stream",
     "text": [
      "35 53880000 55690000 0.06184433 \n"
     ]
    },
    {
     "name": "stderr",
     "output_type": "stream",
     "text": [
      "Warning message in wilcox.test.default(vgan1, vgan2, paired = TRUE):\n",
      "“cannot compute exact p-value with ties”\n"
     ]
    },
    {
     "name": "stdout",
     "output_type": "stream",
     "text": [
      "36 54140000 55910000 0.04599625 \n",
      "$out\n",
      "[1] 2\n",
      "\n",
      "$qsemillas\n",
      "[1] 36\n",
      "\n",
      "$m1\n",
      "[1] 49489167\n",
      "\n",
      "$m2\n",
      "[1] 50274722\n",
      "\n"
     ]
    },
    {
     "data": {
      "text/plain": [
       "[1] \"2025-07-25 02:18:15 UTC\""
      ]
     },
     "metadata": {},
     "output_type": "display_data"
    }
   ],
   "source": [
    "Sys.time()\n",
    "\n",
    "comparacion <- MejorArbol(\n",
    "   PARAM$qsemillas_tope,\n",
    "   PARAM$training_pct,\n",
    "   PARAM$rpart1,\n",
    "   PARAM$rpart2\n",
    " )\n",
    "\n",
    "\n",
    "print( comparacion )\n",
    "\n",
    "Sys.time()"
   ]
  },
  {
   "cell_type": "markdown",
   "metadata": {
    "id": "d2br1bgJlpHQ"
   },
   "source": [
    "### Acciones a realizar\n",
    "* Reportar la  los resultados en la planilla colaborativa hoja  **C2-Wilcox**\n"
   ]
  },
  {
   "cell_type": "code",
   "execution_count": null,
   "metadata": {
    "id": "ZBtwPhIQD6p0"
   },
   "outputs": [],
   "source": []
  },
  {
   "cell_type": "markdown",
   "metadata": {
    "id": "x7SebtV2lpHQ"
   },
   "source": [
    "\n",
    "\n",
    "---\n",
    "\n"
   ]
  }
 ],
 "metadata": {
  "colab": {
   "provenance": []
  },
  "kernelspec": {
   "display_name": "R",
   "language": "R",
   "name": "ir"
  },
  "language_info": {
   "codemirror_mode": "r",
   "file_extension": ".r",
   "mimetype": "text/x-r-source",
   "name": "R",
   "pygments_lexer": "r",
   "version": "4.4.3"
  }
 },
 "nbformat": 4,
 "nbformat_minor": 4
}
