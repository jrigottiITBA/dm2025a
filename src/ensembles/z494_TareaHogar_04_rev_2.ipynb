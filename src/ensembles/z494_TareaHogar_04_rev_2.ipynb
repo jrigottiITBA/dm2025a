{
 "cells": [
  {
   "cell_type": "markdown",
   "metadata": {
    "id": "0cEmzeUKFkPh"
   },
   "source": [
    "# Tarea para el Hogar 04"
   ]
  },
  {
   "cell_type": "markdown",
   "metadata": {
    "id": "nSICPpyTGQmC"
   },
   "source": [
    "Esta Tarea para el Hogar 02 se entrega el final de la cuarta clase\n",
    "<br> se espera de usted que intente avanzar con los desafios propuestos y que los traiga terminados para la Clase 05 que será el viernes 01-agosto"
   ]
  },
  {
   "cell_type": "markdown",
   "metadata": {
    "id": "DenyKXkiJ5JN"
   },
   "source": [
    "##  1. Cazatalentos"
   ]
  },
  {
   "cell_type": "markdown",
   "metadata": {
    "id": "l-K2_ZsZGrVD"
   },
   "source": [
    "En la Clase 03 nos hemos enfrentado a  \"La Maldicion del Ganandor\",  elegir el modelo con el mejor puntaje simple no suele ser la mejor estrategia.\n",
    "<br> Lea y ejecute el notebook  **src/CazaTalentos/CazaTalentos.ipynb**\n",
    "<br> en caso de interesarle, participe del Desafío Ordenamiento  que vence el sábado 02 de agosto a las 19:00"
   ]
  },
  {
   "cell_type": "markdown",
   "metadata": {
    "id": "K9GkTOk5J9t3"
   },
   "source": [
    "## 2. Hiperparámetros del LightGBM"
   ]
  },
  {
   "cell_type": "markdown",
   "metadata": {
    "id": "VmEFy0ukKL5T"
   },
   "source": [
    "Los objetivos de esta tarea son:\n",
    "\n",
    "\n",
    "*   Aumentar la rentabilidad de la campaña de marketing de retención proactiva de clientes.\n",
    "*   Generar un mejor modelo optimizando sus hiperparámetros\n",
    "*   Conceptual : investigar los mas relevantes hiperparámetros de LightGBM\n",
    "*   Familiarizarse con la Bayesian Optimization, sus largos tiempos de corrida y opciones para reducirlos\n",
    "*   Familiarizarse con el uso de máquinas virtuales de Google Colab\n",
    "*   Ver un pipeline completo de optimización de hiperparámetros y puesta en producción"
   ]
  },
  {
   "cell_type": "markdown",
   "metadata": {
    "id": "5yvlS6JQLRMd"
   },
   "source": [
    "LightGBM cuenta con mas de 60 hiperparámetros, siendo posible utilizar 40 al mismo tiempo, aunque no razonable.\n",
    "<br> La documentación oficial de los hiperparámetros de LightGBM es  https://lightgbm.readthedocs.io/en/latest/Parameters.html#core-parameters\n"
   ]
  },
  {
   "cell_type": "markdown",
   "metadata": {
    "id": "eydI4YNAsFaf"
   },
   "source": [
    "Se lo alerta sobre que una Optimizacion Bayesiana lleva varias horas de corrida, y usted deberá correr VARIAS optimizaciones para descubrir cuales parámetros conviene optimizar.\n",
    "<br> A pesar que la próxima clase es recien en viernes 01 de agosto, inicie la tarea con tiempo, aprenda a planificar estratégicamente sus corridas como un@ científ@  de datos."
   ]
  },
  {
   "cell_type": "markdown",
   "metadata": {
    "id": "RzU4S0SeMcpp"
   },
   "source": [
    "Es necesario investigar cuales son los hiperparámetros de LightGBM que vale la pena optimizar en una Bayesian Optimization, ya que los realmente utiles son apenas un reducido subconjunto.\n",
    "<br>Usted deberá investigar cuales son los hiperparámetros mas relevantes de LightGBM, su primer alternativa es preguntándole a su amigo con capacidades especiales ChatGPT o sus endogámicos familiares Claude, DeepSeek, Gemini, Grok, etc\n",
    "<br> La segunda alternativa es la propia documentación de LightGBM  https://lightgbm.readthedocs.io/en/latest/Parameters-Tuning.html\n"
   ]
  },
  {
   "cell_type": "markdown",
   "metadata": {
    "id": "LNptUgI_NWWG"
   },
   "source": [
    "Adicionalmente podra buscar información como la que proveen esta diminuta muestra aleatoria de artículos ligeros:\n",
    "*  https://medium.com/@sarahzouinina/a-deep-dive-into-lightgbm-how-to-choose-and-tune-parameters-7c584945842e\n",
    "*  https://www.kaggle.com/code/somang1418/tuning-hyperparameters-under-10-minutes-lgbm\n",
    "*  https://towardsdatascience.com/beginners-guide-to-the-must-know-lightgbm-hyperparameters-a0005a812702/\n",
    "\n",
    "\n",
    "<br>  La muestra anterior se brinda a modo de ejemplo, usted deberá buscar muuuuchas  fuentes adicionales de información\n",
    "<br> Tenga presente que LightGBM es el estado del arte en modelado predictivo para datasets estructurado, que son el 90% del trabajo del 95% de los Data Scientists en Argentina."
   ]
  },
  {
   "cell_type": "markdown",
   "metadata": {
    "id": "WpUThBojODyK"
   },
   "source": [
    "El desafío de esta tarea es:\n",
    "* Qué hiperparparámetros conviene optimizar?  Las recomendaciones de los artículos ligeros es siempre sensata?  Sus autores realmente hicieron experimentos o son siemplemente escritores de entretenimiento carente de base científica?\n",
    "* Elegidos los hiperparámetros, cual es el  <desde, hasta> que se debe utilizar en la Bayesian Optimization ?\n",
    "* Realmente vale la pena optimizar 10 o 16 hiperparámetros al mismo tiempo ?  No resulta contraproducente una búsqueda en un espacio de tal alta dimensionalidad ?"
   ]
  },
  {
   "cell_type": "markdown",
   "metadata": {
    "id": "PX0qg_c0yqob"
   },
   "source": [
    "#### 2.1  Seteo del ambiente en Google Colab"
   ]
  },
  {
   "cell_type": "markdown",
   "metadata": {
    "id": "NGY7H9xza7Zr"
   },
   "source": [
    "Esta parte se debe correr con el runtime en Python3\n",
    "<br>Ir al menu, Runtime -> Change Runtime Type -> Runtime type ->  **Python 3**"
   ]
  },
  {
   "cell_type": "markdown",
   "metadata": {
    "id": "7PupIBNba7Zr"
   },
   "source": [
    "Conectar la virtual machine donde esta corriendo Google Colab con el  Google Drive, para poder tener persistencia de archivos"
   ]
  },
  {
   "cell_type": "code",
   "execution_count": null,
   "metadata": {
    "id": "9LpZCst5a7Zs"
   },
   "outputs": [],
   "source": [
    "# primero establecer el Runtime de Python 3\n",
    "from google.colab import drive\n",
    "drive.mount('/content/.drive')"
   ]
  },
  {
   "cell_type": "markdown",
   "metadata": {
    "id": "JYC_F-wla7Zs"
   },
   "source": [
    "Para correr la siguiente celda es fundamental en Arranque en Frio haber copiado el archivo kaggle.json al Google Drive, en la carpeta indicada en el instructivo\n",
    "\n",
    "<br>los siguientes comando estan en shell script de Linux\n",
    "*   Crear las carpetas en el Google Drive\n",
    "*   \"instalar\" el archivo kaggle.json desde el Google Drive a la virtual machine para que pueda ser utilizado por la libreria  kaggle de Python\n",
    "*   Bajar el  **dataset_pequeno**  al  Google Drive  y tambien al disco local de la virtual machine que esta corriendo Google Colab\n",
    "\n"
   ]
  },
  {
   "cell_type": "code",
   "execution_count": null,
   "metadata": {
    "id": "XWLelftXa7Zt"
   },
   "outputs": [],
   "source": [
    "%%shell\n",
    "\n",
    "mkdir -p \"/content/.drive/My Drive/dm\"\n",
    "mkdir -p \"/content/buckets\"\n",
    "ln -s \"/content/.drive/My Drive/dm\" /content/buckets/b1\n",
    "\n",
    "mkdir -p ~/.kaggle\n",
    "cp /content/buckets/b1/kaggle/kaggle.json  ~/.kaggle\n",
    "chmod 600 ~/.kaggle/kaggle.json\n",
    "\n",
    "\n",
    "mkdir -p /content/buckets/b1/exp\n",
    "mkdir -p /content/buckets/b1/datasets\n",
    "mkdir -p /content/datasets\n",
    "\n",
    "\n",
    "\n",
    "archivo_origen=\"https://storage.googleapis.com/open-courses/itba2025-8d0a/dataset_pequeno.csv\"\n",
    "archivo_destino=\"/content/datasets/dataset_pequeno.csv\"\n",
    "archivo_destino_bucket=\"/content/buckets/b1/datasets/dataset_pequeno.csv\"\n",
    "\n",
    "if ! test -f $archivo_destino_bucket; then\n",
    "  wget  $archivo_origen  -O $archivo_destino_bucket\n",
    "fi\n",
    "\n",
    "\n",
    "if ! test -f $archivo_destino; then\n",
    "  cp  $archivo_destino_bucket  $archivo_destino\n",
    "fi\n"
   ]
  },
  {
   "cell_type": "markdown",
   "metadata": {
    "id": "oSKhZRToy2F7"
   },
   "source": [
    "### 2.2 Optimizacion Hiperparámetros"
   ]
  },
  {
   "cell_type": "markdown",
   "metadata": {
    "id": "2kwPpHAtSmix"
   },
   "source": [
    "Esta parte se debe correr con el runtime en lenguaje R Ir al menu, Runtime -> Change Runtime Type -> Runtime type -> R"
   ]
  },
  {
   "cell_type": "markdown",
   "metadata": {
    "id": "xp4-Bj3aYI8d"
   },
   "source": [
    "### 2.2.1 Inicio"
   ]
  },
  {
   "cell_type": "markdown",
   "metadata": {
    "id": "zy8YTZfESxeJ"
   },
   "source": [
    "limpio el ambiente de R"
   ]
  },
  {
   "cell_type": "code",
   "execution_count": 9,
   "metadata": {
    "id": "gBq__iAdQliq"
   },
   "outputs": [
    {
     "data": {
      "text/html": [
       "'Mon Jul 28 23:17:38 2025'"
      ],
      "text/latex": [
       "'Mon Jul 28 23:17:38 2025'"
      ],
      "text/markdown": [
       "'Mon Jul 28 23:17:38 2025'"
      ],
      "text/plain": [
       "[1] \"Mon Jul 28 23:17:38 2025\""
      ]
     },
     "metadata": {},
     "output_type": "display_data"
    }
   ],
   "source": [
    "format(Sys.time(), \"%a %b %d %X %Y\")"
   ]
  },
  {
   "cell_type": "code",
   "execution_count": 10,
   "metadata": {
    "id": "7rdVrBojS1IV"
   },
   "outputs": [
    {
     "data": {
      "text/html": [
       "<table class=\"dataframe\">\n",
       "<caption>A matrix: 2 × 6 of type dbl</caption>\n",
       "<thead>\n",
       "\t<tr><th></th><th scope=col>used</th><th scope=col>(Mb)</th><th scope=col>gc trigger</th><th scope=col>(Mb)</th><th scope=col>max used</th><th scope=col>(Mb)</th></tr>\n",
       "</thead>\n",
       "<tbody>\n",
       "\t<tr><th scope=row>Ncells</th><td>2032300</td><td>108.6</td><td>3863641</td><td>206.4</td><td>2993701</td><td>159.9</td></tr>\n",
       "\t<tr><th scope=row>Vcells</th><td>3552226</td><td> 27.2</td><td>8388608</td><td> 64.0</td><td>5478914</td><td> 41.9</td></tr>\n",
       "</tbody>\n",
       "</table>\n"
      ],
      "text/latex": [
       "A matrix: 2 × 6 of type dbl\n",
       "\\begin{tabular}{r|llllll}\n",
       "  & used & (Mb) & gc trigger & (Mb) & max used & (Mb)\\\\\n",
       "\\hline\n",
       "\tNcells & 2032300 & 108.6 & 3863641 & 206.4 & 2993701 & 159.9\\\\\n",
       "\tVcells & 3552226 &  27.2 & 8388608 &  64.0 & 5478914 &  41.9\\\\\n",
       "\\end{tabular}\n"
      ],
      "text/markdown": [
       "\n",
       "A matrix: 2 × 6 of type dbl\n",
       "\n",
       "| <!--/--> | used | (Mb) | gc trigger | (Mb) | max used | (Mb) |\n",
       "|---|---|---|---|---|---|---|\n",
       "| Ncells | 2032300 | 108.6 | 3863641 | 206.4 | 2993701 | 159.9 |\n",
       "| Vcells | 3552226 |  27.2 | 8388608 |  64.0 | 5478914 |  41.9 |\n",
       "\n"
      ],
      "text/plain": [
       "       used    (Mb)  gc trigger (Mb)  max used (Mb) \n",
       "Ncells 2032300 108.6 3863641    206.4 2993701  159.9\n",
       "Vcells 3552226  27.2 8388608     64.0 5478914   41.9"
      ]
     },
     "metadata": {},
     "output_type": "display_data"
    }
   ],
   "source": [
    "# limpio la memoria\n",
    "rm(list=ls(all.names=TRUE)) # remove all objects\n",
    "gc(full=TRUE, verbose=FALSE) # garbage collection"
   ]
  },
  {
   "cell_type": "markdown",
   "metadata": {
    "id": "kuPfQ7ksjwW3"
   },
   "source": [
    "### 2.2.2 Carga de Librerias"
   ]
  },
  {
   "cell_type": "code",
   "execution_count": 11,
   "metadata": {
    "id": "lVyxLaJ1j1J_"
   },
   "outputs": [],
   "source": [
    "# cargo las librerias que necesito\n",
    "require(\"data.table\")\n",
    "require(\"parallel\")\n",
    "\n",
    "if( !require(\"primes\") ) install.packages(\"primes\")\n",
    "require(\"primes\")\n",
    "\n",
    "if( !require(\"utils\") ) install.packages(\"utils\")\n",
    "require(\"utils\")\n",
    "\n",
    "if( !require(\"rlist\") ) install.packages(\"rlist\")\n",
    "require(\"rlist\")\n",
    "\n",
    "if( !require(\"yaml\")) install.packages(\"yaml\")\n",
    "require(\"yaml\")\n",
    "\n",
    "if( !require(\"lightgbm\") ) install.packages(\"lightgbm\")\n",
    "require(\"lightgbm\")\n",
    "\n",
    "if( !require(\"DiceKriging\") ) install.packages(\"DiceKriging\")\n",
    "require(\"DiceKriging\")\n",
    "\n",
    "if( !require(\"mlrMBO\") ) install.packages(\"mlrMBO\")\n",
    "require(\"mlrMBO\")"
   ]
  },
  {
   "cell_type": "markdown",
   "metadata": {
    "id": "Iz-6Qt6BUaA3"
   },
   "source": [
    "### 2.2.3 Definicion de Parametros"
   ]
  },
  {
   "cell_type": "markdown",
   "metadata": {
    "id": "cOdlKd7lUm2I"
   },
   "source": [
    "aqui debe cargar SU semilla primigenia\n",
    "<br>recuerde cambiar el numero de experimento en cada corrida nueva"
   ]
  },
  {
   "cell_type": "code",
   "execution_count": 12,
   "metadata": {
    "id": "ASYkebOu2mF6"
   },
   "outputs": [],
   "source": [
    "PARAM <- list()\n",
    "PARAM$experimento <- 4942\n",
    "PARAM$semilla_primigenia <- 500057\n"
   ]
  },
  {
   "cell_type": "code",
   "execution_count": 13,
   "metadata": {
    "id": "ezOhQdbA293o"
   },
   "outputs": [],
   "source": [
    "PARAM$kaggle$competencia <- \"data-mining-analista-sr-2025-a\"\n",
    "PARAM$kaggle$cortes <- seq(10000, 12000, by= 500)"
   ]
  },
  {
   "cell_type": "code",
   "execution_count": 14,
   "metadata": {
    "id": "jtB0Lub42rHO"
   },
   "outputs": [],
   "source": [
    "# un undersampling de 0.1  toma solo el 10% de los CONTINUA\n",
    "# undersampling de 1.0  implica tomar TODOS los datos\n",
    "\n",
    "PARAM$trainingstrategy$undersampling <- 0.5"
   ]
  },
  {
   "cell_type": "code",
   "execution_count": 15,
   "metadata": {
    "id": "OFxm-xiNUOJX"
   },
   "outputs": [],
   "source": [
    "# Parametros LightGBM\n",
    "\n",
    "PARAM$hyperparametertuning$xval_folds <- 5\n",
    "\n",
    "# parametros fijos del LightGBM que se pisaran con la parte variable de la BO\n",
    "PARAM$lgbm$param_fijos <-  list(\n",
    "  boosting= \"gbdt\", # puede ir  dart  , ni pruebe random_forest\n",
    "  objective= \"binary\",\n",
    "  metric= \"auc\",\n",
    "  first_metric_only= FALSE,\n",
    "  boost_from_average= TRUE,\n",
    "  feature_pre_filter= FALSE,\n",
    "  force_row_wise= TRUE, # para reducir warnings\n",
    "  verbosity= -100,\n",
    "\n",
    "  seed= PARAM$semilla_primigenia,\n",
    "\n",
    "  max_depth= -1L, # -1 significa no limitar,  por ahora lo dejo fijo\n",
    "  min_gain_to_split= 0, # min_gain_to_split >= 0\n",
    "  min_sum_hessian_in_leaf= 0.001, #  min_sum_hessian_in_leaf >= 0.0\n",
    "  lambda_l1= 0.0, # lambda_l1 >= 0.0\n",
    "  lambda_l2= 0.0, # lambda_l2 >= 0.0\n",
    "  max_bin= 31L, # lo debo dejar fijo, no participa de la BO\n",
    "\n",
    "  bagging_fraction= 1.0, # 0.0 < bagging_fraction <= 1.0\n",
    "  pos_bagging_fraction= 1.0, # 0.0 < pos_bagging_fraction <= 1.0\n",
    "  neg_bagging_fraction= 1.0, # 0.0 < neg_bagging_fraction <= 1.0\n",
    "  is_unbalance= FALSE, #\n",
    "  scale_pos_weight= 1.0, # scale_pos_weight > 0.0\n",
    "\n",
    "  drop_rate= 0.1, # 0.0 < neg_bagging_fraction <= 1.0\n",
    "  max_drop= 50, # <=0 means no limit\n",
    "  skip_drop= 0.5, # 0.0 <= skip_drop <= 1.0\n",
    "\n",
    "  extra_trees= FALSE,\n",
    "\n",
    "  num_iterations= 1200,\n",
    "  learning_rate= 0.02,\n",
    "  feature_fraction= 0.5,\n",
    "  num_leaves= 750,\n",
    "  min_data_in_leaf= 5000\n",
    ")\n"
   ]
  },
  {
   "cell_type": "markdown",
   "metadata": {
    "id": "D5Yj-JV4yvOt"
   },
   "source": [
    "Aqui se definen los hiperparámetros de LightGBM que participan de la Bayesian Optimization\n",
    "<br> si es un numero entero debe ir  makeIntegerParam\n",
    "<br> si es un numero real (con decimales) debe ir  makeNumericParam\n",
    "<br> es muy importante leer cuales son un lower y upper  permitidos y ademas razonables"
   ]
  },
  {
   "cell_type": "code",
   "execution_count": 16,
   "metadata": {
    "id": "jENpR26ZyuS8"
   },
   "outputs": [],
   "source": [
    "# Aqui se cargan los bordes de los hiperparametros de la BO\n",
    "PARAM$hypeparametertuning$hs <- makeParamSet(\n",
    "  makeIntegerParam(\"num_iterations\", lower = 1000L, upper = 1500L),\n",
    "  makeNumericParam(\"learning_rate\", lower = 0.01, upper = 0.02),\n",
    "  makeNumericParam(\"feature_fraction\", lower = 0.4, upper = 0.6),\n",
    "  makeIntegerParam(\"num_leaves\", lower = 8L, upper = 30L),\n",
    "  makeIntegerParam(\"min_data_in_leaf\", lower = 600L, upper = 1200L),\n",
    "  makeNumericParam(\"lambda_l1\", lower = 0, upper = 10),\n",
    "  makeNumericParam(\"lambda_l2\", lower = 0, upper = 10),\n",
    "  makeNumericParam(\"min_gain_to_split\", lower = 0.01, upper = 0.1)\n",
    ")"
   ]
  },
  {
   "cell_type": "markdown",
   "metadata": {
    "id": "-_RPFUb3zMoW"
   },
   "source": [
    "A mayor cantidad de hiperparámetros, se debe aumentar las iteraciones de la Bayesian Optimization\n",
    "<br> 30 es un valor muy tacaño, pero corre rápido\n",
    "<br> deberia partir de 50, alcanzando los 100 si se dispone de tiempo"
   ]
  },
  {
   "cell_type": "code",
   "execution_count": 17,
   "metadata": {
    "id": "q5Rd3pnbzSiG"
   },
   "outputs": [],
   "source": [
    "PARAM$hyperparametertuning$iteraciones <- 100 # iteraciones bayesianas"
   ]
  },
  {
   "cell_type": "markdown",
   "metadata": {
    "id": "4RWZXL1VZjMI"
   },
   "source": [
    "### 2.2.4  Preprocesamiento"
   ]
  },
  {
   "cell_type": "code",
   "execution_count": 18,
   "metadata": {
    "id": "j3toG9-lZm4K"
   },
   "outputs": [],
   "source": [
    "# carpeta de trabajo\n",
    "\n",
    "setwd(\"/content/buckets/b1/exp\")\n",
    "experimento_folder <- paste0(\"HT\", PARAM$experimento)\n",
    "dir.create(experimento_folder, showWarnings=FALSE)\n",
    "setwd( paste0(\"/content/buckets/b1/exp/\", experimento_folder ))"
   ]
  },
  {
   "cell_type": "code",
   "execution_count": 19,
   "metadata": {
    "id": "FM3lxKoLZ643"
   },
   "outputs": [],
   "source": [
    "# lectura del dataset\n",
    "\n",
    "dataset <- fread(\"/content/datasets/dataset_pequeno.csv\")"
   ]
  },
  {
   "cell_type": "code",
   "execution_count": 20,
   "metadata": {
    "id": "OsJ-91UeZ-I_"
   },
   "outputs": [],
   "source": [
    "dataset_train <- dataset[foto_mes %in% c(202107)]"
   ]
  },
  {
   "cell_type": "code",
   "execution_count": 21,
   "metadata": {
    "id": "vrWE7BE0aB2J"
   },
   "outputs": [],
   "source": [
    "# paso la clase a binaria que tome valores {0,1}  enteros\n",
    "#  BAJA+1 y BAJA+2  son  1,   CONTINUA es 0\n",
    "\n",
    "dataset_train[,\n",
    "  clase01 := ifelse(clase_ternaria %in% c(\"BAJA+2\",\"BAJA+1\"), 1L, 0L)\n",
    "]"
   ]
  },
  {
   "cell_type": "code",
   "execution_count": 22,
   "metadata": {
    "id": "jP7YlQBnaW6W"
   },
   "outputs": [],
   "source": [
    "# defino los datos que forma parte del training\n",
    "# aqui se hace el undersampling de los CONTINUA\n",
    "# notar que para esto utilizo la SEGUNDA semilla\n",
    "\n",
    "set.seed(PARAM$semilla_primigenia, kind = \"L'Ecuyer-CMRG\")\n",
    "dataset_train[, azar := runif(nrow(dataset_train))]\n",
    "dataset_train[, training := 0L]\n",
    "\n",
    "dataset_train[\n",
    "  foto_mes %in% c(202107) &\n",
    "    (azar <= PARAM$trainingstrategy$undersampling | clase_ternaria %in% c(\"BAJA+1\", \"BAJA+2\")),\n",
    "  training := 1L\n",
    "]"
   ]
  },
  {
   "cell_type": "code",
   "execution_count": 23,
   "metadata": {
    "id": "xElu4s5W4rX7"
   },
   "outputs": [],
   "source": [
    "# los campos que se van a utilizar\n",
    "\n",
    "campos_buenos <- setdiff(\n",
    "  colnames(dataset_train),\n",
    "  c(\"clase_ternaria\", \"clase01\", \"azar\", \"training\")\n",
    ")"
   ]
  },
  {
   "cell_type": "code",
   "execution_count": 24,
   "metadata": {
    "id": "PppMHcGYaaol"
   },
   "outputs": [
    {
     "data": {
      "text/html": [
       "82968"
      ],
      "text/latex": [
       "82968"
      ],
      "text/markdown": [
       "82968"
      ],
      "text/plain": [
       "[1] 82968"
      ]
     },
     "metadata": {},
     "output_type": "display_data"
    },
    {
     "data": {
      "text/html": [
       "154"
      ],
      "text/latex": [
       "154"
      ],
      "text/markdown": [
       "154"
      ],
      "text/plain": [
       "[1] 154"
      ]
     },
     "metadata": {},
     "output_type": "display_data"
    }
   ],
   "source": [
    "# dejo los datos en el formato que necesita LightGBM\n",
    "\n",
    "dtrain <- lgb.Dataset(\n",
    "  data= data.matrix(dataset_train[training == 1L, campos_buenos, with= FALSE]),\n",
    "  label= dataset_train[training == 1L, clase01],\n",
    "  free_raw_data= FALSE\n",
    ")\n",
    "\n",
    "nrow(dtrain)\n",
    "ncol(dtrain)"
   ]
  },
  {
   "cell_type": "markdown",
   "metadata": {
    "id": "Ta-EkOu3cphF"
   },
   "source": [
    "2.2.5 Configuracion Bayesian Optimization"
   ]
  },
  {
   "cell_type": "code",
   "execution_count": 25,
   "metadata": {
    "id": "cjgfurjdfiXb"
   },
   "outputs": [],
   "source": [
    "# En el argumento x llegan los parmaetros de la bayesiana\n",
    "#  devuelve la AUC en cross validation del modelo entrenado\n",
    "\n",
    "EstimarGanancia_AUC_lightgbm <- function(x) {\n",
    "\n",
    "  # x pisa (o agrega) a param_fijos\n",
    "  param_completo <- modifyList(PARAM$lgbm$param_fijos, x)\n",
    "\n",
    "  # entreno LightGBM\n",
    "  modelocv <- lgb.cv(\n",
    "    data= dtrain,\n",
    "    nfold= PARAM$hyperparametertuning$xval_folds,\n",
    "    stratified= TRUE,\n",
    "    param= param_completo\n",
    "  )\n",
    "\n",
    "  # obtengo la ganancia\n",
    "  AUC <- modelocv$best_score\n",
    "\n",
    "  # hago espacio en la memoria\n",
    "  rm(modelocv)\n",
    "  gc(full= TRUE, verbose= FALSE)\n",
    "\n",
    "  message(format(Sys.time(), \"%a %b %d %X %Y\"), \" AUC \", AUC)\n",
    "\n",
    "  return(AUC)\n",
    "}"
   ]
  },
  {
   "cell_type": "code",
   "execution_count": 26,
   "metadata": {
    "id": "WLi_o1hocvN-"
   },
   "outputs": [],
   "source": [
    "# Aqui comienza la configuracion de la Bayesian Optimization\n",
    "\n",
    "# en este archivo quedan la evolucion binaria de la BO\n",
    "kbayesiana <- \"bayesiana.RDATA\"\n",
    "\n",
    "funcion_optimizar <- EstimarGanancia_AUC_lightgbm # la funcion que voy a maximizar\n",
    "\n",
    "configureMlr(show.learner.output= FALSE)\n",
    "\n",
    "# configuro la busqueda bayesiana,  los hiperparametros que se van a optimizar\n",
    "# por favor, no desesperarse por lo complejo\n",
    "\n",
    "obj.fun <- makeSingleObjectiveFunction(\n",
    "  fn= funcion_optimizar, # la funcion que voy a maximizar\n",
    "  minimize= FALSE, # estoy Maximizando la ganancia\n",
    "  noisy= TRUE,\n",
    "  par.set= PARAM$hypeparametertuning$hs, # definido al comienzo del programa\n",
    "  has.simple.signature= FALSE # paso los parametros en una lista\n",
    ")\n",
    "\n",
    "# cada 600 segundos guardo el resultado intermedio\n",
    "ctrl <- makeMBOControl(\n",
    "  save.on.disk.at.time= 600, # se graba cada 600 segundos\n",
    "  save.file.path= kbayesiana\n",
    ") # se graba cada 600 segundos\n",
    "\n",
    "# indico la cantidad de iteraciones que va a tener la Bayesian Optimization\n",
    "ctrl <- setMBOControlTermination(\n",
    "  ctrl,\n",
    "  iters= PARAM$hyperparametertuning$iteraciones\n",
    ") # cantidad de iteraciones\n",
    "\n",
    "# defino el método estandar para la creacion de los puntos iniciales,\n",
    "# los \"No Inteligentes\"\n",
    "ctrl <- setMBOControlInfill(ctrl, crit= makeMBOInfillCritEI())\n",
    "\n",
    "# establezco la funcion que busca el maximo\n",
    "surr.km <- makeLearner(\n",
    "  \"regr.km\",\n",
    "  predict.type= \"se\",\n",
    "  covtype= \"matern3_2\",\n",
    "  control= list(trace= TRUE)\n",
    ")\n"
   ]
  },
  {
   "cell_type": "markdown",
   "metadata": {
    "id": "_uUeVo5pc4zc"
   },
   "source": [
    "2.2.6 Corrida Bayesian Optimization"
   ]
  },
  {
   "cell_type": "code",
   "execution_count": 27,
   "metadata": {
    "id": "RcABNaKGciaz",
    "scrolled": true
   },
   "outputs": [
    {
     "name": "stderr",
     "output_type": "stream",
     "text": [
      "Computing y column(s) for design. Not provided.\n",
      "\n",
      "Mon Jul 28 23:23:57 2025 AUC 0.930032102821768\n",
      "\n",
      "Mon Jul 28 23:24:52 2025 AUC 0.928637140020873\n",
      "\n",
      "Mon Jul 28 23:25:52 2025 AUC 0.929829641233752\n",
      "\n",
      "Mon Jul 28 23:26:45 2025 AUC 0.93133238255846\n",
      "\n",
      "Mon Jul 28 23:27:47 2025 AUC 0.929973510052791\n",
      "\n",
      "Mon Jul 28 23:28:40 2025 AUC 0.928868646497744\n",
      "\n",
      "Mon Jul 28 23:29:44 2025 AUC 0.93046800775251\n",
      "\n",
      "Mon Jul 28 23:30:38 2025 AUC 0.929406269668178\n",
      "\n",
      "Mon Jul 28 23:31:26 2025 AUC 0.930537283441816\n",
      "\n",
      "Mon Jul 28 23:32:16 2025 AUC 0.930356869987755\n",
      "\n",
      "Mon Jul 28 23:33:17 2025 AUC 0.929330893187937\n",
      "\n",
      "Mon Jul 28 23:34:22 2025 AUC 0.928607540214015\n",
      "\n",
      "Mon Jul 28 23:35:11 2025 AUC 0.930534278506054\n",
      "\n",
      "Mon Jul 28 23:36:06 2025 AUC 0.930473616077954\n",
      "\n",
      "Mon Jul 28 23:37:11 2025 AUC 0.929032246889254\n",
      "\n",
      "Mon Jul 28 23:38:19 2025 AUC 0.930285092498002\n",
      "\n",
      "Mon Jul 28 23:39:06 2025 AUC 0.928445048547857\n",
      "\n",
      "Mon Jul 28 23:39:55 2025 AUC 0.928585572400953\n",
      "\n",
      "Mon Jul 28 23:40:31 2025 AUC 0.930233062349094\n",
      "\n",
      "Mon Jul 28 23:41:35 2025 AUC 0.92988068206573\n",
      "\n",
      "[mbo] 0: num_iterations=1351; learning_rate=0.0151; feature_fraction=0.522; num_leaves=11; min_data_in_leaf=784 : y = 0.93 : 58.6 secs : initdesign\n",
      "\n",
      "[mbo] 0: num_iterations=1238; learning_rate=0.0176; feature_fraction=0.549; num_leaves=17; min_data_in_leaf=1045 : y = 0.929 : 54.9 secs : initdesign\n",
      "\n",
      "[mbo] 0: num_iterations=1392; learning_rate=0.0112; feature_fraction=0.435; num_leaves=16; min_data_in_leaf=964 : y = 0.93 : 60.4 secs : initdesign\n",
      "\n",
      "[mbo] 0: num_iterations=1055; learning_rate=0.0184; feature_fraction=0.412; num_leaves=29; min_data_in_leaf=843 : y = 0.931 : 53.1 secs : initdesign\n",
      "\n",
      "[mbo] 0: num_iterations=1259; learning_rate=0.0141; feature_fraction=0.462; num_leaves=28; min_data_in_leaf=960 : y = 0.93 : 61.4 secs : initdesign\n",
      "\n",
      "[mbo] 0: num_iterations=1148; learning_rate=0.0173; feature_fraction=0.558; num_leaves=19; min_data_in_leaf=1020 : y = 0.929 : 52.9 secs : initdesign\n",
      "\n",
      "[mbo] 0: num_iterations=1449; learning_rate=0.0158; feature_fraction=0.509; num_leaves=15; min_data_in_leaf=887 : y = 0.93 : 64.3 secs : initdesign\n",
      "\n",
      "[mbo] 0: num_iterations=1298; learning_rate=0.019; feature_fraction=0.491; num_leaves=10; min_data_in_leaf=922 : y = 0.929 : 54.6 secs : initdesign\n",
      "\n",
      "[mbo] 0: num_iterations=1024; learning_rate=0.0161; feature_fraction=0.458; num_leaves=21; min_data_in_leaf=667 : y = 0.931 : 47.4 secs : initdesign\n",
      "\n",
      "[mbo] 0: num_iterations=1178; learning_rate=0.0107; feature_fraction=0.482; num_leaves=12; min_data_in_leaf=603 : y = 0.93 : 50.2 secs : initdesign\n",
      "\n",
      "[mbo] 0: num_iterations=1424; learning_rate=0.0138; feature_fraction=0.443; num_leaves=13; min_data_in_leaf=1119 : y = 0.929 : 60.8 secs : initdesign\n",
      "\n",
      "[mbo] 0: num_iterations=1498; learning_rate=0.0148; feature_fraction=0.575; num_leaves=22; min_data_in_leaf=1106 : y = 0.929 : 65.2 secs : initdesign\n",
      "\n",
      "[mbo] 0: num_iterations=1203; learning_rate=0.0169; feature_fraction=0.585; num_leaves=23; min_data_in_leaf=654 : y = 0.931 : 49.5 secs : initdesign\n",
      "\n",
      "[mbo] 0: num_iterations=1102; learning_rate=0.0116; feature_fraction=0.518; num_leaves=26; min_data_in_leaf=697 : y = 0.93 : 54.7 secs : initdesign\n",
      "\n",
      "[mbo] 0: num_iterations=1317; learning_rate=0.0196; feature_fraction=0.43; num_leaves=30; min_data_in_leaf=1163 : y = 0.929 : 65.3 secs : initdesign\n",
      "\n",
      "[mbo] 0: num_iterations=1461; learning_rate=0.0104; feature_fraction=0.531; num_leaves=20; min_data_in_leaf=831 : y = 0.93 : 67.7 secs : initdesign\n",
      "\n",
      "[mbo] 0: num_iterations=1088; learning_rate=0.0121; feature_fraction=0.407; num_leaves=14; min_data_in_leaf=1075 : y = 0.928 : 46.9 secs : initdesign\n",
      "\n",
      "[mbo] 0: num_iterations=1037; learning_rate=0.0128; feature_fraction=0.565; num_leaves=25; min_data_in_leaf=1173 : y = 0.929 : 48.9 secs : initdesign\n",
      "\n",
      "[mbo] 0: num_iterations=1169; learning_rate=0.0134; feature_fraction=0.599; num_leaves=9; min_data_in_leaf=734 : y = 0.93 : 35.8 secs : initdesign\n",
      "\n",
      "[mbo] 0: num_iterations=1340; learning_rate=0.0186; feature_fraction=0.48; num_leaves=24; min_data_in_leaf=779 : y = 0.93 : 64.2 secs : initdesign\n",
      "\n",
      "Saved the current state after iteration 1 in the file bayesiana.RDATA.\n",
      "\n",
      "Mon Jul 28 23:42:29 2025 AUC 0.930923517535038\n",
      "\n",
      "[mbo] 1: num_iterations=1002; learning_rate=0.016; feature_fraction=0.402; num_leaves=30; min_data_in_leaf=860 : y = 0.931 : 49.2 secs : infill_ei\n",
      "\n",
      "Mon Jul 28 23:45:08 2025 AUC 0.930806837634487\n",
      "\n",
      "[mbo] 4: num_iterations=1104; learning_rate=0.0198; feature_fraction=0.408; num_leaves=23; min_data_in_leaf=850 : y = 0.931 : 51.0 secs : infill_ei\n",
      "\n",
      "Mon Jul 28 23:45:57 2025 AUC 0.930560823191955\n",
      "\n",
      "[mbo] 5: num_iterations=1021; learning_rate=0.0194; feature_fraction=0.411; num_leaves=27; min_data_in_leaf=867 : y = 0.931 : 48.6 secs : infill_ei\n",
      "\n",
      "Mon Jul 28 23:47:01 2025 AUC 0.931554027230455\n",
      "\n",
      "[mbo] 6: num_iterations=1339; learning_rate=0.0173; feature_fraction=0.415; num_leaves=30; min_data_in_leaf=842 : y = 0.932 : 63.7 secs : infill_ei\n",
      "\n",
      "Mon Jul 28 23:48:10 2025 AUC 0.929801397043145\n",
      "\n",
      "[mbo] 7: num_iterations=1409; learning_rate=0.0115; feature_fraction=0.417; num_leaves=30; min_data_in_leaf=842 : y = 0.93 : 68.4 secs : infill_ei\n",
      "\n",
      "Mon Jul 28 23:49:10 2025 AUC 0.931052781383609\n",
      "\n",
      "[mbo] 8: num_iterations=1252; learning_rate=0.0174; feature_fraction=0.408; num_leaves=26; min_data_in_leaf=846 : y = 0.931 : 59.0 secs : infill_ei\n",
      "\n",
      "Mon Jul 28 23:50:19 2025 AUC 0.930509582568724\n",
      "\n",
      "[mbo] 9: num_iterations=1423; learning_rate=0.0188; feature_fraction=0.414; num_leaves=30; min_data_in_leaf=842 : y = 0.931 : 69.1 secs : infill_ei\n",
      "\n",
      "Mon Jul 28 23:51:16 2025 AUC 0.931184596671218\n",
      "\n",
      "[mbo] 10: num_iterations=1168; learning_rate=0.017; feature_fraction=0.418; num_leaves=28; min_data_in_leaf=843 : y = 0.931 : 56.1 secs : infill_ei\n",
      "\n",
      "Mon Jul 28 23:52:22 2025 AUC 0.930525872293369\n",
      "\n",
      "[mbo] 11: num_iterations=1377; learning_rate=0.0165; feature_fraction=0.411; num_leaves=30; min_data_in_leaf=839 : y = 0.931 : 65.4 secs : infill_ei\n",
      "\n",
      "Saved the current state after iteration 12 in the file bayesiana.RDATA.\n",
      "\n",
      "Mon Jul 28 23:55:37 2025 AUC 0.929320432967227\n",
      "\n",
      "[mbo] 14: num_iterations=1318; learning_rate=0.0171; feature_fraction=0.417; num_leaves=25; min_data_in_leaf=846 : y = 0.929 : 61.6 secs : infill_ei\n",
      "\n",
      "Mon Jul 28 23:56:39 2025 AUC 0.929382699784063\n",
      "\n",
      "[mbo] 15: num_iterations=1359; learning_rate=0.0153; feature_fraction=0.465; num_leaves=18; min_data_in_leaf=1049 : y = 0.929 : 61.1 secs : infill_ei\n",
      "\n",
      "Mon Jul 28 23:57:41 2025 AUC 0.930494760089829\n",
      "\n",
      "[mbo] 16: num_iterations=1331; learning_rate=0.0175; feature_fraction=0.41; num_leaves=25; min_data_in_leaf=843 : y = 0.93 : 61.8 secs : infill_ei\n",
      "\n",
      "Mon Jul 28 23:58:36 2025 AUC 0.930652668511939\n",
      "\n",
      "[mbo] 17: num_iterations=1262; learning_rate=0.0154; feature_fraction=0.591; num_leaves=29; min_data_in_leaf=936 : y = 0.931 : 54.4 secs : infill_ei\n",
      "\n",
      "Mon Jul 28 23:59:26 2025 AUC 0.930326406391075\n",
      "\n",
      "[mbo] 18: num_iterations=1068; learning_rate=0.0191; feature_fraction=0.541; num_leaves=23; min_data_in_leaf=682 : y = 0.93 : 49.5 secs : infill_ei\n",
      "\n",
      "Tue Jul 29 00:00:12 2025 AUC 0.930082607744369\n",
      "\n",
      "[mbo] 19: num_iterations=1021; learning_rate=0.0194; feature_fraction=0.502; num_leaves=12; min_data_in_leaf=731 : y = 0.93 : 44.6 secs : infill_ei\n",
      "\n",
      "Tue Jul 29 00:01:00 2025 AUC 0.929677421726295\n",
      "\n",
      "[mbo] 20: num_iterations=1119; learning_rate=0.0145; feature_fraction=0.57; num_leaves=19; min_data_in_leaf=862 : y = 0.93 : 47.5 secs : infill_ei\n",
      "\n",
      "Tue Jul 29 00:01:48 2025 AUC 0.930027114820562\n",
      "\n",
      "[mbo] 21: num_iterations=1273; learning_rate=0.0131; feature_fraction=0.585; num_leaves=16; min_data_in_leaf=736 : y = 0.93 : 47.4 secs : infill_ei\n",
      "\n",
      "Tue Jul 29 00:02:33 2025 AUC 0.928646781469526\n",
      "\n",
      "[mbo] 22: num_iterations=1073; learning_rate=0.0151; feature_fraction=0.502; num_leaves=9; min_data_in_leaf=1077 : y = 0.929 : 44.9 secs : infill_ei\n",
      "\n",
      "Saved the current state after iteration 23 in the file bayesiana.RDATA.\n",
      "\n",
      "Tue Jul 29 00:04:36 2025 AUC 0.930630595672219\n",
      "\n",
      "[mbo] 24: num_iterations=1071; learning_rate=0.0129; feature_fraction=0.485; num_leaves=30; min_data_in_leaf=795 : y = 0.931 : 54.0 secs : infill_ei\n",
      "\n",
      "Tue Jul 29 00:05:30 2025 AUC 0.929537772111907\n",
      "\n",
      "[mbo] 25: num_iterations=1247; learning_rate=0.0141; feature_fraction=0.432; num_leaves=12; min_data_in_leaf=942 : y = 0.93 : 52.8 secs : infill_ei\n",
      "\n",
      "Tue Jul 29 00:06:13 2025 AUC 0.929793851029627\n",
      "\n",
      "[mbo] 26: num_iterations=1073; learning_rate=0.014; feature_fraction=0.59; num_leaves=24; min_data_in_leaf=796 : y = 0.93 : 43.0 secs : infill_ei\n",
      "\n",
      "Tue Jul 29 00:07:00 2025 AUC 0.928001620984584\n",
      "\n",
      "[mbo] 27: num_iterations=1227; learning_rate=0.0198; feature_fraction=0.58; num_leaves=12; min_data_in_leaf=999 : y = 0.928 : 45.9 secs : infill_ei\n",
      "\n",
      "Tue Jul 29 00:08:06 2025 AUC 0.929985244240328\n",
      "\n",
      "[mbo] 28: num_iterations=1339; learning_rate=0.0174; feature_fraction=0.462; num_leaves=30; min_data_in_leaf=829 : y = 0.93 : 65.8 secs : infill_ei\n",
      "\n",
      "Tue Jul 29 00:09:07 2025 AUC 0.931583011838147\n",
      "\n",
      "[mbo] 29: num_iterations=1217; learning_rate=0.0172; feature_fraction=0.415; num_leaves=29; min_data_in_leaf=915 : y = 0.932 : 59.6 secs : infill_ei\n",
      "\n",
      "Tue Jul 29 00:10:08 2025 AUC 0.927716886379298\n",
      "\n",
      "[mbo] 30: num_iterations=1435; learning_rate=0.0113; feature_fraction=0.593; num_leaves=25; min_data_in_leaf=1166 : y = 0.928 : 60.7 secs : infill_ei\n",
      "\n",
      "Tue Jul 29 00:11:10 2025 AUC 0.929774938931964\n",
      "\n",
      "[mbo] 31: num_iterations=1262; learning_rate=0.013; feature_fraction=0.553; num_leaves=28; min_data_in_leaf=990 : y = 0.93 : 61.0 secs : infill_ei\n",
      "\n",
      "Tue Jul 29 00:12:10 2025 AUC 0.930527779674804\n",
      "\n",
      "[mbo] 32: num_iterations=1494; learning_rate=0.0182; feature_fraction=0.599; num_leaves=27; min_data_in_leaf=693 : y = 0.931 : 59.6 secs : infill_ei\n",
      "\n",
      "Tue Jul 29 00:12:57 2025 AUC 0.930234882909905\n",
      "\n",
      "[mbo] 33: num_iterations=1149; learning_rate=0.0136; feature_fraction=0.423; num_leaves=8; min_data_in_leaf=836 : y = 0.93 : 46.2 secs : infill_ei\n",
      "\n",
      "Saved the current state after iteration 34 in the file bayesiana.RDATA.\n",
      "\n",
      "Tue Jul 29 00:14:05 2025 AUC 0.930496036022466\n",
      "\n",
      "[mbo] 34: num_iterations=1389; learning_rate=0.0141; feature_fraction=0.486; num_leaves=20; min_data_in_leaf=820 : y = 0.93 : 64.5 secs : infill_ei\n",
      "\n",
      "Tue Jul 29 00:14:56 2025 AUC 0.931287946210765\n",
      "\n",
      "[mbo] 35: num_iterations=1213; learning_rate=0.0148; feature_fraction=0.481; num_leaves=10; min_data_in_leaf=628 : y = 0.931 : 50.0 secs : infill_ei\n",
      "\n",
      "Tue Jul 29 00:15:54 2025 AUC 0.930247272278993\n",
      "\n",
      "[mbo] 36: num_iterations=1253; learning_rate=0.0196; feature_fraction=0.436; num_leaves=21; min_data_in_leaf=812 : y = 0.93 : 57.2 secs : infill_ei\n",
      "\n",
      "Tue Jul 29 00:16:37 2025 AUC 0.928696984360101\n",
      "\n",
      "[mbo] 37: num_iterations=1008; learning_rate=0.0137; feature_fraction=0.503; num_leaves=10; min_data_in_leaf=914 : y = 0.929 : 43.0 secs : infill_ei\n",
      "\n",
      "Tue Jul 29 00:17:32 2025 AUC 0.930480772233973\n",
      "\n",
      "[mbo] 38: num_iterations=1144; learning_rate=0.0138; feature_fraction=0.423; num_leaves=25; min_data_in_leaf=1154 : y = 0.93 : 53.8 secs : infill_ei\n",
      "\n",
      "Tue Jul 29 00:18:28 2025 AUC 0.929673173769369\n",
      "\n",
      "[mbo] 39: num_iterations=1105; learning_rate=0.0199; feature_fraction=0.526; num_leaves=28; min_data_in_leaf=737 : y = 0.93 : 55.3 secs : infill_ei\n",
      "\n",
      "Tue Jul 29 00:19:30 2025 AUC 0.930739147206147\n",
      "\n",
      "[mbo] 40: num_iterations=1437; learning_rate=0.014; feature_fraction=0.546; num_leaves=15; min_data_in_leaf=631 : y = 0.931 : 61.8 secs : infill_ei\n",
      "\n",
      "Tue Jul 29 00:20:17 2025 AUC 0.930369683993526\n",
      "\n",
      "[mbo] 41: num_iterations=1142; learning_rate=0.0179; feature_fraction=0.6; num_leaves=27; min_data_in_leaf=756 : y = 0.93 : 46.2 secs : infill_ei\n",
      "\n",
      "Tue Jul 29 00:21:17 2025 AUC 0.93033119822311\n",
      "\n",
      "[mbo] 42: num_iterations=1217; learning_rate=0.0171; feature_fraction=0.41; num_leaves=29; min_data_in_leaf=877 : y = 0.93 : 58.8 secs : infill_ei\n",
      "\n",
      "Tue Jul 29 00:22:19 2025 AUC 0.929014176653661\n",
      "\n",
      "[mbo] 43: num_iterations=1245; learning_rate=0.011; feature_fraction=0.441; num_leaves=28; min_data_in_leaf=1156 : y = 0.929 : 61.2 secs : infill_ei\n",
      "\n",
      "Tue Jul 29 00:23:06 2025 AUC 0.929781921614932\n",
      "\n",
      "[mbo] 44: num_iterations=1025; learning_rate=0.0112; feature_fraction=0.509; num_leaves=18; min_data_in_leaf=651 : y = 0.93 : 46.5 secs : infill_ei\n",
      "\n",
      "Saved the current state after iteration 45 in the file bayesiana.RDATA.\n",
      "\n",
      "Tue Jul 29 00:24:14 2025 AUC 0.931351729213362\n",
      "\n",
      "[mbo] 45: num_iterations=1334; learning_rate=0.0176; feature_fraction=0.411; num_leaves=30; min_data_in_leaf=827 : y = 0.931 : 64.3 secs : infill_ei\n",
      "\n",
      "Tue Jul 29 00:25:26 2025 AUC 0.930599269455215\n",
      "\n",
      "[mbo] 46: num_iterations=1483; learning_rate=0.0186; feature_fraction=0.445; num_leaves=27; min_data_in_leaf=915 : y = 0.931 : 71.1 secs : infill_ei\n",
      "\n",
      "Tue Jul 29 00:26:26 2025 AUC 0.928835768163079\n",
      "\n",
      "[mbo] 47: num_iterations=1211; learning_rate=0.013; feature_fraction=0.545; num_leaves=24; min_data_in_leaf=1007 : y = 0.929 : 58.7 secs : infill_ei\n",
      "\n",
      "Tue Jul 29 00:27:24 2025 AUC 0.929871662272065\n",
      "\n",
      "[mbo] 48: num_iterations=1294; learning_rate=0.012; feature_fraction=0.534; num_leaves=16; min_data_in_leaf=671 : y = 0.93 : 57.5 secs : infill_ei\n",
      "\n",
      "Tue Jul 29 00:28:30 2025 AUC 0.93072184358309\n",
      "\n",
      "[mbo] 49: num_iterations=1354; learning_rate=0.0175; feature_fraction=0.414; num_leaves=29; min_data_in_leaf=853 : y = 0.931 : 65.0 secs : infill_ei\n",
      "\n",
      "Tue Jul 29 00:29:14 2025 AUC 0.930238774324576\n",
      "\n",
      "[mbo] 50: num_iterations=1106; learning_rate=0.019; feature_fraction=0.57; num_leaves=15; min_data_in_leaf=694 : y = 0.93 : 43.3 secs : infill_ei\n",
      "\n",
      "Saved the final state in the file bayesiana.RDATA\n",
      "\n"
     ]
    }
   ],
   "source": [
    "# inicio la optimizacion bayesiana, retomando si ya existe\n",
    "# es la celda mas lenta de todo el notebook\n",
    "\n",
    "if (!file.exists(kbayesiana)) {\n",
    "  bayesiana_salida <- mbo(obj.fun, learner= surr.km, control= ctrl)\n",
    "} else {\n",
    "  bayesiana_salida <- mboContinue(kbayesiana) # retomo en caso que ya exista\n",
    "}"
   ]
  },
  {
   "cell_type": "code",
   "execution_count": 28,
   "metadata": {
    "id": "ssk5nnMk6INK"
   },
   "outputs": [
    {
     "data": {
      "text/html": [
       "<style>\n",
       ".list-inline {list-style: none; margin:0; padding: 0}\n",
       ".list-inline>li {display: inline-block}\n",
       ".list-inline>li:not(:last-child)::after {content: \"\\00b7\"; padding: 0 .5ex}\n",
       "</style>\n",
       "<ol class=list-inline><li>'num_iterations'</li><li>'learning_rate'</li><li>'feature_fraction'</li><li>'num_leaves'</li><li>'min_data_in_leaf'</li><li>'y'</li><li>'dob'</li><li>'eol'</li><li>'error.message'</li><li>'exec.time'</li><li>'ei'</li><li>'error.model'</li><li>'train.time'</li><li>'prop.type'</li><li>'propose.time'</li><li>'se'</li><li>'mean'</li></ol>\n"
      ],
      "text/latex": [
       "\\begin{enumerate*}\n",
       "\\item 'num\\_iterations'\n",
       "\\item 'learning\\_rate'\n",
       "\\item 'feature\\_fraction'\n",
       "\\item 'num\\_leaves'\n",
       "\\item 'min\\_data\\_in\\_leaf'\n",
       "\\item 'y'\n",
       "\\item 'dob'\n",
       "\\item 'eol'\n",
       "\\item 'error.message'\n",
       "\\item 'exec.time'\n",
       "\\item 'ei'\n",
       "\\item 'error.model'\n",
       "\\item 'train.time'\n",
       "\\item 'prop.type'\n",
       "\\item 'propose.time'\n",
       "\\item 'se'\n",
       "\\item 'mean'\n",
       "\\end{enumerate*}\n"
      ],
      "text/markdown": [
       "1. 'num_iterations'\n",
       "2. 'learning_rate'\n",
       "3. 'feature_fraction'\n",
       "4. 'num_leaves'\n",
       "5. 'min_data_in_leaf'\n",
       "6. 'y'\n",
       "7. 'dob'\n",
       "8. 'eol'\n",
       "9. 'error.message'\n",
       "10. 'exec.time'\n",
       "11. 'ei'\n",
       "12. 'error.model'\n",
       "13. 'train.time'\n",
       "14. 'prop.type'\n",
       "15. 'propose.time'\n",
       "16. 'se'\n",
       "17. 'mean'\n",
       "\n",
       "\n"
      ],
      "text/plain": [
       " [1] \"num_iterations\"   \"learning_rate\"    \"feature_fraction\" \"num_leaves\"      \n",
       " [5] \"min_data_in_leaf\" \"y\"                \"dob\"              \"eol\"             \n",
       " [9] \"error.message\"    \"exec.time\"        \"ei\"               \"error.model\"     \n",
       "[13] \"train.time\"       \"prop.type\"        \"propose.time\"     \"se\"              \n",
       "[17] \"mean\"            "
      ]
     },
     "metadata": {},
     "output_type": "display_data"
    }
   ],
   "source": [
    "\n",
    "tb_bayesiana <- as.data.table(bayesiana_salida$opt.path)\n",
    "colnames( tb_bayesiana)"
   ]
  },
  {
   "cell_type": "code",
   "execution_count": 29,
   "metadata": {
    "id": "u4zq-vknhjGc"
   },
   "outputs": [],
   "source": [
    "# almaceno los resultados de la Bayesian Optimization\n",
    "# y capturo los mejores hiperparametros encontrados\n",
    "\n",
    "tb_bayesiana <- as.data.table(bayesiana_salida$opt.path)\n",
    "\n",
    "tb_bayesiana[, iter := .I]\n",
    "\n",
    "# ordeno en forma descendente por AUC = y\n",
    "setorder(tb_bayesiana, -y)\n",
    "\n",
    "# grabo para eventualmente poder utilizarlos en OTRA corrida\n",
    "fwrite( tb_bayesiana,\n",
    "  file= \"BO_log.txt\",\n",
    "  sep= \"\\t\"\n",
    ")\n",
    "\n",
    "# los mejores hiperparámetros son los que quedaron en el registro 1 de la tabla\n",
    "PARAM$out$lgbm$mejores_hiperparametros <- tb_bayesiana[\n",
    "  1, # el primero es el de mejor AUC\n",
    "  setdiff(colnames(tb_bayesiana),\n",
    "    c(\"y\",\"dob\",\"eol\",\"error.message\",\"exec.time\",\"ei\",\"error.model\",\n",
    "      \"train.time\",\"prop.type\",\"propose.time\",\"se\",\"mean\",\"iter\")),\n",
    "  with= FALSE\n",
    "]\n",
    "\n",
    "\n",
    "PARAM$out$lgbm$y <- tb_bayesiana[1, y]\n"
   ]
  },
  {
   "cell_type": "code",
   "execution_count": 30,
   "metadata": {
    "id": "E8v2eA427N8e"
   },
   "outputs": [],
   "source": [
    "write_yaml( PARAM, file=\"PARAM.yml\")"
   ]
  },
  {
   "cell_type": "code",
   "execution_count": 31,
   "metadata": {
    "id": "iBTWexVU7PGC"
   },
   "outputs": [
    {
     "name": "stdout",
     "output_type": "stream",
     "text": [
      "   num_iterations learning_rate feature_fraction num_leaves min_data_in_leaf\n",
      "            <int>         <num>            <num>      <int>            <int>\n",
      "1:           1217    0.01723735        0.4145928         29              915\n",
      "[1] 0.931583\n"
     ]
    }
   ],
   "source": [
    "print(PARAM$out$lgbm$mejores_hiperparametros)\n",
    "print(PARAM$out$lgbm$y)"
   ]
  },
  {
   "cell_type": "markdown",
   "metadata": {
    "id": "TKsVZmAnhwX-"
   },
   "source": [
    "## 2.3  Produccion"
   ]
  },
  {
   "cell_type": "markdown",
   "metadata": {
    "id": "RQ_C33Tr5B_9"
   },
   "source": [
    "### Final Training\n",
    "Construyo el modelo final, que es uno solo, no hace ningun tipo de particion < training, validation, testing>]"
   ]
  },
  {
   "cell_type": "code",
   "execution_count": 32,
   "metadata": {
    "id": "eDqfyA14hzwv"
   },
   "outputs": [],
   "source": [
    "setwd(\"/content/buckets/b1/exp\")\n",
    "experimento <- paste0(\"exp\", PARAM$experimento)\n",
    "dir.create(experimento, showWarnings= FALSE)\n",
    "setwd( paste0(\"/content/buckets/b1/exp/\", experimento ))"
   ]
  },
  {
   "cell_type": "markdown",
   "metadata": {
    "id": "8qFmFivf5Iet"
   },
   "source": [
    "#### Final Training Dataset\n",
    "\n",
    "Aqui esta la gran decision de en qué meses hago el Final Training\n",
    "<br> debo utilizar los mejores hiperparámetros que encontré en la optimización bayesiana"
   ]
  },
  {
   "cell_type": "code",
   "execution_count": 33,
   "metadata": {
    "id": "lg5WVZncvc7H"
   },
   "outputs": [],
   "source": [
    "# clase01\n",
    "dataset[, clase01 := ifelse(clase_ternaria %in% c(\"BAJA+1\", \"BAJA+2\"), 1L, 0L)]"
   ]
  },
  {
   "cell_type": "code",
   "execution_count": 34,
   "metadata": {
    "id": "yc9QzXREv0xf"
   },
   "outputs": [],
   "source": [
    "dataset_train <- dataset[foto_mes %in% c(202107)]"
   ]
  },
  {
   "cell_type": "code",
   "execution_count": 35,
   "metadata": {
    "id": "thjdqEBLuvNt"
   },
   "outputs": [],
   "source": [
    "# dejo los datos en el formato que necesita LightGBM\n",
    "\n",
    "dtrain <- lgb.Dataset(\n",
    "  data= data.matrix(dataset_train[, campos_buenos, with= FALSE]),\n",
    "  label= dataset_train[, clase01]\n",
    ")"
   ]
  },
  {
   "cell_type": "markdown",
   "metadata": {
    "id": "VNUa-WSz5Oqu"
   },
   "source": [
    "#### Final Training Hyperparameters"
   ]
  },
  {
   "cell_type": "code",
   "execution_count": 36,
   "metadata": {
    "id": "FgCcvBfEwImu"
   },
   "outputs": [
    {
     "data": {
      "text/html": [
       "<dl>\n",
       "\t<dt>$boosting</dt>\n",
       "\t\t<dd>'gbdt'</dd>\n",
       "\t<dt>$objective</dt>\n",
       "\t\t<dd>'binary'</dd>\n",
       "\t<dt>$metric</dt>\n",
       "\t\t<dd>'auc'</dd>\n",
       "\t<dt>$first_metric_only</dt>\n",
       "\t\t<dd>FALSE</dd>\n",
       "\t<dt>$boost_from_average</dt>\n",
       "\t\t<dd>TRUE</dd>\n",
       "\t<dt>$feature_pre_filter</dt>\n",
       "\t\t<dd>FALSE</dd>\n",
       "\t<dt>$force_row_wise</dt>\n",
       "\t\t<dd>TRUE</dd>\n",
       "\t<dt>$verbosity</dt>\n",
       "\t\t<dd>-100</dd>\n",
       "\t<dt>$seed</dt>\n",
       "\t\t<dd>500057</dd>\n",
       "\t<dt>$max_depth</dt>\n",
       "\t\t<dd>-1</dd>\n",
       "\t<dt>$min_gain_to_split</dt>\n",
       "\t\t<dd>0</dd>\n",
       "\t<dt>$min_sum_hessian_in_leaf</dt>\n",
       "\t\t<dd>0.001</dd>\n",
       "\t<dt>$lambda_l1</dt>\n",
       "\t\t<dd>0</dd>\n",
       "\t<dt>$lambda_l2</dt>\n",
       "\t\t<dd>0</dd>\n",
       "\t<dt>$max_bin</dt>\n",
       "\t\t<dd>31</dd>\n",
       "\t<dt>$bagging_fraction</dt>\n",
       "\t\t<dd>1</dd>\n",
       "\t<dt>$pos_bagging_fraction</dt>\n",
       "\t\t<dd>1</dd>\n",
       "\t<dt>$neg_bagging_fraction</dt>\n",
       "\t\t<dd>1</dd>\n",
       "\t<dt>$is_unbalance</dt>\n",
       "\t\t<dd>FALSE</dd>\n",
       "\t<dt>$scale_pos_weight</dt>\n",
       "\t\t<dd>1</dd>\n",
       "\t<dt>$drop_rate</dt>\n",
       "\t\t<dd>0.1</dd>\n",
       "\t<dt>$max_drop</dt>\n",
       "\t\t<dd>50</dd>\n",
       "\t<dt>$skip_drop</dt>\n",
       "\t\t<dd>0.5</dd>\n",
       "\t<dt>$extra_trees</dt>\n",
       "\t\t<dd>FALSE</dd>\n",
       "\t<dt>$num_iterations</dt>\n",
       "\t\t<dd>1217</dd>\n",
       "\t<dt>$learning_rate</dt>\n",
       "\t\t<dd>0.0172373493133808</dd>\n",
       "\t<dt>$feature_fraction</dt>\n",
       "\t\t<dd>0.414592779395003</dd>\n",
       "\t<dt>$num_leaves</dt>\n",
       "\t\t<dd>29</dd>\n",
       "\t<dt>$min_data_in_leaf</dt>\n",
       "\t\t<dd>915</dd>\n",
       "</dl>\n"
      ],
      "text/latex": [
       "\\begin{description}\n",
       "\\item[\\$boosting] 'gbdt'\n",
       "\\item[\\$objective] 'binary'\n",
       "\\item[\\$metric] 'auc'\n",
       "\\item[\\$first\\_metric\\_only] FALSE\n",
       "\\item[\\$boost\\_from\\_average] TRUE\n",
       "\\item[\\$feature\\_pre\\_filter] FALSE\n",
       "\\item[\\$force\\_row\\_wise] TRUE\n",
       "\\item[\\$verbosity] -100\n",
       "\\item[\\$seed] 500057\n",
       "\\item[\\$max\\_depth] -1\n",
       "\\item[\\$min\\_gain\\_to\\_split] 0\n",
       "\\item[\\$min\\_sum\\_hessian\\_in\\_leaf] 0.001\n",
       "\\item[\\$lambda\\_l1] 0\n",
       "\\item[\\$lambda\\_l2] 0\n",
       "\\item[\\$max\\_bin] 31\n",
       "\\item[\\$bagging\\_fraction] 1\n",
       "\\item[\\$pos\\_bagging\\_fraction] 1\n",
       "\\item[\\$neg\\_bagging\\_fraction] 1\n",
       "\\item[\\$is\\_unbalance] FALSE\n",
       "\\item[\\$scale\\_pos\\_weight] 1\n",
       "\\item[\\$drop\\_rate] 0.1\n",
       "\\item[\\$max\\_drop] 50\n",
       "\\item[\\$skip\\_drop] 0.5\n",
       "\\item[\\$extra\\_trees] FALSE\n",
       "\\item[\\$num\\_iterations] 1217\n",
       "\\item[\\$learning\\_rate] 0.0172373493133808\n",
       "\\item[\\$feature\\_fraction] 0.414592779395003\n",
       "\\item[\\$num\\_leaves] 29\n",
       "\\item[\\$min\\_data\\_in\\_leaf] 915\n",
       "\\end{description}\n"
      ],
      "text/markdown": [
       "$boosting\n",
       ":   'gbdt'\n",
       "$objective\n",
       ":   'binary'\n",
       "$metric\n",
       ":   'auc'\n",
       "$first_metric_only\n",
       ":   FALSE\n",
       "$boost_from_average\n",
       ":   TRUE\n",
       "$feature_pre_filter\n",
       ":   FALSE\n",
       "$force_row_wise\n",
       ":   TRUE\n",
       "$verbosity\n",
       ":   -100\n",
       "$seed\n",
       ":   500057\n",
       "$max_depth\n",
       ":   -1\n",
       "$min_gain_to_split\n",
       ":   0\n",
       "$min_sum_hessian_in_leaf\n",
       ":   0.001\n",
       "$lambda_l1\n",
       ":   0\n",
       "$lambda_l2\n",
       ":   0\n",
       "$max_bin\n",
       ":   31\n",
       "$bagging_fraction\n",
       ":   1\n",
       "$pos_bagging_fraction\n",
       ":   1\n",
       "$neg_bagging_fraction\n",
       ":   1\n",
       "$is_unbalance\n",
       ":   FALSE\n",
       "$scale_pos_weight\n",
       ":   1\n",
       "$drop_rate\n",
       ":   0.1\n",
       "$max_drop\n",
       ":   50\n",
       "$skip_drop\n",
       ":   0.5\n",
       "$extra_trees\n",
       ":   FALSE\n",
       "$num_iterations\n",
       ":   1217\n",
       "$learning_rate\n",
       ":   0.0172373493133808\n",
       "$feature_fraction\n",
       ":   0.414592779395003\n",
       "$num_leaves\n",
       ":   29\n",
       "$min_data_in_leaf\n",
       ":   915\n",
       "\n",
       "\n"
      ],
      "text/plain": [
       "$boosting\n",
       "[1] \"gbdt\"\n",
       "\n",
       "$objective\n",
       "[1] \"binary\"\n",
       "\n",
       "$metric\n",
       "[1] \"auc\"\n",
       "\n",
       "$first_metric_only\n",
       "[1] FALSE\n",
       "\n",
       "$boost_from_average\n",
       "[1] TRUE\n",
       "\n",
       "$feature_pre_filter\n",
       "[1] FALSE\n",
       "\n",
       "$force_row_wise\n",
       "[1] TRUE\n",
       "\n",
       "$verbosity\n",
       "[1] -100\n",
       "\n",
       "$seed\n",
       "[1] 500057\n",
       "\n",
       "$max_depth\n",
       "[1] -1\n",
       "\n",
       "$min_gain_to_split\n",
       "[1] 0\n",
       "\n",
       "$min_sum_hessian_in_leaf\n",
       "[1] 0.001\n",
       "\n",
       "$lambda_l1\n",
       "[1] 0\n",
       "\n",
       "$lambda_l2\n",
       "[1] 0\n",
       "\n",
       "$max_bin\n",
       "[1] 31\n",
       "\n",
       "$bagging_fraction\n",
       "[1] 1\n",
       "\n",
       "$pos_bagging_fraction\n",
       "[1] 1\n",
       "\n",
       "$neg_bagging_fraction\n",
       "[1] 1\n",
       "\n",
       "$is_unbalance\n",
       "[1] FALSE\n",
       "\n",
       "$scale_pos_weight\n",
       "[1] 1\n",
       "\n",
       "$drop_rate\n",
       "[1] 0.1\n",
       "\n",
       "$max_drop\n",
       "[1] 50\n",
       "\n",
       "$skip_drop\n",
       "[1] 0.5\n",
       "\n",
       "$extra_trees\n",
       "[1] FALSE\n",
       "\n",
       "$num_iterations\n",
       "[1] 1217\n",
       "\n",
       "$learning_rate\n",
       "[1] 0.01723735\n",
       "\n",
       "$feature_fraction\n",
       "[1] 0.4145928\n",
       "\n",
       "$num_leaves\n",
       "[1] 29\n",
       "\n",
       "$min_data_in_leaf\n",
       "[1] 915\n"
      ]
     },
     "metadata": {},
     "output_type": "display_data"
    }
   ],
   "source": [
    "param_final <- modifyList(PARAM$lgbm$param_fijos,\n",
    "  PARAM$out$lgbm$mejores_hiperparametros)\n",
    "\n",
    "param_final"
   ]
  },
  {
   "cell_type": "markdown",
   "metadata": {
    "id": "TZIYn4l95TBH"
   },
   "source": [
    "#### Training\n",
    "Genero el modelo final, siempre sobre TODOS los datos de  final_train, sin hacer ningun tipo de undersampling de la clase mayoritaria"
   ]
  },
  {
   "cell_type": "code",
   "execution_count": 37,
   "metadata": {
    "id": "vPLsd4mMRe4u"
   },
   "outputs": [],
   "source": [
    "# este punto es muy SUTIL  y será revisado en la Clase 05\n",
    "\n",
    "param_normalizado <- copy(param_final)\n",
    "param_normalizado$min_data_in_leaf <-  param_final$min_data_in_leaf / PARAM$trainingstrategy$undersampling"
   ]
  },
  {
   "cell_type": "code",
   "execution_count": 38,
   "metadata": {
    "id": "WRI_-taRwOXO"
   },
   "outputs": [],
   "source": [
    "  # entreno LightGBM\n",
    "\n",
    "  modelo_final <- lgb.train(\n",
    "    data= dtrain,\n",
    "    param= param_normalizado\n",
    "  )"
   ]
  },
  {
   "cell_type": "code",
   "execution_count": 39,
   "metadata": {
    "id": "_bkhnCvj0g3Q"
   },
   "outputs": [],
   "source": [
    "# ahora imprimo la importancia de variables\n",
    "\n",
    "tb_importancia <- as.data.table(lgb.importance(modelo_final))\n",
    "archivo_importancia <- \"impo.txt\"\n",
    "\n",
    "fwrite(tb_importancia,\n",
    "  file= archivo_importancia,\n",
    "  sep= \"\\t\"\n",
    ")"
   ]
  },
  {
   "cell_type": "code",
   "execution_count": 40,
   "metadata": {
    "id": "lZ3sLmbh0kFj"
   },
   "outputs": [],
   "source": [
    "# grabo a disco el modelo en un formato para seres humanos ... ponele ...\n",
    "\n",
    "lgb.save(modelo_final, \"modelo.txt\" )"
   ]
  },
  {
   "cell_type": "markdown",
   "metadata": {
    "id": "VEtp2--t5Ymg"
   },
   "source": [
    "### Scoring"
   ]
  },
  {
   "cell_type": "markdown",
   "metadata": {
    "id": "hI5008Mj5ZdI"
   },
   "source": [
    "Aplico el modelo final a los datos del futuro"
   ]
  },
  {
   "cell_type": "code",
   "execution_count": 41,
   "metadata": {
    "id": "PimBY3N_0ryP"
   },
   "outputs": [],
   "source": [
    "# aplico el modelo a los datos sin clase\n",
    "dfuture <- dataset[foto_mes == 202109]\n",
    "\n",
    "# aplico el modelo a los datos nuevos\n",
    "prediccion <- predict(\n",
    "  modelo_final,\n",
    "  data.matrix(dfuture[, campos_buenos, with= FALSE])\n",
    ")"
   ]
  },
  {
   "cell_type": "markdown",
   "metadata": {
    "id": "D26rNRh55gpw"
   },
   "source": [
    "#### Tabla Prediccion"
   ]
  },
  {
   "cell_type": "code",
   "execution_count": 42,
   "metadata": {
    "id": "RJwg7LHd11yu"
   },
   "outputs": [],
   "source": [
    "# tabla de prediccion\n",
    "\n",
    "tb_prediccion <- dfuture[, list(numero_de_cliente)]\n",
    "tb_prediccion[, prob := prediccion ]\n",
    "\n",
    "# grabo las probabilidad del modelo\n",
    "fwrite(tb_prediccion,\n",
    "  file= \"prediccion.txt\",\n",
    "  sep= \"\\t\"\n",
    ")"
   ]
  },
  {
   "cell_type": "markdown",
   "metadata": {
    "id": "jOt4eG_55ltv"
   },
   "source": [
    "Kaggle Competition Submit"
   ]
  },
  {
   "cell_type": "code",
   "execution_count": 43,
   "metadata": {
    "id": "gWW3tatE12je"
   },
   "outputs": [
    {
     "name": "stdout",
     "output_type": "stream",
     "text": [
      "Successfully submitted to Data Mining, Analista Sr 2025A \n",
      "Successfully submitted to Data Mining, Analista Sr 2025A \n",
      "Successfully submitted to Data Mining, Analista Sr 2025A \n",
      "Successfully submitted to Data Mining, Analista Sr 2025A \n",
      "Successfully submitted to Data Mining, Analista Sr 2025A \n"
     ]
    }
   ],
   "source": [
    "# genero archivos con los  \"envios\" mejores\n",
    "# suba TODOS los archivos a Kaggle\n",
    "\n",
    "# ordeno por probabilidad descendente\n",
    "setorder(tb_prediccion, -prob)\n",
    "\n",
    "dir.create(\"kaggle\")\n",
    "\n",
    "for (envios in PARAM$kaggle$cortes) {\n",
    "\n",
    "  tb_prediccion[, Predicted := 0L] # seteo inicial a 0\n",
    "  tb_prediccion[1:envios, Predicted := 1L] # marclo los primeros\n",
    "\n",
    "  archivo_kaggle <- paste0(\"./kaggle/KA\", PARAM$experimento, \"_\", envios, \".csv\")\n",
    "\n",
    "  # grabo el archivo\n",
    "  fwrite(tb_prediccion[, list(numero_de_cliente, Predicted)],\n",
    "    file= archivo_kaggle,\n",
    "    sep= \",\"\n",
    "  )\n",
    "\n",
    "  # subida a Kaggle, armo la linea de comando\n",
    "  comando <- \"kaggle competitions submit\"\n",
    "  competencia <- paste(\"-c\", PARAM$kaggle$competencia)\n",
    "  arch <- paste( \"-f\", archivo_kaggle)\n",
    "\n",
    "  mensaje <- paste0(\"-m 'envios=\", envios,\n",
    "  \"  semilla=\", PARAM$semilla_primigenia,\n",
    "    \"'\" )\n",
    "\n",
    "  linea <- paste( comando, competencia, arch, mensaje)\n",
    "\n",
    "  salida <- system(linea, intern=TRUE) # el submit a Kaggle\n",
    "  cat(salida, \"\\n\")\n",
    "}"
   ]
  },
  {
   "cell_type": "code",
   "execution_count": 44,
   "metadata": {
    "id": "B9tB2X4439Hg"
   },
   "outputs": [],
   "source": [
    "write_yaml( PARAM, file=\"PARAM.yml\")"
   ]
  },
  {
   "cell_type": "code",
   "execution_count": 45,
   "metadata": {
    "id": "9zA_W25c15DP"
   },
   "outputs": [
    {
     "data": {
      "text/html": [
       "'Tue Jul 29 00:35:34 2025'"
      ],
      "text/latex": [
       "'Tue Jul 29 00:35:34 2025'"
      ],
      "text/markdown": [
       "'Tue Jul 29 00:35:34 2025'"
      ],
      "text/plain": [
       "[1] \"Tue Jul 29 00:35:34 2025\""
      ]
     },
     "metadata": {},
     "output_type": "display_data"
    }
   ],
   "source": [
    "format(Sys.time(), \"%a %b %d %X %Y\")"
   ]
  },
  {
   "cell_type": "markdown",
   "metadata": {
    "id": "UdVZucdLHzZ0"
   },
   "source": [
    "Finalmente usted deberá cargar el resultado de su corrida en la Google Sheet Colaborativa,  hoja **TareaHogar04**\n",
    "<br> Siéntase libre de agregar las columnas que hagan falta a la planilla"
   ]
  },
  {
   "cell_type": "code",
   "execution_count": null,
   "metadata": {
    "id": "WMHh7uNVIJkT"
   },
   "outputs": [],
   "source": []
  }
 ],
 "metadata": {
  "colab": {
   "provenance": []
  },
  "kernelspec": {
   "display_name": "R",
   "language": "R",
   "name": "ir"
  },
  "language_info": {
   "codemirror_mode": "r",
   "file_extension": ".r",
   "mimetype": "text/x-r-source",
   "name": "R",
   "pygments_lexer": "r",
   "version": "4.4.3"
  }
 },
 "nbformat": 4,
 "nbformat_minor": 4
}
